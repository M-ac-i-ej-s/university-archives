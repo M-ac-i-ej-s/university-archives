{
 "cells": [
  {
   "cell_type": "code",
   "execution_count": 64,
   "metadata": {},
   "outputs": [],
   "source": [
    "import pandas as pd\n",
    "from sklearn.model_selection import train_test_split\n",
    "from matplotlib import pyplot as plt\n",
    "import seaborn as sns\n",
    "import tensorflow as tf\n",
    "from sklearn import tree\n",
    "from sklearn.metrics import accuracy_score\n",
    "from sklearn.metrics import confusion_matrix, ConfusionMatrixDisplay\n",
    "from sklearn.neighbors import KNeighborsClassifier\n",
    "from sklearn.naive_bayes import GaussianNB\n",
    "from keras.models import Sequential\n",
    "from keras.layers import Dense \n",
    "from sklearn.decomposition import PCA\n",
    "from sklearn.preprocessing import MinMaxScaler"
   ]
  },
  {
   "cell_type": "code",
   "execution_count": 65,
   "metadata": {},
   "outputs": [],
   "source": [
    "data = pd.read_csv('weatherAUS.csv', sep=',')"
   ]
  },
  {
   "attachments": {},
   "cell_type": "markdown",
   "metadata": {},
   "source": [
    "Kolumny\n",
    "- Date\n",
    "- Location\n",
    "- MinTemp\n",
    "- MaxTemp\n",
    "- Rainfall\n",
    "- Evaporation\n",
    "- Sunshine\n",
    "- WindGustDir\n",
    "- WindGustSpeed\n",
    "- WindDir9am\n",
    "- WindDir3pm\n",
    "- WindSpeed9am\n",
    "- WindSpeed3pm\n",
    "- Humidity9am\n",
    "- Humidity3pm\n",
    "- Pressure9am\n",
    "- Pressure3pm\n",
    "- Cloud9am\n",
    "- Cloud3pm\n",
    "- Temp9am\n",
    "- Temp3pm\n",
    "- RainToday\n",
    "- RainTomorrow"
   ]
  },
  {
   "attachments": {},
   "cell_type": "markdown",
   "metadata": {},
   "source": [
    "Delete rows with duplicated values"
   ]
  },
  {
   "cell_type": "code",
   "execution_count": 66,
   "metadata": {},
   "outputs": [
    {
     "name": "stdout",
     "output_type": "stream",
     "text": [
      "(56420, 23)\n",
      "Date             0\n",
      "Location         0\n",
      "MinTemp          0\n",
      "MaxTemp          0\n",
      "Rainfall         0\n",
      "Evaporation      0\n",
      "Sunshine         0\n",
      "WindGustDir      0\n",
      "WindGustSpeed    0\n",
      "WindDir9am       0\n",
      "WindDir3pm       0\n",
      "WindSpeed9am     0\n",
      "WindSpeed3pm     0\n",
      "Humidity9am      0\n",
      "Humidity3pm      0\n",
      "Pressure9am      0\n",
      "Pressure3pm      0\n",
      "Cloud9am         0\n",
      "Cloud3pm         0\n",
      "Temp9am          0\n",
      "Temp3pm          0\n",
      "RainToday        0\n",
      "RainTomorrow     0\n",
      "dtype: int64\n"
     ]
    }
   ],
   "source": [
    "data = data.dropna(how='any')\n",
    "if data.duplicated().any():\n",
    "    data.drop_duplicates(inplace=True)\n",
    "\n",
    "print(data.shape)\n",
    "print(data.isnull().sum())"
   ]
  },
  {
   "attachments": {},
   "cell_type": "markdown",
   "metadata": {},
   "source": [
    "delete rows with missing values"
   ]
  },
  {
   "cell_type": "code",
   "execution_count": 67,
   "metadata": {},
   "outputs": [
    {
     "name": "stdout",
     "output_type": "stream",
     "text": [
      "(56420, 23)\n"
     ]
    }
   ],
   "source": [
    "\n",
    "data = data.dropna()\n",
    "print(data.shape)"
   ]
  },
  {
   "cell_type": "code",
   "execution_count": 68,
   "metadata": {},
   "outputs": [
    {
     "data": {
      "image/png": "[encoded data removed]",
      "text/plain": [
       "<Figure size 1000x500 with 1 Axes>"
      ]
     },
     "metadata": {},
     "output_type": "display_data"
    }
   ],
   "source": [
    "plt.figure(figsize=(10,5))\n",
    "plt.title('Rain the next day',fontsize=15)\n",
    "sns.countplot(x=data['RainTomorrow'],data=data)\n",
    "plt.xticks(rotation=30)\n",
    "plt.show()"
   ]
  },
  {
   "attachments": {},
   "cell_type": "markdown",
   "metadata": {},
   "source": [
    "The graphs show us the amount of false and true news, the scale is insignificant (almost 1:3), so the database is reliable"
   ]
  },
  {
   "cell_type": "code",
   "execution_count": 69,
   "metadata": {},
   "outputs": [],
   "source": [
    "res_data = data.drop([\"WindGustDir\", \"Location\", \"WindDir9am\",\"WindDir3pm\",'Sunshine','Evaporation','Cloud9am', 'Cloud3pm'], axis=1)\n",
    "\n",
    "for i,row in res_data.iterrows():\n",
    "    if row['RainToday']=='No':\n",
    "        #dataframe.at[index,'column-name']='new value'\n",
    "        res_data.at[i,'RainToday'] = 0\n",
    "    elif row['RainToday']=='Yes':\n",
    "        #at index i and column name\n",
    "        res_data.at[i,'RainToday'] = 1\n",
    "    #now seperately check other column still need elif cuz there are null variables\n",
    "    if row['RainTomorrow']=='No':\n",
    "        res_data.at[i, 'RainTomorrow'] = 0\n",
    "    elif row['RainTomorrow']=='Yes':\n",
    "        res_data.at[i, 'RainTomorrow'] = 1"
   ]
  },
  {
   "cell_type": "code",
   "execution_count": 70,
   "metadata": {},
   "outputs": [],
   "source": [
    "X = res_data.drop(['RainTomorrow', 'Date'], axis=1) \n",
    "y = res_data['RainTomorrow'].astype('int')\n",
    "X_train, X_test, y_train, y_test = train_test_split(X,y,test_size=0.2)\n",
    "\n",
    "X_train, X_test, y_train, y_test = train_test_split(X, y, train_size=0.7, random_state=278840)"
   ]
  },
  {
   "cell_type": "code",
   "execution_count": 71,
   "metadata": {},
   "outputs": [
    {
     "data": {
      "text/plain": [
       "[Text(0.6864076889080951, 0.9848484848484849, 'x[7] <= 69.5\\ngini = 0.343\\nsamples = 39494\\nvalue = [30795, 8699]'),\n",
       " Text(0.45348110504995687, 0.9545454545454546, 'x[7] <= 53.5\\ngini = 0.242\\nsamples = 33251\\nvalue = [28561, 4690]'),\n",
       " Text(0.242327064301949, 0.9242424242424242, 'x[3] <= 56.5\\ngini = 0.158\\nsamples = 22156\\nvalue = [20242, 1914]'),\n",
       " Text(0.13799491445554024, 0.8939393939393939, 'x[7] <= 42.5\\ngini = 0.121\\nsamples = 19596\\nvalue = [18325, 1271]'),\n",
       " Text(0.03886176291389652, 0.8636363636363636, 'x[9] <= 1007.65\\ngini = 0.082\\nsamples = 11975\\nvalue = [11459, 516]'),\n",
       " Text(0.012424166732249112, 0.8333333333333334, 'x[7] <= 25.5\\ngini = 0.2\\nsamples = 1144\\nvalue = [1015, 129]'),\n",
       " Text(0.006285649762363432, 0.803030303030303, 'x[3] <= 53.0\\ngini = 0.092\\nsamples = 576\\nvalue = [548, 28]'),\n",
       " Text(0.00446873085990563, 0.7727272727272727, 'x[8] <= 1013.75\\ngini = 0.07\\nsamples = 493\\nvalue = [475, 18]'),\n",
       " Text(0.0035175002480727314, 0.7424242424242424, 'x[4] <= 34.0\\ngini = 0.067\\nsamples = 491\\nvalue = [474, 17]'),\n",
       " Text(0.0022720040512843325, 0.7121212121212122, 'x[10] <= 17.85\\ngini = 0.063\\nsamples = 489\\nvalue = [473, 16]'),\n",
       " Text(0.00043797668458493157, 0.6818181818181818, 'x[9] <= 1001.7\\ngini = 0.269\\nsamples = 25\\nvalue = [21, 4]'),\n",
       " Text(0.00021898834229246579, 0.6515151515151515, 'gini = 0.0\\nsamples = 2\\nvalue = [0, 2]'),\n",
       " Text(0.0006569650268773974, 0.6515151515151515, 'x[4] <= 3.0\\ngini = 0.159\\nsamples = 23\\nvalue = [21, 2]'),\n",
       " Text(0.00043797668458493157, 0.6212121212121212, 'gini = 0.0\\nsamples = 1\\nvalue = [0, 1]'),\n",
       " Text(0.0008759533691698631, 0.6212121212121212, 'x[1] <= 34.6\\ngini = 0.087\\nsamples = 22\\nvalue = [21, 1]'),\n",
       " Text(0.0006569650268773974, 0.5909090909090909, 'gini = 0.0\\nsamples = 20\\nvalue = [20, 0]'),\n",
       " Text(0.0010949417114623288, 0.5909090909090909, 'x[4] <= 11.0\\ngini = 0.5\\nsamples = 2\\nvalue = [1, 1]'),\n",
       " Text(0.0008759533691698631, 0.5606060606060606, 'gini = 0.0\\nsamples = 1\\nvalue = [0, 1]'),\n",
       " Text(0.0013139300537547947, 0.5606060606060606, 'gini = 0.0\\nsamples = 1\\nvalue = [1, 0]'),\n",
       " Text(0.004106031417983733, 0.6818181818181818, 'x[3] <= 47.0\\ngini = 0.05\\nsamples = 464\\nvalue = [452, 12]'),\n",
       " Text(0.0024088717652171235, 0.6515151515151515, 'x[0] <= 11.35\\ngini = 0.025\\nsamples = 313\\nvalue = [309, 4]'),\n",
       " Text(0.0017519067383397263, 0.6212121212121212, 'x[9] <= 1002.7\\ngini = 0.153\\nsamples = 12\\nvalue = [11, 1]'),\n",
       " Text(0.0015329183960472604, 0.5909090909090909, 'gini = 0.0\\nsamples = 1\\nvalue = [0, 1]'),\n",
       " Text(0.001970895080632192, 0.5909090909090909, 'gini = 0.0\\nsamples = 11\\nvalue = [11, 0]'),\n",
       " Text(0.003065836792094521, 0.6212121212121212, 'x[10] <= 32.15\\ngini = 0.02\\nsamples = 301\\nvalue = [298, 3]'),\n",
       " Text(0.0024088717652171235, 0.5909090909090909, 'x[7] <= 22.5\\ngini = 0.008\\nsamples = 252\\nvalue = [251, 1]'),\n",
       " Text(0.0021898834229246576, 0.5606060606060606, 'gini = 0.0\\nsamples = 210\\nvalue = [210, 0]'),\n",
       " Text(0.0026278601075095894, 0.5606060606060606, 'x[6] <= 28.5\\ngini = 0.046\\nsamples = 42\\nvalue = [41, 1]'),\n",
       " Text(0.0024088717652171235, 0.5303030303030303, 'x[9] <= 1006.45\\ngini = 0.245\\nsamples = 7\\nvalue = [6, 1]'),\n",
       " Text(0.0021898834229246576, 0.5, 'gini = 0.0\\nsamples = 6\\nvalue = [6, 0]'),\n",
       " Text(0.0026278601075095894, 0.5, 'gini = 0.0\\nsamples = 1\\nvalue = [0, 1]'),\n",
       " Text(0.002846848449802055, 0.5303030303030303, 'gini = 0.0\\nsamples = 35\\nvalue = [35, 0]'),\n",
       " Text(0.003722801818971918, 0.5909090909090909, 'x[6] <= 36.0\\ngini = 0.078\\nsamples = 49\\nvalue = [47, 2]'),\n",
       " Text(0.0035038134766794526, 0.5606060606060606, 'x[5] <= 10.0\\ngini = 0.041\\nsamples = 48\\nvalue = [47, 1]'),\n",
       " Text(0.0032848251343869867, 0.5303030303030303, 'x[4] <= 18.5\\ngini = 0.245\\nsamples = 7\\nvalue = [6, 1]'),\n",
       " Text(0.003065836792094521, 0.5, 'gini = 0.0\\nsamples = 5\\nvalue = [5, 0]'),\n",
       " Text(0.0035038134766794526, 0.5, 'x[11] <= 40.25\\ngini = 0.5\\nsamples = 2\\nvalue = [1, 1]'),\n",
       " Text(0.0032848251343869867, 0.4696969696969697, 'gini = 0.0\\nsamples = 1\\nvalue = [0, 1]'),\n",
       " Text(0.003722801818971918, 0.4696969696969697, 'gini = 0.0\\nsamples = 1\\nvalue = [1, 0]'),\n",
       " Text(0.003722801818971918, 0.5303030303030303, 'gini = 0.0\\nsamples = 41\\nvalue = [41, 0]'),\n",
       " Text(0.003941790161264384, 0.5606060606060606, 'gini = 0.0\\nsamples = 1\\nvalue = [0, 1]'),\n",
       " Text(0.005803191070750343, 0.6515151515151515, 'x[8] <= 1010.75\\ngini = 0.1\\nsamples = 151\\nvalue = [143, 8]'),\n",
       " Text(0.005036731872726713, 0.6212121212121212, 'x[2] <= 0.3\\ngini = 0.046\\nsamples = 127\\nvalue = [124, 3]'),\n",
       " Text(0.004598755188141781, 0.5909090909090909, 'x[0] <= 16.25\\ngini = 0.033\\nsamples = 121\\nvalue = [119, 2]'),\n",
       " Text(0.004379766845849315, 0.5606060606060606, 'x[10] <= 28.5\\ngini = 0.172\\nsamples = 21\\nvalue = [19, 2]'),\n",
       " Text(0.004160778503556849, 0.5303030303030303, 'x[11] <= 37.15\\ngini = 0.095\\nsamples = 20\\nvalue = [19, 1]'),\n",
       " Text(0.003941790161264384, 0.5, 'gini = 0.0\\nsamples = 17\\nvalue = [17, 0]'),\n",
       " Text(0.004379766845849315, 0.5, 'x[1] <= 39.4\\ngini = 0.444\\nsamples = 3\\nvalue = [2, 1]'),\n",
       " Text(0.004160778503556849, 0.4696969696969697, 'gini = 0.0\\nsamples = 1\\nvalue = [0, 1]'),\n",
       " Text(0.004598755188141781, 0.4696969696969697, 'gini = 0.0\\nsamples = 2\\nvalue = [2, 0]'),\n",
       " Text(0.004598755188141781, 0.5303030303030303, 'gini = 0.0\\nsamples = 1\\nvalue = [0, 1]'),\n",
       " Text(0.004817743530434247, 0.5606060606060606, 'gini = 0.0\\nsamples = 100\\nvalue = [100, 0]'),\n",
       " Text(0.005474708557311645, 0.5909090909090909, 'x[6] <= 24.5\\ngini = 0.278\\nsamples = 6\\nvalue = [5, 1]'),\n",
       " Text(0.005255720215019179, 0.5606060606060606, 'gini = 0.0\\nsamples = 1\\nvalue = [0, 1]'),\n",
       " Text(0.00569369689960411, 0.5606060606060606, 'gini = 0.0\\nsamples = 5\\nvalue = [5, 0]'),\n",
       " Text(0.006569650268773973, 0.6212121212121212, 'x[0] <= 24.2\\ngini = 0.33\\nsamples = 24\\nvalue = [19, 5]'),\n",
       " Text(0.0063506619264815075, 0.5909090909090909, 'x[9] <= 1005.9\\ngini = 0.236\\nsamples = 22\\nvalue = [19, 3]'),\n",
       " Text(0.006131673584189042, 0.5606060606060606, 'gini = 0.0\\nsamples = 1\\nvalue = [0, 1]'),\n",
       " Text(0.006569650268773973, 0.5606060606060606, 'x[1] <= 33.25\\ngini = 0.172\\nsamples = 21\\nvalue = [19, 2]'),\n",
       " Text(0.006131673584189042, 0.5303030303030303, 'x[10] <= 21.05\\ngini = 0.5\\nsamples = 2\\nvalue = [1, 1]'),\n",
       " Text(0.005912685241896576, 0.5, 'gini = 0.0\\nsamples = 1\\nvalue = [0, 1]'),\n",
       " Text(0.0063506619264815075, 0.5, 'gini = 0.0\\nsamples = 1\\nvalue = [1, 0]'),\n",
       " Text(0.007007626953358905, 0.5303030303030303, 'x[6] <= 13.5\\ngini = 0.1\\nsamples = 19\\nvalue = [18, 1]'),\n",
       " Text(0.006788638611066439, 0.5, 'x[10] <= 33.8\\ngini = 0.5\\nsamples = 2\\nvalue = [1, 1]'),\n",
       " Text(0.006569650268773973, 0.4696969696969697, 'gini = 0.0\\nsamples = 1\\nvalue = [0, 1]'),\n",
       " Text(0.007007626953358905, 0.4696969696969697, 'gini = 0.0\\nsamples = 1\\nvalue = [1, 0]'),\n",
       " Text(0.00722661529565137, 0.5, 'gini = 0.0\\nsamples = 17\\nvalue = [17, 0]'),\n",
       " Text(0.006788638611066439, 0.5909090909090909, 'gini = 0.0\\nsamples = 2\\nvalue = [0, 2]'),\n",
       " Text(0.004762996444861131, 0.7121212121212122, 'x[11] <= 37.6\\ngini = 0.5\\nsamples = 2\\nvalue = [1, 1]'),\n",
       " Text(0.004544008102568665, 0.6818181818181818, 'gini = 0.0\\nsamples = 1\\nvalue = [0, 1]'),\n",
       " Text(0.004981984787153597, 0.6818181818181818, 'gini = 0.0\\nsamples = 1\\nvalue = [1, 0]'),\n",
       " Text(0.005419961471738528, 0.7424242424242424, 'x[9] <= 1007.35\\ngini = 0.5\\nsamples = 2\\nvalue = [1, 1]'),\n",
       " Text(0.005200973129446062, 0.7121212121212122, 'gini = 0.0\\nsamples = 1\\nvalue = [1, 0]'),\n",
       " Text(0.0056389498140309935, 0.7121212121212122, 'gini = 0.0\\nsamples = 1\\nvalue = [0, 1]'),\n",
       " Text(0.008102568664821234, 0.7727272727272727, 'x[10] <= 29.65\\ngini = 0.212\\nsamples = 83\\nvalue = [73, 10]'),\n",
       " Text(0.007445603637943836, 0.7424242424242424, 'x[4] <= 37.0\\ngini = 0.094\\nsamples = 61\\nvalue = [58, 3]'),\n",
       " Text(0.00722661529565137, 0.7121212121212122, 'x[7] <= 20.5\\ngini = 0.064\\nsamples = 60\\nvalue = [58, 2]'),\n",
       " Text(0.007007626953358905, 0.6818181818181818, 'gini = 0.0\\nsamples = 45\\nvalue = [45, 0]'),\n",
       " Text(0.007445603637943836, 0.6818181818181818, 'x[8] <= 1011.6\\ngini = 0.231\\nsamples = 15\\nvalue = [13, 2]'),\n",
       " Text(0.00722661529565137, 0.6515151515151515, 'x[6] <= 57.0\\ngini = 0.133\\nsamples = 14\\nvalue = [13, 1]'),\n",
       " Text(0.007007626953358905, 0.6212121212121212, 'gini = 0.0\\nsamples = 12\\nvalue = [12, 0]'),\n",
       " Text(0.007445603637943836, 0.6212121212121212, 'x[11] <= 33.85\\ngini = 0.5\\nsamples = 2\\nvalue = [1, 1]'),\n",
       " Text(0.00722661529565137, 0.5909090909090909, 'gini = 0.0\\nsamples = 1\\nvalue = [0, 1]'),\n",
       " Text(0.007664591980236302, 0.5909090909090909, 'gini = 0.0\\nsamples = 1\\nvalue = [1, 0]'),\n",
       " Text(0.007664591980236302, 0.6515151515151515, 'gini = 0.0\\nsamples = 1\\nvalue = [0, 1]'),\n",
       " Text(0.007664591980236302, 0.7121212121212122, 'gini = 0.0\\nsamples = 1\\nvalue = [0, 1]'),\n",
       " Text(0.00875953369169863, 0.7424242424242424, 'x[5] <= 30.5\\ngini = 0.434\\nsamples = 22\\nvalue = [15, 7]'),\n",
       " Text(0.008540545349406166, 0.7121212121212122, 'x[5] <= 19.5\\ngini = 0.375\\nsamples = 20\\nvalue = [15, 5]'),\n",
       " Text(0.008321557007113699, 0.6818181818181818, 'x[11] <= 42.4\\ngini = 0.5\\nsamples = 10\\nvalue = [5, 5]'),\n",
       " Text(0.008102568664821234, 0.6515151515151515, 'x[9] <= 1003.2\\ngini = 0.469\\nsamples = 8\\nvalue = [3, 5]'),\n",
       " Text(0.007883580322528769, 0.6212121212121212, 'gini = 0.0\\nsamples = 2\\nvalue = [2, 0]'),\n",
       " Text(0.008321557007113699, 0.6212121212121212, 'x[0] <= 19.15\\ngini = 0.278\\nsamples = 6\\nvalue = [1, 5]'),\n",
       " Text(0.008102568664821234, 0.5909090909090909, 'gini = 0.0\\nsamples = 1\\nvalue = [1, 0]'),\n",
       " Text(0.008540545349406166, 0.5909090909090909, 'gini = 0.0\\nsamples = 5\\nvalue = [0, 5]'),\n",
       " Text(0.008540545349406166, 0.6515151515151515, 'gini = 0.0\\nsamples = 2\\nvalue = [2, 0]'),\n",
       " Text(0.00875953369169863, 0.6818181818181818, 'gini = 0.0\\nsamples = 10\\nvalue = [10, 0]'),\n",
       " Text(0.008978522033991097, 0.7121212121212122, 'gini = 0.0\\nsamples = 2\\nvalue = [0, 2]'),\n",
       " Text(0.018562683702134795, 0.803030303030303, 'x[8] <= 1011.35\\ngini = 0.292\\nsamples = 568\\nvalue = [467, 101]'),\n",
       " Text(0.013803108950121983, 0.7727272727272727, 'x[9] <= 1002.85\\ngini = 0.256\\nsamples = 510\\nvalue = [433, 77]'),\n",
       " Text(0.011524261513141012, 0.7424242424242424, 'x[5] <= 23.0\\ngini = 0.428\\nsamples = 87\\nvalue = [60, 27]'),\n",
       " Text(0.010566187515611473, 0.7121212121212122, 'x[8] <= 1006.45\\ngini = 0.486\\nsamples = 53\\nvalue = [31, 22]'),\n",
       " Text(0.009744981232014727, 0.6818181818181818, 'x[9] <= 999.55\\ngini = 0.439\\nsamples = 43\\nvalue = [29, 14]'),\n",
       " Text(0.008978522033991097, 0.6515151515151515, 'x[3] <= 36.0\\ngini = 0.397\\nsamples = 11\\nvalue = [3, 8]'),\n",
       " Text(0.00875953369169863, 0.6212121212121212, 'gini = 0.0\\nsamples = 2\\nvalue = [2, 0]'),\n",
       " Text(0.009197510376283562, 0.6212121212121212, 'x[1] <= 19.95\\ngini = 0.198\\nsamples = 9\\nvalue = [1, 8]'),\n",
       " Text(0.008978522033991097, 0.5909090909090909, 'gini = 0.0\\nsamples = 1\\nvalue = [1, 0]'),\n",
       " Text(0.009416498718576029, 0.5909090909090909, 'gini = 0.0\\nsamples = 8\\nvalue = [0, 8]'),\n",
       " Text(0.010511440430038358, 0.6515151515151515, 'x[7] <= 30.0\\ngini = 0.305\\nsamples = 32\\nvalue = [26, 6]'),\n",
       " Text(0.010073463745453426, 0.6212121212121212, 'x[1] <= 31.8\\ngini = 0.408\\nsamples = 7\\nvalue = [2, 5]'),\n",
       " Text(0.00985447540316096, 0.5909090909090909, 'x[11] <= 28.25\\ngini = 0.444\\nsamples = 3\\nvalue = [2, 1]'),\n",
       " Text(0.009635487060868494, 0.5606060606060606, 'gini = 0.0\\nsamples = 1\\nvalue = [0, 1]'),\n",
       " Text(0.010073463745453426, 0.5606060606060606, 'gini = 0.0\\nsamples = 2\\nvalue = [2, 0]'),\n",
       " Text(0.010292452087745891, 0.5909090909090909, 'gini = 0.0\\nsamples = 4\\nvalue = [0, 4]'),\n",
       " Text(0.01094941711462329, 0.6212121212121212, 'x[4] <= 5.0\\ngini = 0.077\\nsamples = 25\\nvalue = [24, 1]'),\n",
       " Text(0.010730428772330823, 0.5909090909090909, 'x[5] <= 15.0\\ngini = 0.444\\nsamples = 3\\nvalue = [2, 1]'),\n",
       " Text(0.010511440430038358, 0.5606060606060606, 'gini = 0.0\\nsamples = 2\\nvalue = [2, 0]'),\n",
       " Text(0.01094941711462329, 0.5606060606060606, 'gini = 0.0\\nsamples = 1\\nvalue = [0, 1]'),\n",
       " Text(0.011168405456915755, 0.5909090909090909, 'gini = 0.0\\nsamples = 22\\nvalue = [22, 0]'),\n",
       " Text(0.01138739379920822, 0.6818181818181818, 'x[7] <= 27.0\\ngini = 0.32\\nsamples = 10\\nvalue = [2, 8]'),\n",
       " Text(0.011168405456915755, 0.6515151515151515, 'gini = 0.0\\nsamples = 1\\nvalue = [1, 0]'),\n",
       " Text(0.011606382141500686, 0.6515151515151515, 'x[2] <= 2.9\\ngini = 0.198\\nsamples = 9\\nvalue = [1, 8]'),\n",
       " Text(0.01138739379920822, 0.6212121212121212, 'gini = 0.0\\nsamples = 7\\nvalue = [0, 7]'),\n",
       " Text(0.011825370483793151, 0.6212121212121212, 'x[3] <= 43.5\\ngini = 0.5\\nsamples = 2\\nvalue = [1, 1]'),\n",
       " Text(0.011606382141500686, 0.5909090909090909, 'gini = 0.0\\nsamples = 1\\nvalue = [1, 0]'),\n",
       " Text(0.012044358826085618, 0.5909090909090909, 'gini = 0.0\\nsamples = 1\\nvalue = [0, 1]'),\n",
       " Text(0.01248233551067055, 0.7121212121212122, 'x[6] <= 61.5\\ngini = 0.251\\nsamples = 34\\nvalue = [29, 5]'),\n",
       " Text(0.012263347168378083, 0.6818181818181818, 'x[6] <= 55.5\\ngini = 0.375\\nsamples = 20\\nvalue = [15, 5]'),\n",
       " Text(0.012044358826085618, 0.6515151515151515, 'gini = 0.0\\nsamples = 12\\nvalue = [12, 0]'),\n",
       " Text(0.01248233551067055, 0.6515151515151515, 'x[9] <= 999.05\\ngini = 0.469\\nsamples = 8\\nvalue = [3, 5]'),\n",
       " Text(0.012263347168378083, 0.6212121212121212, 'gini = 0.0\\nsamples = 3\\nvalue = [3, 0]'),\n",
       " Text(0.012701323852963015, 0.6212121212121212, 'gini = 0.0\\nsamples = 5\\nvalue = [0, 5]'),\n",
       " Text(0.012701323852963015, 0.6818181818181818, 'gini = 0.0\\nsamples = 14\\nvalue = [14, 0]'),\n",
       " Text(0.016081956387102955, 0.7424242424242424, 'x[3] <= 42.0\\ngini = 0.208\\nsamples = 423\\nvalue = [373, 50]'),\n",
       " Text(0.014179495163437158, 0.7121212121212122, 'x[2] <= 39.2\\ngini = 0.11\\nsamples = 188\\nvalue = [177, 11]'),\n",
       " Text(0.013960506821144693, 0.6818181818181818, 'x[0] <= 4.75\\ngini = 0.101\\nsamples = 187\\nvalue = [177, 10]'),\n",
       " Text(0.013741518478852228, 0.6515151515151515, 'gini = 0.0\\nsamples = 1\\nvalue = [0, 1]'),\n",
       " Text(0.014179495163437158, 0.6515151515151515, 'x[6] <= 77.5\\ngini = 0.092\\nsamples = 186\\nvalue = [177, 9]'),\n",
       " Text(0.01324879470869418, 0.6212121212121212, 'x[4] <= 29.0\\ngini = 0.067\\nsamples = 172\\nvalue = [166, 6]'),\n",
       " Text(0.01248233551067055, 0.5909090909090909, 'x[4] <= 3.0\\ngini = 0.057\\nsamples = 170\\nvalue = [165, 5]'),\n",
       " Text(0.011606382141500686, 0.5606060606060606, 'x[1] <= 28.65\\ngini = 0.375\\nsamples = 8\\nvalue = [6, 2]'),\n",
       " Text(0.01138739379920822, 0.5303030303030303, 'x[10] <= 20.2\\ngini = 0.444\\nsamples = 3\\nvalue = [1, 2]'),\n",
       " Text(0.011168405456915755, 0.5, 'gini = 0.0\\nsamples = 2\\nvalue = [0, 2]'),\n",
       " Text(0.011606382141500686, 0.5, 'gini = 0.0\\nsamples = 1\\nvalue = [1, 0]'),\n",
       " Text(0.011825370483793151, 0.5303030303030303, 'gini = 0.0\\nsamples = 5\\nvalue = [5, 0]'),\n",
       " Text(0.013358288879840412, 0.5606060606060606, 'x[1] <= 38.6\\ngini = 0.036\\nsamples = 162\\nvalue = [159, 3]'),\n",
       " Text(0.012701323852963015, 0.5303030303030303, 'x[8] <= 1004.7\\ngini = 0.025\\nsamples = 159\\nvalue = [157, 2]'),\n",
       " Text(0.012044358826085618, 0.5, 'x[9] <= 1004.1\\ngini = 0.375\\nsamples = 4\\nvalue = [3, 1]'),\n",
       " Text(0.011825370483793151, 0.4696969696969697, 'gini = 0.0\\nsamples = 2\\nvalue = [2, 0]'),\n",
       " Text(0.012263347168378083, 0.4696969696969697, 'x[7] <= 33.0\\ngini = 0.5\\nsamples = 2\\nvalue = [1, 1]'),\n",
       " Text(0.012044358826085618, 0.4393939393939394, 'gini = 0.0\\nsamples = 1\\nvalue = [1, 0]'),\n",
       " Text(0.01248233551067055, 0.4393939393939394, 'gini = 0.0\\nsamples = 1\\nvalue = [0, 1]'),\n",
       " Text(0.013358288879840412, 0.5, 'x[0] <= 11.3\\ngini = 0.013\\nsamples = 155\\nvalue = [154, 1]'),\n",
       " Text(0.013139300537547947, 0.4696969696969697, 'x[0] <= 10.95\\ngini = 0.124\\nsamples = 15\\nvalue = [14, 1]'),\n",
       " Text(0.01292031219525548, 0.4393939393939394, 'gini = 0.0\\nsamples = 13\\nvalue = [13, 0]'),\n",
       " Text(0.013358288879840412, 0.4393939393939394, 'x[11] <= 24.4\\ngini = 0.5\\nsamples = 2\\nvalue = [1, 1]'),\n",
       " Text(0.013139300537547947, 0.4090909090909091, 'gini = 0.0\\nsamples = 1\\nvalue = [1, 0]'),\n",
       " Text(0.013577277222132879, 0.4090909090909091, 'gini = 0.0\\nsamples = 1\\nvalue = [0, 1]'),\n",
       " Text(0.013577277222132879, 0.4696969696969697, 'gini = 0.0\\nsamples = 140\\nvalue = [140, 0]'),\n",
       " Text(0.01401525390671781, 0.5303030303030303, 'x[7] <= 29.5\\ngini = 0.444\\nsamples = 3\\nvalue = [2, 1]'),\n",
       " Text(0.013796265564425344, 0.5, 'gini = 0.0\\nsamples = 2\\nvalue = [2, 0]'),\n",
       " Text(0.014234242249010275, 0.5, 'gini = 0.0\\nsamples = 1\\nvalue = [0, 1]'),\n",
       " Text(0.01401525390671781, 0.5909090909090909, 'x[2] <= 0.7\\ngini = 0.5\\nsamples = 2\\nvalue = [1, 1]'),\n",
       " Text(0.013796265564425344, 0.5606060606060606, 'gini = 0.0\\nsamples = 1\\nvalue = [0, 1]'),\n",
       " Text(0.014234242249010275, 0.5606060606060606, 'gini = 0.0\\nsamples = 1\\nvalue = [1, 0]'),\n",
       " Text(0.015110195618180139, 0.6212121212121212, 'x[7] <= 35.5\\ngini = 0.337\\nsamples = 14\\nvalue = [11, 3]'),\n",
       " Text(0.014891207275887672, 0.5909090909090909, 'x[6] <= 86.5\\ngini = 0.48\\nsamples = 5\\nvalue = [2, 3]'),\n",
       " Text(0.014672218933595207, 0.5606060606060606, 'gini = 0.0\\nsamples = 3\\nvalue = [0, 3]'),\n",
       " Text(0.015110195618180139, 0.5606060606060606, 'gini = 0.0\\nsamples = 2\\nvalue = [2, 0]'),\n",
       " Text(0.015329183960472604, 0.5909090909090909, 'gini = 0.0\\nsamples = 9\\nvalue = [9, 0]'),\n",
       " Text(0.014398483505729625, 0.6818181818181818, 'gini = 0.0\\nsamples = 1\\nvalue = [0, 1]'),\n",
       " Text(0.01798441761076875, 0.7121212121212122, 'x[8] <= 1010.05\\ngini = 0.277\\nsamples = 235\\nvalue = [196, 39]'),\n",
       " Text(0.016369378586361817, 0.6818181818181818, 'x[6] <= 29.5\\ngini = 0.227\\nsamples = 184\\nvalue = [160, 24]'),\n",
       " Text(0.015821907730630653, 0.6515151515151515, 'x[5] <= 25.0\\ngini = 0.48\\nsamples = 5\\nvalue = [2, 3]'),\n",
       " Text(0.015602919388338186, 0.6212121212121212, 'gini = 0.0\\nsamples = 3\\nvalue = [0, 3]'),\n",
       " Text(0.016040896072923118, 0.6212121212121212, 'gini = 0.0\\nsamples = 2\\nvalue = [2, 0]'),\n",
       " Text(0.01691684944209298, 0.6515151515151515, 'x[0] <= 25.65\\ngini = 0.207\\nsamples = 179\\nvalue = [158, 21]'),\n",
       " Text(0.016478872757508048, 0.6212121212121212, 'x[8] <= 1002.55\\ngini = 0.193\\nsamples = 176\\nvalue = [157, 19]'),\n",
       " Text(0.016259884415215583, 0.5909090909090909, 'gini = 0.0\\nsamples = 1\\nvalue = [0, 1]'),\n",
       " Text(0.016697861099800516, 0.5909090909090909, 'x[9] <= 1003.55\\ngini = 0.185\\nsamples = 175\\nvalue = [157, 18]'),\n",
       " Text(0.01554817230276507, 0.5606060606060606, 'x[5] <= 21.0\\ngini = 0.375\\nsamples = 20\\nvalue = [15, 5]'),\n",
       " Text(0.015329183960472604, 0.5303030303030303, 'x[5] <= 15.0\\ngini = 0.408\\nsamples = 7\\nvalue = [2, 5]'),\n",
       " Text(0.015110195618180139, 0.5, 'x[1] <= 28.5\\ngini = 0.444\\nsamples = 3\\nvalue = [2, 1]'),\n",
       " Text(0.014891207275887672, 0.4696969696969697, 'gini = 0.0\\nsamples = 1\\nvalue = [0, 1]'),\n",
       " Text(0.015329183960472604, 0.4696969696969697, 'gini = 0.0\\nsamples = 2\\nvalue = [2, 0]'),\n",
       " Text(0.01554817230276507, 0.5, 'gini = 0.0\\nsamples = 4\\nvalue = [0, 4]'),\n",
       " Text(0.015767160645057537, 0.5303030303030303, 'gini = 0.0\\nsamples = 13\\nvalue = [13, 0]'),\n",
       " Text(0.01784754989683596, 0.5606060606060606, 'x[7] <= 41.5\\ngini = 0.154\\nsamples = 155\\nvalue = [142, 13]'),\n",
       " Text(0.01708109069881233, 0.5303030303030303, 'x[3] <= 51.0\\ngini = 0.129\\nsamples = 144\\nvalue = [134, 10]'),\n",
       " Text(0.016205137329642468, 0.5, 'x[5] <= 16.0\\ngini = 0.059\\nsamples = 99\\nvalue = [96, 3]'),\n",
       " Text(0.015767160645057537, 0.4696969696969697, 'x[9] <= 1007.25\\ngini = 0.231\\nsamples = 15\\nvalue = [13, 2]'),\n",
       " Text(0.01554817230276507, 0.4393939393939394, 'x[0] <= 12.0\\ngini = 0.133\\nsamples = 14\\nvalue = [13, 1]'),\n",
       " Text(0.015329183960472604, 0.4090909090909091, 'x[0] <= 10.25\\ngini = 0.5\\nsamples = 2\\nvalue = [1, 1]'),\n",
       " Text(0.015110195618180139, 0.3787878787878788, 'gini = 0.0\\nsamples = 1\\nvalue = [1, 0]'),\n",
       " Text(0.01554817230276507, 0.3787878787878788, 'gini = 0.0\\nsamples = 1\\nvalue = [0, 1]'),\n",
       " Text(0.015767160645057537, 0.4090909090909091, 'gini = 0.0\\nsamples = 12\\nvalue = [12, 0]'),\n",
       " Text(0.015986148987350002, 0.4393939393939394, 'gini = 0.0\\nsamples = 1\\nvalue = [0, 1]'),\n",
       " Text(0.016643114014227398, 0.4696969696969697, 'x[10] <= 29.85\\ngini = 0.024\\nsamples = 84\\nvalue = [83, 1]'),\n",
       " Text(0.016424125671934933, 0.4393939393939394, 'gini = 0.0\\nsamples = 79\\nvalue = [79, 0]'),\n",
       " Text(0.016862102356519866, 0.4393939393939394, 'x[10] <= 30.55\\ngini = 0.32\\nsamples = 5\\nvalue = [4, 1]'),\n",
       " Text(0.016643114014227398, 0.4090909090909091, 'gini = 0.0\\nsamples = 1\\nvalue = [0, 1]'),\n",
       " Text(0.01708109069881233, 0.4090909090909091, 'gini = 0.0\\nsamples = 4\\nvalue = [4, 0]'),\n",
       " Text(0.017957044067982195, 0.5, 'x[6] <= 32.0\\ngini = 0.263\\nsamples = 45\\nvalue = [38, 7]'),\n",
       " Text(0.017738055725689726, 0.4696969696969697, 'gini = 0.0\\nsamples = 1\\nvalue = [0, 1]'),\n",
       " Text(0.01817603241027466, 0.4696969696969697, 'x[4] <= 21.0\\ngini = 0.236\\nsamples = 44\\nvalue = [38, 6]'),\n",
       " Text(0.017957044067982195, 0.4393939393939394, 'x[4] <= 18.0\\ngini = 0.337\\nsamples = 28\\nvalue = [22, 6]'),\n",
       " Text(0.01751906738339726, 0.4090909090909091, 'x[6] <= 37.5\\ngini = 0.172\\nsamples = 21\\nvalue = [19, 2]'),\n",
       " Text(0.017300079041104796, 0.3787878787878788, 'gini = 0.0\\nsamples = 1\\nvalue = [0, 1]'),\n",
       " Text(0.017738055725689726, 0.3787878787878788, 'x[4] <= 6.5\\ngini = 0.095\\nsamples = 20\\nvalue = [19, 1]'),\n",
       " Text(0.01751906738339726, 0.3484848484848485, 'x[8] <= 1008.2\\ngini = 0.5\\nsamples = 2\\nvalue = [1, 1]'),\n",
       " Text(0.017300079041104796, 0.3181818181818182, 'gini = 0.0\\nsamples = 1\\nvalue = [0, 1]'),\n",
       " Text(0.017738055725689726, 0.3181818181818182, 'gini = 0.0\\nsamples = 1\\nvalue = [1, 0]'),\n",
       " Text(0.017957044067982195, 0.3484848484848485, 'gini = 0.0\\nsamples = 18\\nvalue = [18, 0]'),\n",
       " Text(0.018395020752567125, 0.4090909090909091, 'x[7] <= 32.5\\ngini = 0.49\\nsamples = 7\\nvalue = [3, 4]'),\n",
       " Text(0.01817603241027466, 0.3787878787878788, 'gini = 0.0\\nsamples = 3\\nvalue = [0, 3]'),\n",
       " Text(0.01861400909485959, 0.3787878787878788, 'x[0] <= 14.8\\ngini = 0.375\\nsamples = 4\\nvalue = [3, 1]'),\n",
       " Text(0.018395020752567125, 0.3484848484848485, 'gini = 0.0\\nsamples = 1\\nvalue = [0, 1]'),\n",
       " Text(0.018832997437152058, 0.3484848484848485, 'gini = 0.0\\nsamples = 3\\nvalue = [3, 0]'),\n",
       " Text(0.018395020752567125, 0.4393939393939394, 'gini = 0.0\\nsamples = 16\\nvalue = [16, 0]'),\n",
       " Text(0.01861400909485959, 0.5303030303030303, 'x[8] <= 1008.65\\ngini = 0.397\\nsamples = 11\\nvalue = [8, 3]'),\n",
       " Text(0.018395020752567125, 0.5, 'gini = 0.0\\nsamples = 7\\nvalue = [7, 0]'),\n",
       " Text(0.018832997437152058, 0.5, 'x[10] <= 14.35\\ngini = 0.375\\nsamples = 4\\nvalue = [1, 3]'),\n",
       " Text(0.01861400909485959, 0.4696969696969697, 'gini = 0.0\\nsamples = 1\\nvalue = [1, 0]'),\n",
       " Text(0.019051985779444523, 0.4696969696969697, 'gini = 0.0\\nsamples = 3\\nvalue = [0, 3]'),\n",
       " Text(0.01735482612667791, 0.6212121212121212, 'x[2] <= 1.3\\ngini = 0.444\\nsamples = 3\\nvalue = [1, 2]'),\n",
       " Text(0.017135837784385446, 0.5909090909090909, 'gini = 0.0\\nsamples = 2\\nvalue = [0, 2]'),\n",
       " Text(0.01757381446897038, 0.5909090909090909, 'gini = 0.0\\nsamples = 1\\nvalue = [1, 0]'),\n",
       " Text(0.019599456635175688, 0.6818181818181818, 'x[0] <= 12.75\\ngini = 0.415\\nsamples = 51\\nvalue = [36, 15]'),\n",
       " Text(0.018723503266005824, 0.6515151515151515, 'x[4] <= 11.0\\ngini = 0.5\\nsamples = 18\\nvalue = [9, 9]'),\n",
       " Text(0.01828552658142089, 0.6212121212121212, 'x[7] <= 27.5\\ngini = 0.346\\nsamples = 9\\nvalue = [2, 7]'),\n",
       " Text(0.018066538239128425, 0.5909090909090909, 'gini = 0.0\\nsamples = 1\\nvalue = [1, 0]'),\n",
       " Text(0.01850451492371336, 0.5909090909090909, 'x[9] <= 1007.55\\ngini = 0.219\\nsamples = 8\\nvalue = [1, 7]'),\n",
       " Text(0.01828552658142089, 0.5606060606060606, 'gini = 0.0\\nsamples = 7\\nvalue = [0, 7]'),\n",
       " Text(0.018723503266005824, 0.5606060606060606, 'gini = 0.0\\nsamples = 1\\nvalue = [1, 0]'),\n",
       " Text(0.019161479950590754, 0.6212121212121212, 'x[9] <= 1006.95\\ngini = 0.346\\nsamples = 9\\nvalue = [7, 2]'),\n",
       " Text(0.01894249160829829, 0.5909090909090909, 'gini = 0.0\\nsamples = 7\\nvalue = [7, 0]'),\n",
       " Text(0.019380468292883223, 0.5909090909090909, 'gini = 0.0\\nsamples = 2\\nvalue = [0, 2]'),\n",
       " Text(0.02047541000434555, 0.6515151515151515, 'x[2] <= 0.3\\ngini = 0.298\\nsamples = 33\\nvalue = [27, 6]'),\n",
       " Text(0.020037433319760618, 0.6212121212121212, 'x[1] <= 33.15\\ngini = 0.185\\nsamples = 29\\nvalue = [26, 3]'),\n",
       " Text(0.019818444977468153, 0.5909090909090909, 'x[0] <= 18.55\\ngini = 0.355\\nsamples = 13\\nvalue = [10, 3]'),\n",
       " Text(0.019599456635175688, 0.5606060606060606, 'gini = 0.0\\nsamples = 9\\nvalue = [9, 0]'),\n",
       " Text(0.020037433319760618, 0.5606060606060606, 'x[5] <= 23.0\\ngini = 0.375\\nsamples = 4\\nvalue = [1, 3]'),\n",
       " Text(0.019818444977468153, 0.5303030303030303, 'gini = 0.0\\nsamples = 3\\nvalue = [0, 3]'),\n",
       " Text(0.020256421662053083, 0.5303030303030303, 'gini = 0.0\\nsamples = 1\\nvalue = [1, 0]'),\n",
       " Text(0.020256421662053083, 0.5909090909090909, 'gini = 0.0\\nsamples = 16\\nvalue = [16, 0]'),\n",
       " Text(0.02091338668893048, 0.6212121212121212, 'x[4] <= 13.0\\ngini = 0.375\\nsamples = 4\\nvalue = [1, 3]'),\n",
       " Text(0.020694398346638016, 0.5909090909090909, 'gini = 0.0\\nsamples = 1\\nvalue = [1, 0]'),\n",
       " Text(0.021132375031222946, 0.5909090909090909, 'gini = 0.0\\nsamples = 3\\nvalue = [0, 3]'),\n",
       " Text(0.023322258454147603, 0.7727272727272727, 'x[2] <= 0.5\\ngini = 0.485\\nsamples = 58\\nvalue = [34, 24]'),\n",
       " Text(0.02310327011185514, 0.7424242424242424, 'x[4] <= 29.0\\ngini = 0.466\\nsamples = 54\\nvalue = [34, 20]'),\n",
       " Text(0.022884281769562673, 0.7121212121212122, 'x[7] <= 37.5\\ngini = 0.435\\nsamples = 50\\nvalue = [34, 16]'),\n",
       " Text(0.022446305084977743, 0.6818181818181818, 'x[5] <= 27.0\\ngini = 0.375\\nsamples = 40\\nvalue = [30, 10]'),\n",
       " Text(0.022227316742685275, 0.6515151515151515, 'x[5] <= 25.0\\ngini = 0.437\\nsamples = 31\\nvalue = [21, 10]'),\n",
       " Text(0.02200832840039281, 0.6212121212121212, 'x[9] <= 1006.9\\ngini = 0.375\\nsamples = 28\\nvalue = [21, 7]'),\n",
       " Text(0.02157035171580788, 0.5909090909090909, 'x[6] <= 47.5\\ngini = 0.494\\nsamples = 9\\nvalue = [4, 5]'),\n",
       " Text(0.021351363373515415, 0.5606060606060606, 'gini = 0.0\\nsamples = 2\\nvalue = [2, 0]'),\n",
       " Text(0.021789340058100345, 0.5606060606060606, 'x[7] <= 28.0\\ngini = 0.408\\nsamples = 7\\nvalue = [2, 5]'),\n",
       " Text(0.02157035171580788, 0.5303030303030303, 'gini = 0.0\\nsamples = 2\\nvalue = [2, 0]'),\n",
       " Text(0.02200832840039281, 0.5303030303030303, 'gini = 0.0\\nsamples = 5\\nvalue = [0, 5]'),\n",
       " Text(0.022446305084977743, 0.5909090909090909, 'x[5] <= 21.0\\ngini = 0.188\\nsamples = 19\\nvalue = [17, 2]'),\n",
       " Text(0.022227316742685275, 0.5606060606060606, 'gini = 0.0\\nsamples = 14\\nvalue = [14, 0]'),\n",
       " Text(0.02266529342727021, 0.5606060606060606, 'x[8] <= 1012.3\\ngini = 0.48\\nsamples = 5\\nvalue = [3, 2]'),\n",
       " Text(0.022446305084977743, 0.5303030303030303, 'gini = 0.0\\nsamples = 2\\nvalue = [0, 2]'),\n",
       " Text(0.022884281769562673, 0.5303030303030303, 'gini = 0.0\\nsamples = 3\\nvalue = [3, 0]'),\n",
       " Text(0.022446305084977743, 0.6212121212121212, 'gini = 0.0\\nsamples = 3\\nvalue = [0, 3]'),\n",
       " Text(0.02266529342727021, 0.6515151515151515, 'gini = 0.0\\nsamples = 9\\nvalue = [9, 0]'),\n",
       " Text(0.023322258454147603, 0.6818181818181818, 'x[6] <= 68.0\\ngini = 0.48\\nsamples = 10\\nvalue = [4, 6]'),\n",
       " Text(0.02310327011185514, 0.6515151515151515, 'gini = 0.0\\nsamples = 6\\nvalue = [0, 6]'),\n",
       " Text(0.023541246796440072, 0.6515151515151515, 'gini = 0.0\\nsamples = 4\\nvalue = [4, 0]'),\n",
       " Text(0.023322258454147603, 0.7121212121212122, 'gini = 0.0\\nsamples = 4\\nvalue = [0, 4]'),\n",
       " Text(0.023541246796440072, 0.7424242424242424, 'gini = 0.0\\nsamples = 4\\nvalue = [0, 4]'),\n",
       " Text(0.06529935909554394, 0.8333333333333334, 'x[7] <= 27.5\\ngini = 0.069\\nsamples = 10831\\nvalue = [10444, 387]'),\n",
       " Text(0.03801800152607501, 0.803030303030303, 'x[7] <= 22.5\\ngini = 0.029\\nsamples = 4572\\nvalue = [4504, 68]'),\n",
       " Text(0.03208264756905831, 0.7727272727272727, 'x[6] <= 83.5\\ngini = 0.021\\nsamples = 3042\\nvalue = [3010, 32]'),\n",
       " Text(0.029770438626806225, 0.7424242424242424, 'x[0] <= 25.65\\ngini = 0.02\\nsamples = 3024\\nvalue = [2994, 30]'),\n",
       " Text(0.02689792748064177, 0.7121212121212122, 'x[5] <= 14.0\\ngini = 0.018\\nsamples = 3002\\nvalue = [2974, 28]'),\n",
       " Text(0.024417200165609936, 0.6818181818181818, 'x[11] <= 37.05\\ngini = 0.004\\nsamples = 1121\\nvalue = [1119, 2]'),\n",
       " Text(0.023979223481025002, 0.6515151515151515, 'x[0] <= 7.85\\ngini = 0.002\\nsamples = 1018\\nvalue = [1017, 1]'),\n",
       " Text(0.023760235138732537, 0.6212121212121212, 'x[10] <= 21.15\\ngini = 0.009\\nsamples = 211\\nvalue = [210, 1]'),\n",
       " Text(0.023541246796440072, 0.5909090909090909, 'gini = 0.0\\nsamples = 207\\nvalue = [207, 0]'),\n",
       " Text(0.023979223481025002, 0.5909090909090909, 'x[0] <= 7.65\\ngini = 0.375\\nsamples = 4\\nvalue = [3, 1]'),\n",
       " Text(0.023760235138732537, 0.5606060606060606, 'gini = 0.0\\nsamples = 3\\nvalue = [3, 0]'),\n",
       " Text(0.024198211823317467, 0.5606060606060606, 'gini = 0.0\\nsamples = 1\\nvalue = [0, 1]'),\n",
       " Text(0.024198211823317467, 0.6212121212121212, 'gini = 0.0\\nsamples = 807\\nvalue = [807, 0]'),\n",
       " Text(0.024855176850194866, 0.6515151515151515, 'x[1] <= 37.85\\ngini = 0.019\\nsamples = 103\\nvalue = [102, 1]'),\n",
       " Text(0.0246361885079024, 0.6212121212121212, 'gini = 0.0\\nsamples = 1\\nvalue = [0, 1]'),\n",
       " Text(0.02507416519248733, 0.6212121212121212, 'gini = 0.0\\nsamples = 102\\nvalue = [102, 0]'),\n",
       " Text(0.02937865479567361, 0.6818181818181818, 'x[10] <= 17.35\\ngini = 0.027\\nsamples = 1881\\nvalue = [1855, 26]'),\n",
       " Text(0.026552336502961474, 0.6515151515151515, 'x[9] <= 1013.55\\ngini = 0.052\\nsamples = 448\\nvalue = [436, 12]'),\n",
       " Text(0.025512141877072264, 0.6212121212121212, 'x[11] <= 26.95\\ngini = 0.142\\nsamples = 91\\nvalue = [84, 7]'),\n",
       " Text(0.02507416519248733, 0.5909090909090909, 'x[9] <= 1013.4\\ngini = 0.06\\nsamples = 65\\nvalue = [63, 2]'),\n",
       " Text(0.024855176850194866, 0.5606060606060606, 'x[5] <= 16.0\\ngini = 0.031\\nsamples = 64\\nvalue = [63, 1]'),\n",
       " Text(0.0246361885079024, 0.5303030303030303, 'x[6] <= 43.0\\ngini = 0.32\\nsamples = 5\\nvalue = [4, 1]'),\n",
       " Text(0.024417200165609936, 0.5, 'gini = 0.0\\nsamples = 4\\nvalue = [4, 0]'),\n",
       " Text(0.024855176850194866, 0.5, 'gini = 0.0\\nsamples = 1\\nvalue = [0, 1]'),\n",
       " Text(0.02507416519248733, 0.5303030303030303, 'gini = 0.0\\nsamples = 59\\nvalue = [59, 0]'),\n",
       " Text(0.025293153534779796, 0.5606060606060606, 'gini = 0.0\\nsamples = 1\\nvalue = [0, 1]'),\n",
       " Text(0.025950118561657194, 0.5909090909090909, 'x[4] <= 24.0\\ngini = 0.311\\nsamples = 26\\nvalue = [21, 5]'),\n",
       " Text(0.02573113021936473, 0.5606060606060606, 'x[3] <= 55.0\\ngini = 0.219\\nsamples = 24\\nvalue = [21, 3]'),\n",
       " Text(0.025512141877072264, 0.5303030303030303, 'x[9] <= 1009.2\\ngini = 0.159\\nsamples = 23\\nvalue = [21, 2]'),\n",
       " Text(0.025293153534779796, 0.5, 'gini = 0.0\\nsamples = 1\\nvalue = [0, 1]'),\n",
       " Text(0.02573113021936473, 0.5, 'x[8] <= 1017.85\\ngini = 0.087\\nsamples = 22\\nvalue = [21, 1]'),\n",
       " Text(0.025512141877072264, 0.4696969696969697, 'gini = 0.0\\nsamples = 20\\nvalue = [20, 0]'),\n",
       " Text(0.025950118561657194, 0.4696969696969697, 'x[6] <= 62.5\\ngini = 0.5\\nsamples = 2\\nvalue = [1, 1]'),\n",
       " Text(0.02573113021936473, 0.4393939393939394, 'gini = 0.0\\nsamples = 1\\nvalue = [0, 1]'),\n",
       " Text(0.02616910690394966, 0.4393939393939394, 'gini = 0.0\\nsamples = 1\\nvalue = [1, 0]'),\n",
       " Text(0.025950118561657194, 0.5303030303030303, 'gini = 0.0\\nsamples = 1\\nvalue = [0, 1]'),\n",
       " Text(0.02616910690394966, 0.5606060606060606, 'gini = 0.0\\nsamples = 2\\nvalue = [0, 2]'),\n",
       " Text(0.027592531128850687, 0.6212121212121212, 'x[3] <= 40.0\\ngini = 0.028\\nsamples = 357\\nvalue = [352, 5]'),\n",
       " Text(0.027373542786558222, 0.5909090909090909, 'x[5] <= 27.0\\ngini = 0.055\\nsamples = 176\\nvalue = [171, 5]'),\n",
       " Text(0.027154554444265757, 0.5606060606060606, 'x[7] <= 20.5\\ngini = 0.045\\nsamples = 175\\nvalue = [171, 4]'),\n",
       " Text(0.026388095246242124, 0.5303030303030303, 'x[0] <= 11.65\\ngini = 0.015\\nsamples = 131\\nvalue = [130, 1]'),\n",
       " Text(0.02616910690394966, 0.5, 'gini = 0.0\\nsamples = 124\\nvalue = [124, 0]'),\n",
       " Text(0.026607083588534593, 0.5, 'x[0] <= 11.85\\ngini = 0.245\\nsamples = 7\\nvalue = [6, 1]'),\n",
       " Text(0.026388095246242124, 0.4696969696969697, 'gini = 0.0\\nsamples = 1\\nvalue = [0, 1]'),\n",
       " Text(0.026826071930827058, 0.4696969696969697, 'gini = 0.0\\nsamples = 6\\nvalue = [6, 0]'),\n",
       " Text(0.027921013642289386, 0.5303030303030303, 'x[10] <= 14.1\\ngini = 0.127\\nsamples = 44\\nvalue = [41, 3]'),\n",
       " Text(0.02770202529999692, 0.5, 'x[0] <= 7.95\\ngini = 0.227\\nsamples = 23\\nvalue = [20, 3]'),\n",
       " Text(0.027264048615411988, 0.4696969696969697, 'x[3] <= 30.5\\ngini = 0.095\\nsamples = 20\\nvalue = [19, 1]'),\n",
       " Text(0.027045060273119523, 0.4393939393939394, 'x[1] <= 22.9\\ngini = 0.444\\nsamples = 3\\nvalue = [2, 1]'),\n",
       " Text(0.026826071930827058, 0.4090909090909091, 'gini = 0.0\\nsamples = 2\\nvalue = [2, 0]'),\n",
       " Text(0.027264048615411988, 0.4090909090909091, 'gini = 0.0\\nsamples = 1\\nvalue = [0, 1]'),\n",
       " Text(0.027483036957704456, 0.4393939393939394, 'gini = 0.0\\nsamples = 17\\nvalue = [17, 0]'),\n",
       " Text(0.02814000198458185, 0.4696969696969697, 'x[6] <= 48.0\\ngini = 0.444\\nsamples = 3\\nvalue = [1, 2]'),\n",
       " Text(0.027921013642289386, 0.4393939393939394, 'gini = 0.0\\nsamples = 2\\nvalue = [0, 2]'),\n",
       " Text(0.028358990326874316, 0.4393939393939394, 'gini = 0.0\\nsamples = 1\\nvalue = [1, 0]'),\n",
       " Text(0.02814000198458185, 0.5, 'gini = 0.0\\nsamples = 21\\nvalue = [21, 0]'),\n",
       " Text(0.027592531128850687, 0.5606060606060606, 'gini = 0.0\\nsamples = 1\\nvalue = [0, 1]'),\n",
       " Text(0.027811519471143152, 0.5909090909090909, 'gini = 0.0\\nsamples = 181\\nvalue = [181, 0]'),\n",
       " Text(0.03220497308838575, 0.6515151515151515, 'x[0] <= 22.05\\ngini = 0.019\\nsamples = 1433\\nvalue = [1419, 14]'),\n",
       " Text(0.03123321231946293, 0.6212121212121212, 'x[6] <= 28.5\\ngini = 0.015\\nsamples = 1345\\nvalue = [1335, 10]'),\n",
       " Text(0.030603620835372092, 0.5909090909090909, 'x[2] <= 1.2\\ngini = 0.035\\nsamples = 502\\nvalue = [493, 9]'),\n",
       " Text(0.030001402894067813, 0.5606060606060606, 'x[1] <= 26.55\\ngini = 0.031\\nsamples = 500\\nvalue = [492, 8]'),\n",
       " Text(0.029453932038336645, 0.5303030303030303, 'x[8] <= 1023.25\\ngini = 0.278\\nsamples = 18\\nvalue = [15, 3]'),\n",
       " Text(0.02923494369604418, 0.5, 'x[1] <= 26.4\\ngini = 0.208\\nsamples = 17\\nvalue = [15, 2]'),\n",
       " Text(0.029015955353751715, 0.4696969696969697, 'x[0] <= 14.25\\ngini = 0.117\\nsamples = 16\\nvalue = [15, 1]'),\n",
       " Text(0.02879696701145925, 0.4393939393939394, 'gini = 0.0\\nsamples = 11\\nvalue = [11, 0]'),\n",
       " Text(0.02923494369604418, 0.4393939393939394, 'x[0] <= 14.55\\ngini = 0.32\\nsamples = 5\\nvalue = [4, 1]'),\n",
       " Text(0.029015955353751715, 0.4090909090909091, 'gini = 0.0\\nsamples = 1\\nvalue = [0, 1]'),\n",
       " Text(0.029453932038336645, 0.4090909090909091, 'gini = 0.0\\nsamples = 4\\nvalue = [4, 0]'),\n",
       " Text(0.029453932038336645, 0.4696969696969697, 'gini = 0.0\\nsamples = 1\\nvalue = [0, 1]'),\n",
       " Text(0.029672920380629113, 0.5, 'gini = 0.0\\nsamples = 1\\nvalue = [0, 1]'),\n",
       " Text(0.030548873749798977, 0.5303030303030303, 'x[9] <= 1010.15\\ngini = 0.021\\nsamples = 482\\nvalue = [477, 5]'),\n",
       " Text(0.03032988540750651, 0.5, 'x[9] <= 1010.05\\ngini = 0.076\\nsamples = 126\\nvalue = [121, 5]'),\n",
       " Text(0.02989190872292158, 0.4696969696969697, 'x[6] <= 21.5\\ngini = 0.048\\nsamples = 121\\nvalue = [118, 3]'),\n",
       " Text(0.029672920380629113, 0.4393939393939394, 'gini = 0.0\\nsamples = 83\\nvalue = [83, 0]'),\n",
       " Text(0.030110897065214044, 0.4393939393939394, 'x[0] <= 15.05\\ngini = 0.145\\nsamples = 38\\nvalue = [35, 3]'),\n",
       " Text(0.02989190872292158, 0.4090909090909091, 'x[7] <= 11.5\\ngini = 0.32\\nsamples = 15\\nvalue = [12, 3]'),\n",
       " Text(0.029672920380629113, 0.3787878787878788, 'gini = 0.0\\nsamples = 8\\nvalue = [8, 0]'),\n",
       " Text(0.030110897065214044, 0.3787878787878788, 'x[0] <= 12.5\\ngini = 0.49\\nsamples = 7\\nvalue = [4, 3]'),\n",
       " Text(0.02989190872292158, 0.3484848484848485, 'gini = 0.0\\nsamples = 3\\nvalue = [3, 0]'),\n",
       " Text(0.03032988540750651, 0.3484848484848485, 'x[5] <= 16.0\\ngini = 0.375\\nsamples = 4\\nvalue = [1, 3]'),\n",
       " Text(0.030110897065214044, 0.3181818181818182, 'gini = 0.0\\nsamples = 1\\nvalue = [1, 0]'),\n",
       " Text(0.030548873749798977, 0.3181818181818182, 'gini = 0.0\\nsamples = 3\\nvalue = [0, 3]'),\n",
       " Text(0.03032988540750651, 0.4090909090909091, 'gini = 0.0\\nsamples = 23\\nvalue = [23, 0]'),\n",
       " Text(0.030767862092091442, 0.4696969696969697, 'x[4] <= 16.0\\ngini = 0.48\\nsamples = 5\\nvalue = [3, 2]'),\n",
       " Text(0.030548873749798977, 0.4393939393939394, 'gini = 0.0\\nsamples = 2\\nvalue = [0, 2]'),\n",
       " Text(0.030986850434383907, 0.4393939393939394, 'gini = 0.0\\nsamples = 3\\nvalue = [3, 0]'),\n",
       " Text(0.030767862092091442, 0.5, 'gini = 0.0\\nsamples = 356\\nvalue = [356, 0]'),\n",
       " Text(0.031205838776676372, 0.5606060606060606, 'x[7] <= 13.0\\ngini = 0.5\\nsamples = 2\\nvalue = [1, 1]'),\n",
       " Text(0.030986850434383907, 0.5303030303030303, 'gini = 0.0\\nsamples = 1\\nvalue = [1, 0]'),\n",
       " Text(0.03142482711896884, 0.5303030303030303, 'gini = 0.0\\nsamples = 1\\nvalue = [0, 1]'),\n",
       " Text(0.03186280380355377, 0.5909090909090909, 'x[4] <= 30.5\\ngini = 0.002\\nsamples = 843\\nvalue = [842, 1]'),\n",
       " Text(0.031643815461261306, 0.5606060606060606, 'gini = 0.0\\nsamples = 797\\nvalue = [797, 0]'),\n",
       " Text(0.032081792145846236, 0.5606060606060606, 'x[8] <= 1019.4\\ngini = 0.043\\nsamples = 46\\nvalue = [45, 1]'),\n",
       " Text(0.03186280380355377, 0.5303030303030303, 'gini = 0.0\\nsamples = 36\\nvalue = [36, 0]'),\n",
       " Text(0.032300780488138704, 0.5303030303030303, 'x[8] <= 1019.55\\ngini = 0.18\\nsamples = 10\\nvalue = [9, 1]'),\n",
       " Text(0.032081792145846236, 0.5, 'gini = 0.0\\nsamples = 1\\nvalue = [0, 1]'),\n",
       " Text(0.032519768830431166, 0.5, 'gini = 0.0\\nsamples = 9\\nvalue = [9, 0]'),\n",
       " Text(0.033176733857308564, 0.6212121212121212, 'x[0] <= 22.15\\ngini = 0.087\\nsamples = 88\\nvalue = [84, 4]'),\n",
       " Text(0.032738757172723634, 0.5909090909090909, 'x[3] <= 49.0\\ngini = 0.444\\nsamples = 6\\nvalue = [4, 2]'),\n",
       " Text(0.032519768830431166, 0.5606060606060606, 'gini = 0.0\\nsamples = 4\\nvalue = [4, 0]'),\n",
       " Text(0.032957745515016096, 0.5606060606060606, 'gini = 0.0\\nsamples = 2\\nvalue = [0, 2]'),\n",
       " Text(0.033614710541893494, 0.5909090909090909, 'x[3] <= 40.0\\ngini = 0.048\\nsamples = 82\\nvalue = [80, 2]'),\n",
       " Text(0.03339572219960103, 0.5606060606060606, 'x[8] <= 1011.65\\ngini = 0.18\\nsamples = 20\\nvalue = [18, 2]'),\n",
       " Text(0.033176733857308564, 0.5303030303030303, 'gini = 0.0\\nsamples = 1\\nvalue = [0, 1]'),\n",
       " Text(0.033614710541893494, 0.5303030303030303, 'x[6] <= 41.0\\ngini = 0.1\\nsamples = 19\\nvalue = [18, 1]'),\n",
       " Text(0.03339572219960103, 0.5, 'gini = 0.0\\nsamples = 16\\nvalue = [16, 0]'),\n",
       " Text(0.03383369888418596, 0.5, 'x[8] <= 1015.05\\ngini = 0.444\\nsamples = 3\\nvalue = [2, 1]'),\n",
       " Text(0.033614710541893494, 0.4696969696969697, 'gini = 0.0\\nsamples = 2\\nvalue = [2, 0]'),\n",
       " Text(0.03405268722647843, 0.4696969696969697, 'gini = 0.0\\nsamples = 1\\nvalue = [0, 1]'),\n",
       " Text(0.03383369888418596, 0.5606060606060606, 'gini = 0.0\\nsamples = 62\\nvalue = [62, 0]'),\n",
       " Text(0.03264294977297068, 0.7121212121212122, 'x[6] <= 44.0\\ngini = 0.165\\nsamples = 22\\nvalue = [20, 2]'),\n",
       " Text(0.032423961430678216, 0.6818181818181818, 'gini = 0.0\\nsamples = 19\\nvalue = [19, 0]'),\n",
       " Text(0.032861938115263147, 0.6818181818181818, 'x[3] <= 47.0\\ngini = 0.444\\nsamples = 3\\nvalue = [1, 2]'),\n",
       " Text(0.03264294977297068, 0.6515151515151515, 'gini = 0.0\\nsamples = 1\\nvalue = [1, 0]'),\n",
       " Text(0.03308092645755561, 0.6515151515151515, 'gini = 0.0\\nsamples = 2\\nvalue = [0, 2]'),\n",
       " Text(0.034394856511310405, 0.7424242424242424, 'x[4] <= 16.0\\ngini = 0.198\\nsamples = 18\\nvalue = [16, 2]'),\n",
       " Text(0.033956879826725475, 0.7121212121212122, 'x[6] <= 84.5\\ngini = 0.117\\nsamples = 16\\nvalue = [15, 1]'),\n",
       " Text(0.03373789148443301, 0.6818181818181818, 'x[10] <= 17.3\\ngini = 0.5\\nsamples = 2\\nvalue = [1, 1]'),\n",
       " Text(0.033518903142140545, 0.6515151515151515, 'gini = 0.0\\nsamples = 1\\nvalue = [0, 1]'),\n",
       " Text(0.033956879826725475, 0.6515151515151515, 'gini = 0.0\\nsamples = 1\\nvalue = [1, 0]'),\n",
       " Text(0.03417586816901794, 0.6818181818181818, 'gini = 0.0\\nsamples = 14\\nvalue = [14, 0]'),\n",
       " Text(0.034832833195895335, 0.7121212121212122, 'x[0] <= 11.4\\ngini = 0.5\\nsamples = 2\\nvalue = [1, 1]'),\n",
       " Text(0.034613844853602874, 0.6818181818181818, 'gini = 0.0\\nsamples = 1\\nvalue = [1, 0]'),\n",
       " Text(0.035051821538187804, 0.6818181818181818, 'gini = 0.0\\nsamples = 1\\nvalue = [0, 1]'),\n",
       " Text(0.043953355483091705, 0.7727272727272727, 'x[9] <= 1016.55\\ngini = 0.046\\nsamples = 1530\\nvalue = [1494, 36]'),\n",
       " Text(0.04183703845640592, 0.7424242424242424, 'x[0] <= 15.75\\ngini = 0.064\\nsamples = 911\\nvalue = [881, 30]'),\n",
       " Text(0.04045125285283641, 0.7121212121212122, 'x[0] <= 15.65\\ngini = 0.095\\nsamples = 521\\nvalue = [495, 26]'),\n",
       " Text(0.03932209421289089, 0.6818181818181818, 'x[3] <= 40.0\\ngini = 0.092\\nsamples = 519\\nvalue = [494, 25]'),\n",
       " Text(0.03772074195987723, 0.6515151515151515, 'x[2] <= 4.7\\ngini = 0.053\\nsamples = 291\\nvalue = [283, 8]'),\n",
       " Text(0.03679004150513425, 0.6212121212121212, 'x[9] <= 1016.25\\ngini = 0.047\\nsamples = 288\\nvalue = [281, 7]'),\n",
       " Text(0.03558560562252569, 0.5909090909090909, 'x[5] <= 18.0\\ngini = 0.036\\nsamples = 273\\nvalue = [268, 5]'),\n",
       " Text(0.03470965225335582, 0.5606060606060606, 'x[0] <= 13.95\\ngini = 0.01\\nsamples = 195\\nvalue = [194, 1]'),\n",
       " Text(0.03449066391106336, 0.5303030303030303, 'gini = 0.0\\nsamples = 162\\nvalue = [162, 0]'),\n",
       " Text(0.03492864059564829, 0.5303030303030303, 'x[10] <= 17.8\\ngini = 0.059\\nsamples = 33\\nvalue = [32, 1]'),\n",
       " Text(0.03470965225335582, 0.5, 'x[3] <= 30.5\\ngini = 0.375\\nsamples = 4\\nvalue = [3, 1]'),\n",
       " Text(0.03449066391106336, 0.4696969696969697, 'gini = 0.0\\nsamples = 1\\nvalue = [0, 1]'),\n",
       " Text(0.03492864059564829, 0.4696969696969697, 'gini = 0.0\\nsamples = 3\\nvalue = [3, 0]'),\n",
       " Text(0.03514762893794076, 0.5, 'gini = 0.0\\nsamples = 29\\nvalue = [29, 0]'),\n",
       " Text(0.03646155899169555, 0.5606060606060606, 'x[0] <= 14.55\\ngini = 0.097\\nsamples = 78\\nvalue = [74, 4]'),\n",
       " Text(0.03580459396481815, 0.5303030303030303, 'x[9] <= 1015.05\\ngini = 0.058\\nsamples = 67\\nvalue = [65, 2]'),\n",
       " Text(0.03558560562252569, 0.5, 'gini = 0.0\\nsamples = 54\\nvalue = [54, 0]'),\n",
       " Text(0.03602358230711062, 0.5, 'x[6] <= 46.0\\ngini = 0.26\\nsamples = 13\\nvalue = [11, 2]'),\n",
       " Text(0.03580459396481815, 0.4696969696969697, 'x[11] <= 25.15\\ngini = 0.48\\nsamples = 5\\nvalue = [3, 2]'),\n",
       " Text(0.03558560562252569, 0.4393939393939394, 'gini = 0.0\\nsamples = 2\\nvalue = [0, 2]'),\n",
       " Text(0.03602358230711062, 0.4393939393939394, 'gini = 0.0\\nsamples = 3\\nvalue = [3, 0]'),\n",
       " Text(0.03624257064940309, 0.4696969696969697, 'gini = 0.0\\nsamples = 8\\nvalue = [8, 0]'),\n",
       " Text(0.03711852401857295, 0.5303030303030303, 'x[1] <= 29.35\\ngini = 0.298\\nsamples = 11\\nvalue = [9, 2]'),\n",
       " Text(0.03689953567628048, 0.5, 'x[6] <= 43.5\\ngini = 0.444\\nsamples = 3\\nvalue = [1, 2]'),\n",
       " Text(0.03668054733398802, 0.4696969696969697, 'gini = 0.0\\nsamples = 1\\nvalue = [1, 0]'),\n",
       " Text(0.03711852401857295, 0.4696969696969697, 'gini = 0.0\\nsamples = 2\\nvalue = [0, 2]'),\n",
       " Text(0.03733751236086542, 0.5, 'gini = 0.0\\nsamples = 8\\nvalue = [8, 0]'),\n",
       " Text(0.03799447738774281, 0.5909090909090909, 'x[5] <= 13.0\\ngini = 0.231\\nsamples = 15\\nvalue = [13, 2]'),\n",
       " Text(0.03777548904545035, 0.5606060606060606, 'x[4] <= 13.0\\ngini = 0.48\\nsamples = 5\\nvalue = [3, 2]'),\n",
       " Text(0.03755650070315788, 0.5303030303030303, 'gini = 0.0\\nsamples = 3\\nvalue = [3, 0]'),\n",
       " Text(0.03799447738774281, 0.5303030303030303, 'gini = 0.0\\nsamples = 2\\nvalue = [0, 2]'),\n",
       " Text(0.03821346573003528, 0.5606060606060606, 'gini = 0.0\\nsamples = 10\\nvalue = [10, 0]'),\n",
       " Text(0.03865144241462021, 0.6212121212121212, 'x[6] <= 66.0\\ngini = 0.444\\nsamples = 3\\nvalue = [2, 1]'),\n",
       " Text(0.038432454072327746, 0.5909090909090909, 'gini = 0.0\\nsamples = 2\\nvalue = [2, 0]'),\n",
       " Text(0.038870430756912676, 0.5909090909090909, 'gini = 0.0\\nsamples = 1\\nvalue = [0, 1]'),\n",
       " Text(0.04092344646590454, 0.6515151515151515, 'x[4] <= 21.0\\ngini = 0.138\\nsamples = 228\\nvalue = [211, 17]'),\n",
       " Text(0.04070445812361208, 0.6212121212121212, 'x[10] <= 17.15\\ngini = 0.196\\nsamples = 154\\nvalue = [137, 17]'),\n",
       " Text(0.039308407441497606, 0.5909090909090909, 'x[0] <= 7.95\\ngini = 0.094\\nsamples = 81\\nvalue = [77, 4]'),\n",
       " Text(0.03908941909920514, 0.5606060606060606, 'x[0] <= 7.45\\ngini = 0.252\\nsamples = 27\\nvalue = [23, 4]'),\n",
       " Text(0.03865144241462021, 0.5303030303030303, 'x[4] <= 16.0\\ngini = 0.153\\nsamples = 24\\nvalue = [22, 2]'),\n",
       " Text(0.038432454072327746, 0.5, 'gini = 0.0\\nsamples = 19\\nvalue = [19, 0]'),\n",
       " Text(0.038870430756912676, 0.5, 'x[1] <= 21.1\\ngini = 0.48\\nsamples = 5\\nvalue = [3, 2]'),\n",
       " Text(0.03865144241462021, 0.4696969696969697, 'gini = 0.0\\nsamples = 3\\nvalue = [3, 0]'),\n",
       " Text(0.03908941909920514, 0.4696969696969697, 'gini = 0.0\\nsamples = 2\\nvalue = [0, 2]'),\n",
       " Text(0.039527395783790074, 0.5303030303030303, 'x[9] <= 1010.45\\ngini = 0.444\\nsamples = 3\\nvalue = [1, 2]'),\n",
       " Text(0.039308407441497606, 0.5, 'gini = 0.0\\nsamples = 1\\nvalue = [1, 0]'),\n",
       " Text(0.039746384126082536, 0.5, 'gini = 0.0\\nsamples = 2\\nvalue = [0, 2]'),\n",
       " Text(0.039527395783790074, 0.5606060606060606, 'gini = 0.0\\nsamples = 54\\nvalue = [54, 0]'),\n",
       " Text(0.04210050880572654, 0.5909090909090909, 'x[5] <= 25.0\\ngini = 0.293\\nsamples = 73\\nvalue = [60, 13]'),\n",
       " Text(0.041169808350983564, 0.5606060606060606, 'x[8] <= 1015.5\\ngini = 0.201\\nsamples = 53\\nvalue = [47, 6]'),\n",
       " Text(0.0406223374952524, 0.5303030303030303, 'x[8] <= 1014.25\\ngini = 0.401\\nsamples = 18\\nvalue = [13, 5]'),\n",
       " Text(0.04018436081066747, 0.5, 'x[10] <= 17.65\\ngini = 0.142\\nsamples = 13\\nvalue = [12, 1]'),\n",
       " Text(0.039965372468375004, 0.4696969696969697, 'x[1] <= 24.6\\ngini = 0.5\\nsamples = 2\\nvalue = [1, 1]'),\n",
       " Text(0.039746384126082536, 0.4393939393939394, 'gini = 0.0\\nsamples = 1\\nvalue = [1, 0]'),\n",
       " Text(0.04018436081066747, 0.4393939393939394, 'gini = 0.0\\nsamples = 1\\nvalue = [0, 1]'),\n",
       " Text(0.040403349152959935, 0.4696969696969697, 'gini = 0.0\\nsamples = 11\\nvalue = [11, 0]'),\n",
       " Text(0.04106031417983733, 0.5, 'x[0] <= 13.95\\ngini = 0.32\\nsamples = 5\\nvalue = [1, 4]'),\n",
       " Text(0.040841325837544865, 0.4696969696969697, 'gini = 0.0\\nsamples = 4\\nvalue = [0, 4]'),\n",
       " Text(0.0412793025221298, 0.4696969696969697, 'gini = 0.0\\nsamples = 1\\nvalue = [1, 0]'),\n",
       " Text(0.04171727920671473, 0.5303030303030303, 'x[8] <= 1019.35\\ngini = 0.056\\nsamples = 35\\nvalue = [34, 1]'),\n",
       " Text(0.04149829086442226, 0.5, 'gini = 0.0\\nsamples = 33\\nvalue = [33, 0]'),\n",
       " Text(0.04193626754900719, 0.5, 'x[5] <= 17.0\\ngini = 0.5\\nsamples = 2\\nvalue = [1, 1]'),\n",
       " Text(0.04171727920671473, 0.4696969696969697, 'gini = 0.0\\nsamples = 1\\nvalue = [0, 1]'),\n",
       " Text(0.04215525589129966, 0.4696969696969697, 'gini = 0.0\\nsamples = 1\\nvalue = [1, 0]'),\n",
       " Text(0.04303120926046952, 0.5606060606060606, 'x[11] <= 27.4\\ngini = 0.455\\nsamples = 20\\nvalue = [13, 7]'),\n",
       " Text(0.04259323257588459, 0.5303030303030303, 'x[4] <= 11.0\\ngini = 0.18\\nsamples = 10\\nvalue = [9, 1]'),\n",
       " Text(0.04237424423359213, 0.5, 'gini = 0.0\\nsamples = 1\\nvalue = [0, 1]'),\n",
       " Text(0.04281222091817706, 0.5, 'gini = 0.0\\nsamples = 9\\nvalue = [9, 0]'),\n",
       " Text(0.04346918594505446, 0.5303030303030303, 'x[1] <= 32.4\\ngini = 0.48\\nsamples = 10\\nvalue = [4, 6]'),\n",
       " Text(0.04325019760276199, 0.5, 'gini = 0.0\\nsamples = 5\\nvalue = [0, 5]'),\n",
       " Text(0.04368817428734692, 0.5, 'x[10] <= 20.15\\ngini = 0.32\\nsamples = 5\\nvalue = [4, 1]'),\n",
       " Text(0.04346918594505446, 0.4696969696969697, 'gini = 0.0\\nsamples = 1\\nvalue = [0, 1]'),\n",
       " Text(0.04390716262963939, 0.4696969696969697, 'gini = 0.0\\nsamples = 4\\nvalue = [4, 0]'),\n",
       " Text(0.04114243480819701, 0.6212121212121212, 'gini = 0.0\\nsamples = 74\\nvalue = [74, 0]'),\n",
       " Text(0.04158041149278194, 0.6818181818181818, 'x[3] <= 39.0\\ngini = 0.5\\nsamples = 2\\nvalue = [1, 1]'),\n",
       " Text(0.041361423150489476, 0.6515151515151515, 'gini = 0.0\\nsamples = 1\\nvalue = [1, 0]'),\n",
       " Text(0.041799399835074406, 0.6515151515151515, 'gini = 0.0\\nsamples = 1\\nvalue = [0, 1]'),\n",
       " Text(0.043222824059975434, 0.7121212121212122, 'x[5] <= 6.5\\ngini = 0.02\\nsamples = 390\\nvalue = [386, 4]'),\n",
       " Text(0.042456364861951805, 0.6818181818181818, 'x[3] <= 39.0\\ngini = 0.298\\nsamples = 11\\nvalue = [9, 2]'),\n",
       " Text(0.042237376519659336, 0.6515151515151515, 'gini = 0.0\\nsamples = 8\\nvalue = [8, 0]'),\n",
       " Text(0.04267535320424427, 0.6515151515151515, 'x[5] <= 5.0\\ngini = 0.444\\nsamples = 3\\nvalue = [1, 2]'),\n",
       " Text(0.042456364861951805, 0.6212121212121212, 'gini = 0.0\\nsamples = 1\\nvalue = [1, 0]'),\n",
       " Text(0.042894341546536735, 0.6212121212121212, 'gini = 0.0\\nsamples = 2\\nvalue = [0, 2]'),\n",
       " Text(0.043989283257999064, 0.6818181818181818, 'x[11] <= 25.65\\ngini = 0.01\\nsamples = 379\\nvalue = [377, 2]'),\n",
       " Text(0.043551306573414134, 0.6515151515151515, 'x[8] <= 1010.8\\ngini = 0.32\\nsamples = 5\\nvalue = [4, 1]'),\n",
       " Text(0.043332318231121665, 0.6212121212121212, 'gini = 0.0\\nsamples = 1\\nvalue = [0, 1]'),\n",
       " Text(0.043770294915706595, 0.6212121212121212, 'gini = 0.0\\nsamples = 4\\nvalue = [4, 0]'),\n",
       " Text(0.044427259942583994, 0.6515151515151515, 'x[11] <= 37.7\\ngini = 0.005\\nsamples = 374\\nvalue = [373, 1]'),\n",
       " Text(0.044208271600291525, 0.6212121212121212, 'gini = 0.0\\nsamples = 369\\nvalue = [369, 0]'),\n",
       " Text(0.04464624828487646, 0.6212121212121212, 'x[8] <= 1012.45\\ngini = 0.32\\nsamples = 5\\nvalue = [4, 1]'),\n",
       " Text(0.044427259942583994, 0.5909090909090909, 'gini = 0.0\\nsamples = 1\\nvalue = [0, 1]'),\n",
       " Text(0.044865236627168924, 0.5909090909090909, 'gini = 0.0\\nsamples = 4\\nvalue = [4, 0]'),\n",
       " Text(0.04606967250977749, 0.7424242424242424, 'x[10] <= 23.55\\ngini = 0.019\\nsamples = 619\\nvalue = [613, 6]'),\n",
       " Text(0.04552220165404632, 0.7121212121212122, 'x[3] <= 55.0\\ngini = 0.013\\nsamples = 599\\nvalue = [595, 4]'),\n",
       " Text(0.04508422496946139, 0.6818181818181818, 'x[7] <= 25.5\\ngini = 0.01\\nsamples = 587\\nvalue = [584, 3]'),\n",
       " Text(0.044865236627168924, 0.6515151515151515, 'gini = 0.0\\nsamples = 345\\nvalue = [345, 0]'),\n",
       " Text(0.045303213311753854, 0.6515151515151515, 'x[5] <= 14.0\\ngini = 0.024\\nsamples = 242\\nvalue = [239, 3]'),\n",
       " Text(0.04508422496946139, 0.6212121212121212, 'gini = 0.0\\nsamples = 120\\nvalue = [120, 0]'),\n",
       " Text(0.04552220165404632, 0.6212121212121212, 'x[3] <= 36.0\\ngini = 0.048\\nsamples = 122\\nvalue = [119, 3]'),\n",
       " Text(0.045303213311753854, 0.5909090909090909, 'x[3] <= 34.0\\ngini = 0.115\\nsamples = 49\\nvalue = [46, 3]'),\n",
       " Text(0.04464624828487646, 0.5606060606060606, 'x[8] <= 1027.4\\ngini = 0.053\\nsamples = 37\\nvalue = [36, 1]'),\n",
       " Text(0.044427259942583994, 0.5303030303030303, 'gini = 0.0\\nsamples = 33\\nvalue = [33, 0]'),\n",
       " Text(0.044865236627168924, 0.5303030303030303, 'x[9] <= 1023.3\\ngini = 0.375\\nsamples = 4\\nvalue = [3, 1]'),\n",
       " Text(0.04464624828487646, 0.5, 'gini = 0.0\\nsamples = 1\\nvalue = [0, 1]'),\n",
       " Text(0.04508422496946139, 0.5, 'gini = 0.0\\nsamples = 3\\nvalue = [3, 0]'),\n",
       " Text(0.04596017833863125, 0.5606060606060606, 'x[10] <= 21.35\\ngini = 0.278\\nsamples = 12\\nvalue = [10, 2]'),\n",
       " Text(0.04574118999633879, 0.5303030303030303, 'x[5] <= 21.0\\ngini = 0.165\\nsamples = 11\\nvalue = [10, 1]'),\n",
       " Text(0.04552220165404632, 0.5, 'gini = 0.0\\nsamples = 9\\nvalue = [9, 0]'),\n",
       " Text(0.04596017833863125, 0.5, 'x[6] <= 55.5\\ngini = 0.5\\nsamples = 2\\nvalue = [1, 1]'),\n",
       " Text(0.04574118999633879, 0.4696969696969697, 'gini = 0.0\\nsamples = 1\\nvalue = [1, 0]'),\n",
       " Text(0.04617916668092372, 0.4696969696969697, 'gini = 0.0\\nsamples = 1\\nvalue = [0, 1]'),\n",
       " Text(0.04617916668092372, 0.5303030303030303, 'gini = 0.0\\nsamples = 1\\nvalue = [0, 1]'),\n",
       " Text(0.04574118999633879, 0.5909090909090909, 'gini = 0.0\\nsamples = 73\\nvalue = [73, 0]'),\n",
       " Text(0.04596017833863125, 0.6818181818181818, 'x[4] <= 23.5\\ngini = 0.153\\nsamples = 12\\nvalue = [11, 1]'),\n",
       " Text(0.04574118999633879, 0.6515151515151515, 'gini = 0.0\\nsamples = 1\\nvalue = [0, 1]'),\n",
       " Text(0.04617916668092372, 0.6515151515151515, 'gini = 0.0\\nsamples = 11\\nvalue = [11, 0]'),\n",
       " Text(0.04661714336550865, 0.7121212121212122, 'x[5] <= 8.5\\ngini = 0.18\\nsamples = 20\\nvalue = [18, 2]'),\n",
       " Text(0.04639815502321619, 0.6818181818181818, 'gini = 0.0\\nsamples = 1\\nvalue = [0, 1]'),\n",
       " Text(0.04683613170780112, 0.6818181818181818, 'x[3] <= 50.0\\ngini = 0.1\\nsamples = 19\\nvalue = [18, 1]'),\n",
       " Text(0.04661714336550865, 0.6515151515151515, 'gini = 0.0\\nsamples = 17\\nvalue = [17, 0]'),\n",
       " Text(0.04705512005009358, 0.6515151515151515, 'x[9] <= 1017.85\\ngini = 0.5\\nsamples = 2\\nvalue = [1, 1]'),\n",
       " Text(0.04683613170780112, 0.6212121212121212, 'gini = 0.0\\nsamples = 1\\nvalue = [1, 0]'),\n",
       " Text(0.04727410839238605, 0.6212121212121212, 'gini = 0.0\\nsamples = 1\\nvalue = [0, 1]'),\n",
       " Text(0.09258071666501284, 0.803030303030303, 'x[9] <= 1013.35\\ngini = 0.097\\nsamples = 6259\\nvalue = [5940, 319]'),\n",
       " Text(0.06593812633018309, 0.7727272727272727, 'x[10] <= 17.85\\ngini = 0.164\\nsamples = 1803\\nvalue = [1640, 163]'),\n",
       " Text(0.05428815101983556, 0.7424242424242424, 'x[8] <= 1013.45\\ngini = 0.258\\nsamples = 558\\nvalue = [473, 85]'),\n",
       " Text(0.05017570392776122, 0.7121212121212122, 'x[0] <= 0.5\\ngini = 0.173\\nsamples = 230\\nvalue = [208, 22]'),\n",
       " Text(0.049956715585468756, 0.6818181818181818, 'gini = 0.0\\nsamples = 1\\nvalue = [0, 1]'),\n",
       " Text(0.050394692270053686, 0.6818181818181818, 'x[10] <= 17.25\\ngini = 0.167\\nsamples = 229\\nvalue = [208, 21]'),\n",
       " Text(0.048916520959579546, 0.6515151515151515, 'x[1] <= 20.35\\ngini = 0.131\\nsamples = 198\\nvalue = [184, 14]'),\n",
       " Text(0.04804056759040968, 0.6212121212121212, 'x[10] <= 16.6\\ngini = 0.239\\nsamples = 72\\nvalue = [62, 10]'),\n",
       " Text(0.04782157924811721, 0.5909090909090909, 'x[4] <= 23.0\\ngini = 0.221\\nsamples = 71\\nvalue = [62, 9]'),\n",
       " Text(0.04705512005009358, 0.5606060606060606, 'x[9] <= 1012.55\\ngini = 0.16\\nsamples = 57\\nvalue = [52, 5]'),\n",
       " Text(0.04661714336550865, 0.5303030303030303, 'x[10] <= 13.15\\ngini = 0.107\\nsamples = 53\\nvalue = [50, 3]'),\n",
       " Text(0.04639815502321619, 0.5, 'gini = 0.0\\nsamples = 34\\nvalue = [34, 0]'),\n",
       " Text(0.04683613170780112, 0.5, 'x[1] <= 17.25\\ngini = 0.266\\nsamples = 19\\nvalue = [16, 3]'),\n",
       " Text(0.04661714336550865, 0.4696969696969697, 'gini = 0.0\\nsamples = 1\\nvalue = [0, 1]'),\n",
       " Text(0.04705512005009358, 0.4696969696969697, 'x[10] <= 14.45\\ngini = 0.198\\nsamples = 18\\nvalue = [16, 2]'),\n",
       " Text(0.04683613170780112, 0.4393939393939394, 'x[10] <= 14.1\\ngini = 0.375\\nsamples = 8\\nvalue = [6, 2]'),\n",
       " Text(0.04661714336550865, 0.4090909090909091, 'x[9] <= 1010.5\\ngini = 0.245\\nsamples = 7\\nvalue = [6, 1]'),\n",
       " Text(0.04639815502321619, 0.3787878787878788, 'gini = 0.0\\nsamples = 6\\nvalue = [6, 0]'),\n",
       " Text(0.04683613170780112, 0.3787878787878788, 'gini = 0.0\\nsamples = 1\\nvalue = [0, 1]'),\n",
       " Text(0.04705512005009358, 0.4090909090909091, 'gini = 0.0\\nsamples = 1\\nvalue = [0, 1]'),\n",
       " Text(0.04727410839238605, 0.4393939393939394, 'gini = 0.0\\nsamples = 10\\nvalue = [10, 0]'),\n",
       " Text(0.04749309673467852, 0.5303030303030303, 'x[6] <= 69.0\\ngini = 0.5\\nsamples = 4\\nvalue = [2, 2]'),\n",
       " Text(0.04727410839238605, 0.5, 'gini = 0.0\\nsamples = 2\\nvalue = [2, 0]'),\n",
       " Text(0.04771208507697098, 0.5, 'gini = 0.0\\nsamples = 2\\nvalue = [0, 2]'),\n",
       " Text(0.04858803844614085, 0.5606060606060606, 'x[5] <= 27.0\\ngini = 0.408\\nsamples = 14\\nvalue = [10, 4]'),\n",
       " Text(0.04836905010384838, 0.5303030303030303, 'x[9] <= 1010.8\\ngini = 0.444\\nsamples = 6\\nvalue = [2, 4]'),\n",
       " Text(0.04815006176155591, 0.5, 'gini = 0.0\\nsamples = 3\\nvalue = [0, 3]'),\n",
       " Text(0.04858803844614085, 0.5, 'x[5] <= 25.0\\ngini = 0.444\\nsamples = 3\\nvalue = [2, 1]'),\n",
       " Text(0.04836905010384838, 0.4696969696969697, 'gini = 0.0\\nsamples = 2\\nvalue = [2, 0]'),\n",
       " Text(0.04880702678843331, 0.4696969696969697, 'gini = 0.0\\nsamples = 1\\nvalue = [0, 1]'),\n",
       " Text(0.04880702678843331, 0.5303030303030303, 'gini = 0.0\\nsamples = 8\\nvalue = [8, 0]'),\n",
       " Text(0.04825955593270215, 0.5909090909090909, 'gini = 0.0\\nsamples = 1\\nvalue = [0, 1]'),\n",
       " Text(0.049792474328749406, 0.6212121212121212, 'x[0] <= 5.55\\ngini = 0.061\\nsamples = 126\\nvalue = [122, 4]'),\n",
       " Text(0.04924500347301824, 0.5909090909090909, 'x[11] <= 20.7\\ngini = 0.444\\nsamples = 6\\nvalue = [4, 2]'),\n",
       " Text(0.04902601513072578, 0.5606060606060606, 'gini = 0.0\\nsamples = 3\\nvalue = [3, 0]'),\n",
       " Text(0.04946399181531071, 0.5606060606060606, 'x[8] <= 1012.7\\ngini = 0.444\\nsamples = 3\\nvalue = [1, 2]'),\n",
       " Text(0.04924500347301824, 0.5303030303030303, 'gini = 0.0\\nsamples = 2\\nvalue = [0, 2]'),\n",
       " Text(0.049682980157603175, 0.5303030303030303, 'gini = 0.0\\nsamples = 1\\nvalue = [1, 0]'),\n",
       " Text(0.05033994518448057, 0.5909090909090909, 'x[10] <= 16.65\\ngini = 0.033\\nsamples = 120\\nvalue = [118, 2]'),\n",
       " Text(0.050120956842188105, 0.5606060606060606, 'gini = 0.0\\nsamples = 96\\nvalue = [96, 0]'),\n",
       " Text(0.050558933526773035, 0.5606060606060606, 'x[1] <= 21.55\\ngini = 0.153\\nsamples = 24\\nvalue = [22, 2]'),\n",
       " Text(0.050120956842188105, 0.5303030303030303, 'x[11] <= 20.35\\ngini = 0.5\\nsamples = 2\\nvalue = [1, 1]'),\n",
       " Text(0.04990196849989564, 0.5, 'gini = 0.0\\nsamples = 1\\nvalue = [1, 0]'),\n",
       " Text(0.05033994518448057, 0.5, 'gini = 0.0\\nsamples = 1\\nvalue = [0, 1]'),\n",
       " Text(0.050996910211357965, 0.5303030303030303, 'x[6] <= 51.0\\ngini = 0.087\\nsamples = 22\\nvalue = [21, 1]'),\n",
       " Text(0.050777921869065504, 0.5, 'x[6] <= 43.0\\ngini = 0.5\\nsamples = 2\\nvalue = [1, 1]'),\n",
       " Text(0.050558933526773035, 0.4696969696969697, 'gini = 0.0\\nsamples = 1\\nvalue = [1, 0]'),\n",
       " Text(0.050996910211357965, 0.4696969696969697, 'gini = 0.0\\nsamples = 1\\nvalue = [0, 1]'),\n",
       " Text(0.051215898553650434, 0.5, 'gini = 0.0\\nsamples = 20\\nvalue = [20, 0]'),\n",
       " Text(0.05187286358052783, 0.6515151515151515, 'x[6] <= 83.0\\ngini = 0.35\\nsamples = 31\\nvalue = [24, 7]'),\n",
       " Text(0.051653875238235364, 0.6212121212121212, 'x[4] <= 5.0\\ngini = 0.285\\nsamples = 29\\nvalue = [24, 5]'),\n",
       " Text(0.051215898553650434, 0.5909090909090909, 'x[5] <= 19.5\\ngini = 0.444\\nsamples = 3\\nvalue = [1, 2]'),\n",
       " Text(0.050996910211357965, 0.5606060606060606, 'gini = 0.0\\nsamples = 2\\nvalue = [0, 2]'),\n",
       " Text(0.051434886895942895, 0.5606060606060606, 'gini = 0.0\\nsamples = 1\\nvalue = [1, 0]'),\n",
       " Text(0.052091851922820294, 0.5909090909090909, 'x[0] <= 14.55\\ngini = 0.204\\nsamples = 26\\nvalue = [23, 3]'),\n",
       " Text(0.05187286358052783, 0.5606060606060606, 'gini = 0.0\\nsamples = 19\\nvalue = [19, 0]'),\n",
       " Text(0.05231084026511276, 0.5606060606060606, 'x[3] <= 42.0\\ngini = 0.49\\nsamples = 7\\nvalue = [4, 3]'),\n",
       " Text(0.052091851922820294, 0.5303030303030303, 'gini = 0.0\\nsamples = 3\\nvalue = [3, 0]'),\n",
       " Text(0.05252982860740523, 0.5303030303030303, 'x[6] <= 66.0\\ngini = 0.375\\nsamples = 4\\nvalue = [1, 3]'),\n",
       " Text(0.05231084026511276, 0.5, 'gini = 0.0\\nsamples = 3\\nvalue = [0, 3]'),\n",
       " Text(0.05274881694969769, 0.5, 'gini = 0.0\\nsamples = 1\\nvalue = [1, 0]'),\n",
       " Text(0.052091851922820294, 0.6212121212121212, 'gini = 0.0\\nsamples = 2\\nvalue = [0, 2]'),\n",
       " Text(0.05840059811190989, 0.7121212121212122, 'x[9] <= 1010.25\\ngini = 0.31\\nsamples = 328\\nvalue = [265, 63]'),\n",
       " Text(0.05493870037262235, 0.6818181818181818, 'x[6] <= 51.0\\ngini = 0.499\\nsamples = 48\\nvalue = [23, 25]'),\n",
       " Text(0.05471971203032989, 0.6515151515151515, 'gini = 0.0\\nsamples = 4\\nvalue = [4, 0]'),\n",
       " Text(0.05515768871491482, 0.6515151515151515, 'x[11] <= 25.8\\ngini = 0.491\\nsamples = 44\\nvalue = [19, 25]'),\n",
       " Text(0.05471971203032989, 0.6212121212121212, 'x[11] <= 14.95\\ngini = 0.465\\nsamples = 38\\nvalue = [14, 24]'),\n",
       " Text(0.05450072368803742, 0.5909090909090909, 'gini = 0.0\\nsamples = 2\\nvalue = [2, 0]'),\n",
       " Text(0.05493870037262235, 0.5909090909090909, 'x[3] <= 53.0\\ngini = 0.444\\nsamples = 36\\nvalue = [12, 24]'),\n",
       " Text(0.05406274700345249, 0.5606060606060606, 'x[3] <= 40.0\\ngini = 0.391\\nsamples = 30\\nvalue = [8, 22]'),\n",
       " Text(0.05340578197657509, 0.5303030303030303, 'x[5] <= 12.0\\ngini = 0.497\\nsamples = 13\\nvalue = [6, 7]'),\n",
       " Text(0.05318679363428262, 0.5, 'gini = 0.0\\nsamples = 3\\nvalue = [0, 3]'),\n",
       " Text(0.05362477031886756, 0.5, 'x[1] <= 26.1\\ngini = 0.48\\nsamples = 10\\nvalue = [6, 4]'),\n",
       " Text(0.05340578197657509, 0.4696969696969697, 'x[7] <= 38.5\\ngini = 0.375\\nsamples = 8\\nvalue = [6, 2]'),\n",
       " Text(0.05318679363428262, 0.4393939393939394, 'gini = 0.0\\nsamples = 5\\nvalue = [5, 0]'),\n",
       " Text(0.05362477031886756, 0.4393939393939394, 'x[0] <= 10.45\\ngini = 0.444\\nsamples = 3\\nvalue = [1, 2]'),\n",
       " Text(0.05340578197657509, 0.4090909090909091, 'gini = 0.0\\nsamples = 2\\nvalue = [0, 2]'),\n",
       " Text(0.05384375866116002, 0.4090909090909091, 'gini = 0.0\\nsamples = 1\\nvalue = [1, 0]'),\n",
       " Text(0.05384375866116002, 0.4696969696969697, 'gini = 0.0\\nsamples = 2\\nvalue = [0, 2]'),\n",
       " Text(0.05471971203032989, 0.5303030303030303, 'x[6] <= 95.5\\ngini = 0.208\\nsamples = 17\\nvalue = [2, 15]'),\n",
       " Text(0.05450072368803742, 0.5, 'x[6] <= 83.0\\ngini = 0.117\\nsamples = 16\\nvalue = [1, 15]'),\n",
       " Text(0.05428173534574495, 0.4696969696969697, 'gini = 0.0\\nsamples = 13\\nvalue = [0, 13]'),\n",
       " Text(0.05471971203032989, 0.4696969696969697, 'x[6] <= 84.5\\ngini = 0.444\\nsamples = 3\\nvalue = [1, 2]'),\n",
       " Text(0.05450072368803742, 0.4393939393939394, 'gini = 0.0\\nsamples = 1\\nvalue = [1, 0]'),\n",
       " Text(0.05493870037262235, 0.4393939393939394, 'gini = 0.0\\nsamples = 2\\nvalue = [0, 2]'),\n",
       " Text(0.05493870037262235, 0.5, 'gini = 0.0\\nsamples = 1\\nvalue = [1, 0]'),\n",
       " Text(0.05581465374179222, 0.5606060606060606, 'x[0] <= 7.2\\ngini = 0.444\\nsamples = 6\\nvalue = [4, 2]'),\n",
       " Text(0.05559566539949975, 0.5303030303030303, 'x[8] <= 1016.3\\ngini = 0.444\\nsamples = 3\\nvalue = [1, 2]'),\n",
       " Text(0.05537667705720728, 0.5, 'gini = 0.0\\nsamples = 2\\nvalue = [0, 2]'),\n",
       " Text(0.05581465374179222, 0.5, 'gini = 0.0\\nsamples = 1\\nvalue = [1, 0]'),\n",
       " Text(0.05603364208408468, 0.5303030303030303, 'gini = 0.0\\nsamples = 3\\nvalue = [3, 0]'),\n",
       " Text(0.05559566539949975, 0.6212121212121212, 'x[2] <= 0.1\\ngini = 0.278\\nsamples = 6\\nvalue = [5, 1]'),\n",
       " Text(0.05537667705720728, 0.5909090909090909, 'gini = 0.0\\nsamples = 5\\nvalue = [5, 0]'),\n",
       " Text(0.05581465374179222, 0.5909090909090909, 'gini = 0.0\\nsamples = 1\\nvalue = [0, 1]'),\n",
       " Text(0.06186249585119742, 0.6818181818181818, 'x[8] <= 1017.25\\ngini = 0.235\\nsamples = 280\\nvalue = [242, 38]'),\n",
       " Text(0.05838434507088037, 0.6515151515151515, 'x[3] <= 34.0\\ngini = 0.188\\nsamples = 229\\nvalue = [205, 24]'),\n",
       " Text(0.056909595453254545, 0.6212121212121212, 'x[5] <= 5.0\\ngini = 0.058\\nsamples = 67\\nvalue = [65, 2]'),\n",
       " Text(0.05647161876866961, 0.5909090909090909, 'x[11] <= 19.7\\ngini = 0.444\\nsamples = 3\\nvalue = [2, 1]'),\n",
       " Text(0.05625263042637715, 0.5606060606060606, 'gini = 0.0\\nsamples = 1\\nvalue = [0, 1]'),\n",
       " Text(0.05669060711096208, 0.5606060606060606, 'gini = 0.0\\nsamples = 2\\nvalue = [2, 0]'),\n",
       " Text(0.057347572137839475, 0.5909090909090909, 'x[9] <= 1011.75\\ngini = 0.031\\nsamples = 64\\nvalue = [63, 1]'),\n",
       " Text(0.05712858379554701, 0.5606060606060606, 'x[9] <= 1011.6\\ngini = 0.117\\nsamples = 16\\nvalue = [15, 1]'),\n",
       " Text(0.056909595453254545, 0.5303030303030303, 'gini = 0.0\\nsamples = 15\\nvalue = [15, 0]'),\n",
       " Text(0.057347572137839475, 0.5303030303030303, 'gini = 0.0\\nsamples = 1\\nvalue = [0, 1]'),\n",
       " Text(0.057566560480131944, 0.5606060606060606, 'gini = 0.0\\nsamples = 48\\nvalue = [48, 0]'),\n",
       " Text(0.05985909468850619, 0.6212121212121212, 'x[8] <= 1014.35\\ngini = 0.235\\nsamples = 162\\nvalue = [140, 22]'),\n",
       " Text(0.058223525507009335, 0.5909090909090909, 'x[4] <= 27.0\\ngini = 0.044\\nsamples = 44\\nvalue = [43, 1]'),\n",
       " Text(0.058004537164716874, 0.5606060606060606, 'gini = 0.0\\nsamples = 37\\nvalue = [37, 0]'),\n",
       " Text(0.058442513849301804, 0.5606060606060606, 'x[0] <= 9.0\\ngini = 0.245\\nsamples = 7\\nvalue = [6, 1]'),\n",
       " Text(0.058223525507009335, 0.5303030303030303, 'x[8] <= 1013.75\\ngini = 0.5\\nsamples = 2\\nvalue = [1, 1]'),\n",
       " Text(0.058004537164716874, 0.5, 'gini = 0.0\\nsamples = 1\\nvalue = [1, 0]'),\n",
       " Text(0.058442513849301804, 0.5, 'gini = 0.0\\nsamples = 1\\nvalue = [0, 1]'),\n",
       " Text(0.05866150219159427, 0.5303030303030303, 'gini = 0.0\\nsamples = 5\\nvalue = [5, 0]'),\n",
       " Text(0.06149466387000305, 0.5909090909090909, 'x[7] <= 38.5\\ngini = 0.293\\nsamples = 118\\nvalue = [97, 21]'),\n",
       " Text(0.05994805870256251, 0.5606060606060606, 'x[9] <= 1010.95\\ngini = 0.221\\nsamples = 95\\nvalue = [83, 12]'),\n",
       " Text(0.0590994788761792, 0.5303030303030303, 'x[9] <= 1010.55\\ngini = 0.459\\nsamples = 14\\nvalue = [9, 5]'),\n",
       " Text(0.058880490533886734, 0.5, 'gini = 0.0\\nsamples = 8\\nvalue = [8, 0]'),\n",
       " Text(0.059318467218471664, 0.5, 'x[11] <= 19.65\\ngini = 0.278\\nsamples = 6\\nvalue = [1, 5]'),\n",
       " Text(0.0590994788761792, 0.4696969696969697, 'gini = 0.0\\nsamples = 1\\nvalue = [1, 0]'),\n",
       " Text(0.05953745556076413, 0.4696969696969697, 'gini = 0.0\\nsamples = 5\\nvalue = [0, 5]'),\n",
       " Text(0.06079663852894581, 0.5303030303030303, 'x[6] <= 48.0\\ngini = 0.158\\nsamples = 81\\nvalue = [74, 7]'),\n",
       " Text(0.06019442058764153, 0.5, 'x[1] <= 24.95\\ngini = 0.355\\nsamples = 13\\nvalue = [10, 3]'),\n",
       " Text(0.05997543224534906, 0.4696969696969697, 'x[10] <= 15.45\\ngini = 0.278\\nsamples = 12\\nvalue = [10, 2]'),\n",
       " Text(0.0597564439030566, 0.4393939393939394, 'x[7] <= 31.0\\ngini = 0.5\\nsamples = 4\\nvalue = [2, 2]'),\n",
       " Text(0.05953745556076413, 0.4090909090909091, 'gini = 0.0\\nsamples = 2\\nvalue = [2, 0]'),\n",
       " Text(0.05997543224534906, 0.4090909090909091, 'gini = 0.0\\nsamples = 2\\nvalue = [0, 2]'),\n",
       " Text(0.06019442058764153, 0.4393939393939394, 'gini = 0.0\\nsamples = 8\\nvalue = [8, 0]'),\n",
       " Text(0.06041340892993399, 0.4696969696969697, 'gini = 0.0\\nsamples = 1\\nvalue = [0, 1]'),\n",
       " Text(0.06139885647025009, 0.5, 'x[5] <= 14.0\\ngini = 0.111\\nsamples = 68\\nvalue = [64, 4]'),\n",
       " Text(0.06085138561451893, 0.4696969696969697, 'x[6] <= 72.0\\ngini = 0.375\\nsamples = 8\\nvalue = [6, 2]'),\n",
       " Text(0.06063239727222646, 0.4393939393939394, 'x[11] <= 21.2\\ngini = 0.245\\nsamples = 7\\nvalue = [6, 1]'),\n",
       " Text(0.06041340892993399, 0.4090909090909091, 'gini = 0.0\\nsamples = 1\\nvalue = [0, 1]'),\n",
       " Text(0.06085138561451893, 0.4090909090909091, 'gini = 0.0\\nsamples = 6\\nvalue = [6, 0]'),\n",
       " Text(0.06107037395681139, 0.4393939393939394, 'gini = 0.0\\nsamples = 1\\nvalue = [0, 1]'),\n",
       " Text(0.06194632732598126, 0.4696969696969697, 'x[10] <= 17.65\\ngini = 0.064\\nsamples = 60\\nvalue = [58, 2]'),\n",
       " Text(0.06150835064139632, 0.4393939393939394, 'x[9] <= 1013.15\\ngini = 0.034\\nsamples = 57\\nvalue = [56, 1]'),\n",
       " Text(0.06128936229910386, 0.4090909090909091, 'gini = 0.0\\nsamples = 49\\nvalue = [49, 0]'),\n",
       " Text(0.06172733898368879, 0.4090909090909091, 'x[0] <= 12.35\\ngini = 0.219\\nsamples = 8\\nvalue = [7, 1]'),\n",
       " Text(0.06150835064139632, 0.3787878787878788, 'gini = 0.0\\nsamples = 7\\nvalue = [7, 0]'),\n",
       " Text(0.06194632732598126, 0.3787878787878788, 'gini = 0.0\\nsamples = 1\\nvalue = [0, 1]'),\n",
       " Text(0.06238430401056619, 0.4393939393939394, 'x[9] <= 1012.65\\ngini = 0.444\\nsamples = 3\\nvalue = [2, 1]'),\n",
       " Text(0.06216531566827372, 0.4090909090909091, 'gini = 0.0\\nsamples = 2\\nvalue = [2, 0]'),\n",
       " Text(0.06260329235285865, 0.4090909090909091, 'gini = 0.0\\nsamples = 1\\nvalue = [0, 1]'),\n",
       " Text(0.06304126903744359, 0.5606060606060606, 'x[3] <= 40.0\\ngini = 0.476\\nsamples = 23\\nvalue = [14, 9]'),\n",
       " Text(0.06260329235285865, 0.5303030303030303, 'x[6] <= 46.5\\ngini = 0.337\\nsamples = 14\\nvalue = [11, 3]'),\n",
       " Text(0.06238430401056619, 0.5, 'gini = 0.0\\nsamples = 1\\nvalue = [0, 1]'),\n",
       " Text(0.06282228069515113, 0.5, 'x[10] <= 16.3\\ngini = 0.26\\nsamples = 13\\nvalue = [11, 2]'),\n",
       " Text(0.06260329235285865, 0.4696969696969697, 'gini = 0.0\\nsamples = 8\\nvalue = [8, 0]'),\n",
       " Text(0.06304126903744359, 0.4696969696969697, 'x[10] <= 16.55\\ngini = 0.48\\nsamples = 5\\nvalue = [3, 2]'),\n",
       " Text(0.06282228069515113, 0.4393939393939394, 'gini = 0.0\\nsamples = 2\\nvalue = [0, 2]'),\n",
       " Text(0.06326025737973605, 0.4393939393939394, 'gini = 0.0\\nsamples = 3\\nvalue = [3, 0]'),\n",
       " Text(0.06347924572202851, 0.5303030303030303, 'x[0] <= 7.3\\ngini = 0.444\\nsamples = 9\\nvalue = [3, 6]'),\n",
       " Text(0.06326025737973605, 0.5, 'gini = 0.0\\nsamples = 4\\nvalue = [0, 4]'),\n",
       " Text(0.06369823406432099, 0.5, 'x[8] <= 1014.55\\ngini = 0.48\\nsamples = 5\\nvalue = [3, 2]'),\n",
       " Text(0.06347924572202851, 0.4696969696969697, 'gini = 0.0\\nsamples = 2\\nvalue = [0, 2]'),\n",
       " Text(0.06391722240661345, 0.4696969696969697, 'gini = 0.0\\nsamples = 3\\nvalue = [3, 0]'),\n",
       " Text(0.06534064663151448, 0.6515151515151515, 'x[10] <= 17.5\\ngini = 0.398\\nsamples = 51\\nvalue = [37, 14]'),\n",
       " Text(0.065121658289222, 0.6212121212121212, 'x[11] <= 22.85\\ngini = 0.37\\nsamples = 49\\nvalue = [37, 12]'),\n",
       " Text(0.06457418743349085, 0.5909090909090909, 'x[10] <= 13.9\\ngini = 0.452\\nsamples = 29\\nvalue = [19, 10]'),\n",
       " Text(0.06413621074890591, 0.5606060606060606, 'x[8] <= 1018.1\\ngini = 0.351\\nsamples = 22\\nvalue = [17, 5]'),\n",
       " Text(0.06391722240661345, 0.5303030303030303, 'gini = 0.0\\nsamples = 9\\nvalue = [9, 0]'),\n",
       " Text(0.06435519909119838, 0.5303030303030303, 'x[4] <= 10.0\\ngini = 0.473\\nsamples = 13\\nvalue = [8, 5]'),\n",
       " Text(0.06413621074890591, 0.5, 'gini = 0.0\\nsamples = 2\\nvalue = [0, 2]'),\n",
       " Text(0.06457418743349085, 0.5, 'x[8] <= 1018.8\\ngini = 0.397\\nsamples = 11\\nvalue = [8, 3]'),\n",
       " Text(0.06435519909119838, 0.4696969696969697, 'x[7] <= 36.0\\ngini = 0.48\\nsamples = 5\\nvalue = [2, 3]'),\n",
       " Text(0.06413621074890591, 0.4393939393939394, 'x[8] <= 1018.55\\ngini = 0.444\\nsamples = 3\\nvalue = [2, 1]'),\n",
       " Text(0.06391722240661345, 0.4090909090909091, 'gini = 0.0\\nsamples = 2\\nvalue = [2, 0]'),\n",
       " Text(0.06435519909119838, 0.4090909090909091, 'gini = 0.0\\nsamples = 1\\nvalue = [0, 1]'),\n",
       " Text(0.06457418743349085, 0.4393939393939394, 'gini = 0.0\\nsamples = 2\\nvalue = [0, 2]'),\n",
       " Text(0.06479317577578331, 0.4696969696969697, 'gini = 0.0\\nsamples = 6\\nvalue = [6, 0]'),\n",
       " Text(0.06501216411807578, 0.5606060606060606, 'x[9] <= 1013.25\\ngini = 0.408\\nsamples = 7\\nvalue = [2, 5]'),\n",
       " Text(0.06479317577578331, 0.5303030303030303, 'gini = 0.0\\nsamples = 5\\nvalue = [0, 5]'),\n",
       " Text(0.06523115246036824, 0.5303030303030303, 'gini = 0.0\\nsamples = 2\\nvalue = [2, 0]'),\n",
       " Text(0.06566912914495317, 0.5909090909090909, 'x[6] <= 52.0\\ngini = 0.18\\nsamples = 20\\nvalue = [18, 2]'),\n",
       " Text(0.0654501408026607, 0.5606060606060606, 'gini = 0.0\\nsamples = 1\\nvalue = [0, 1]'),\n",
       " Text(0.06588811748724564, 0.5606060606060606, 'x[11] <= 26.65\\ngini = 0.1\\nsamples = 19\\nvalue = [18, 1]'),\n",
       " Text(0.06566912914495317, 0.5303030303030303, 'gini = 0.0\\nsamples = 17\\nvalue = [17, 0]'),\n",
       " Text(0.0661071058295381, 0.5303030303030303, 'x[2] <= 0.1\\ngini = 0.5\\nsamples = 2\\nvalue = [1, 1]'),\n",
       " Text(0.06588811748724564, 0.5, 'gini = 0.0\\nsamples = 1\\nvalue = [1, 0]'),\n",
       " Text(0.06632609417183057, 0.5, 'gini = 0.0\\nsamples = 1\\nvalue = [0, 1]'),\n",
       " Text(0.06555963497380694, 0.6212121212121212, 'gini = 0.0\\nsamples = 2\\nvalue = [0, 2]'),\n",
       " Text(0.07758810164053064, 0.7424242424242424, 'x[3] <= 53.0\\ngini = 0.117\\nsamples = 1245\\nvalue = [1167, 78]'),\n",
       " Text(0.072535477608442, 0.7121212121212122, 'x[6] <= 99.0\\ngini = 0.105\\nsamples = 1191\\nvalue = [1125, 66]'),\n",
       " Text(0.07231648926614953, 0.6818181818181818, 'x[8] <= 1018.75\\ngini = 0.103\\nsamples = 1190\\nvalue = [1125, 65]'),\n",
       " Text(0.07209750092385707, 0.6515151515151515, 'x[5] <= 12.0\\ngini = 0.102\\nsamples = 1189\\nvalue = [1125, 64]'),\n",
       " Text(0.06857072468032835, 0.6212121212121212, 'x[3] <= 47.0\\ngini = 0.196\\nsamples = 173\\nvalue = [154, 19]'),\n",
       " Text(0.06796850673902406, 0.5909090909090909, 'x[10] <= 28.15\\ngini = 0.157\\nsamples = 163\\nvalue = [149, 14]'),\n",
       " Text(0.0674210358832929, 0.5606060606060606, 'x[2] <= 6.7\\ngini = 0.139\\nsamples = 160\\nvalue = [148, 12]'),\n",
       " Text(0.06698305919870796, 0.5303030303030303, 'x[4] <= 31.5\\ngini = 0.119\\nsamples = 157\\nvalue = [147, 10]'),\n",
       " Text(0.0667640708564155, 0.5, 'x[3] <= 36.0\\ngini = 0.109\\nsamples = 156\\nvalue = [147, 9]'),\n",
       " Text(0.06632609417183057, 0.4696969696969697, 'x[3] <= 34.0\\ngini = 0.02\\nsamples = 97\\nvalue = [96, 1]'),\n",
       " Text(0.0661071058295381, 0.4393939393939394, 'gini = 0.0\\nsamples = 80\\nvalue = [80, 0]'),\n",
       " Text(0.06654508251412304, 0.4393939393939394, 'x[4] <= 8.0\\ngini = 0.111\\nsamples = 17\\nvalue = [16, 1]'),\n",
       " Text(0.06632609417183057, 0.4090909090909091, 'x[10] <= 22.7\\ngini = 0.375\\nsamples = 4\\nvalue = [3, 1]'),\n",
       " Text(0.0661071058295381, 0.3787878787878788, 'gini = 0.0\\nsamples = 3\\nvalue = [3, 0]'),\n",
       " Text(0.06654508251412304, 0.3787878787878788, 'gini = 0.0\\nsamples = 1\\nvalue = [0, 1]'),\n",
       " Text(0.0667640708564155, 0.4090909090909091, 'gini = 0.0\\nsamples = 13\\nvalue = [13, 0]'),\n",
       " Text(0.06720204754100044, 0.4696969696969697, 'x[4] <= 3.0\\ngini = 0.234\\nsamples = 59\\nvalue = [51, 8]'),\n",
       " Text(0.06698305919870796, 0.4393939393939394, 'gini = 0.0\\nsamples = 1\\nvalue = [0, 1]'),\n",
       " Text(0.0674210358832929, 0.4393939393939394, 'x[8] <= 1013.05\\ngini = 0.212\\nsamples = 58\\nvalue = [51, 7]'),\n",
       " Text(0.06720204754100044, 0.4090909090909091, 'gini = 0.0\\nsamples = 22\\nvalue = [22, 0]'),\n",
       " Text(0.06764002422558536, 0.4090909090909091, 'x[4] <= 16.0\\ngini = 0.313\\nsamples = 36\\nvalue = [29, 7]'),\n",
       " Text(0.06720204754100044, 0.3787878787878788, 'x[11] <= 31.9\\ngini = 0.469\\nsamples = 16\\nvalue = [10, 6]'),\n",
       " Text(0.06698305919870796, 0.3484848484848485, 'x[1] <= 31.6\\ngini = 0.444\\nsamples = 9\\nvalue = [3, 6]'),\n",
       " Text(0.0667640708564155, 0.3181818181818182, 'x[10] <= 19.5\\ngini = 0.375\\nsamples = 4\\nvalue = [3, 1]'),\n",
       " Text(0.06654508251412304, 0.2878787878787879, 'gini = 0.0\\nsamples = 1\\nvalue = [0, 1]'),\n",
       " Text(0.06698305919870796, 0.2878787878787879, 'gini = 0.0\\nsamples = 3\\nvalue = [3, 0]'),\n",
       " Text(0.06720204754100044, 0.3181818181818182, 'gini = 0.0\\nsamples = 5\\nvalue = [0, 5]'),\n",
       " Text(0.0674210358832929, 0.3484848484848485, 'gini = 0.0\\nsamples = 7\\nvalue = [7, 0]'),\n",
       " Text(0.0680780009101703, 0.3787878787878788, 'x[1] <= 36.8\\ngini = 0.095\\nsamples = 20\\nvalue = [19, 1]'),\n",
       " Text(0.06785901256787784, 0.3484848484848485, 'gini = 0.0\\nsamples = 19\\nvalue = [19, 0]'),\n",
       " Text(0.06829698925246276, 0.3484848484848485, 'gini = 0.0\\nsamples = 1\\nvalue = [0, 1]'),\n",
       " Text(0.06720204754100044, 0.5, 'gini = 0.0\\nsamples = 1\\nvalue = [0, 1]'),\n",
       " Text(0.06785901256787784, 0.5303030303030303, 'x[1] <= 29.45\\ngini = 0.444\\nsamples = 3\\nvalue = [1, 2]'),\n",
       " Text(0.06764002422558536, 0.5, 'gini = 0.0\\nsamples = 2\\nvalue = [0, 2]'),\n",
       " Text(0.0680780009101703, 0.5, 'gini = 0.0\\nsamples = 1\\nvalue = [1, 0]'),\n",
       " Text(0.06851597759475522, 0.5606060606060606, 'x[0] <= 18.4\\ngini = 0.444\\nsamples = 3\\nvalue = [1, 2]'),\n",
       " Text(0.06829698925246276, 0.5303030303030303, 'gini = 0.0\\nsamples = 1\\nvalue = [1, 0]'),\n",
       " Text(0.0687349659370477, 0.5303030303030303, 'gini = 0.0\\nsamples = 2\\nvalue = [0, 2]'),\n",
       " Text(0.06917294262163262, 0.5909090909090909, 'x[0] <= 15.05\\ngini = 0.5\\nsamples = 10\\nvalue = [5, 5]'),\n",
       " Text(0.06895395427934016, 0.5606060606060606, 'gini = 0.0\\nsamples = 5\\nvalue = [5, 0]'),\n",
       " Text(0.0693919309639251, 0.5606060606060606, 'gini = 0.0\\nsamples = 5\\nvalue = [0, 5]'),\n",
       " Text(0.07562427716738579, 0.6212121212121212, 'x[6] <= 24.5\\ngini = 0.085\\nsamples = 1016\\nvalue = [971, 45]'),\n",
       " Text(0.07141415143728208, 0.5909090909090909, 'x[0] <= 15.05\\ngini = 0.355\\nsamples = 13\\nvalue = [10, 3]'),\n",
       " Text(0.07119516309498962, 0.5606060606060606, 'gini = 0.0\\nsamples = 2\\nvalue = [0, 2]'),\n",
       " Text(0.07163313977957454, 0.5606060606060606, 'x[8] <= 1010.6\\ngini = 0.165\\nsamples = 11\\nvalue = [10, 1]'),\n",
       " Text(0.07141415143728208, 0.5303030303030303, 'x[3] <= 38.0\\ngini = 0.5\\nsamples = 2\\nvalue = [1, 1]'),\n",
       " Text(0.07119516309498962, 0.5, 'gini = 0.0\\nsamples = 1\\nvalue = [1, 0]'),\n",
       " Text(0.07163313977957454, 0.5, 'gini = 0.0\\nsamples = 1\\nvalue = [0, 1]'),\n",
       " Text(0.07185212812186702, 0.5303030303030303, 'gini = 0.0\\nsamples = 9\\nvalue = [9, 0]'),\n",
       " Text(0.0798344028974895, 0.5909090909090909, 'x[8] <= 1018.3\\ngini = 0.08\\nsamples = 1003\\nvalue = [961, 42]'),\n",
       " Text(0.07801352766267583, 0.5606060606060606, 'x[4] <= 30.5\\ngini = 0.077\\nsamples = 996\\nvalue = [956, 40]'),\n",
       " Text(0.07502874221992589, 0.5303030303030303, 'x[4] <= 3.0\\ngini = 0.073\\nsamples = 980\\nvalue = [943, 37]'),\n",
       " Text(0.07207111646415948, 0.5, 'x[11] <= 26.65\\ngini = 0.346\\nsamples = 9\\nvalue = [7, 2]'),\n",
       " Text(0.07185212812186702, 0.4696969696969697, 'x[7] <= 34.5\\ngini = 0.444\\nsamples = 3\\nvalue = [1, 2]'),\n",
       " Text(0.07163313977957454, 0.4393939393939394, 'gini = 0.0\\nsamples = 1\\nvalue = [1, 0]'),\n",
       " Text(0.07207111646415948, 0.4393939393939394, 'gini = 0.0\\nsamples = 2\\nvalue = [0, 2]'),\n",
       " Text(0.07229010480645194, 0.4696969696969697, 'gini = 0.0\\nsamples = 6\\nvalue = [6, 0]'),\n",
       " Text(0.07798636797569229, 0.5, 'x[6] <= 76.5\\ngini = 0.069\\nsamples = 971\\nvalue = [936, 35]'),\n",
       " Text(0.07541239953054374, 0.4696969696969697, 'x[11] <= 35.65\\ngini = 0.061\\nsamples = 917\\nvalue = [888, 29]'),\n",
       " Text(0.07250909314874442, 0.4393939393939394, 'x[8] <= 1011.95\\ngini = 0.058\\nsamples = 908\\nvalue = [881, 27]'),\n",
       " Text(0.0693919309639251, 0.4090909090909091, 'x[1] <= 30.7\\ngini = 0.119\\nsamples = 158\\nvalue = [148, 10]'),\n",
       " Text(0.06895395427934016, 0.3787878787878788, 'x[1] <= 25.05\\ngini = 0.025\\nsamples = 79\\nvalue = [78, 1]'),\n",
       " Text(0.0687349659370477, 0.3484848484848485, 'x[10] <= 20.5\\ngini = 0.18\\nsamples = 10\\nvalue = [9, 1]'),\n",
       " Text(0.06851597759475522, 0.3181818181818182, 'gini = 0.0\\nsamples = 9\\nvalue = [9, 0]'),\n",
       " Text(0.06895395427934016, 0.3181818181818182, 'gini = 0.0\\nsamples = 1\\nvalue = [0, 1]'),\n",
       " Text(0.06917294262163262, 0.3484848484848485, 'gini = 0.0\\nsamples = 69\\nvalue = [69, 0]'),\n",
       " Text(0.06982990764851002, 0.3787878787878788, 'x[8] <= 1008.2\\ngini = 0.202\\nsamples = 79\\nvalue = [70, 9]'),\n",
       " Text(0.06961091930621756, 0.3484848484848485, 'gini = 0.0\\nsamples = 1\\nvalue = [0, 1]'),\n",
       " Text(0.0700488959908025, 0.3484848484848485, 'x[9] <= 1008.05\\ngini = 0.184\\nsamples = 78\\nvalue = [70, 8]'),\n",
       " Text(0.06982990764851002, 0.3181818181818182, 'gini = 0.0\\nsamples = 25\\nvalue = [25, 0]'),\n",
       " Text(0.07026788433309496, 0.3181818181818182, 'x[6] <= 67.0\\ngini = 0.256\\nsamples = 53\\nvalue = [45, 8]'),\n",
       " Text(0.06961091930621756, 0.2878787878787879, 'x[0] <= 22.95\\ngini = 0.198\\nsamples = 45\\nvalue = [40, 5]'),\n",
       " Text(0.06895395427934016, 0.25757575757575757, 'x[8] <= 1011.75\\ngini = 0.105\\nsamples = 36\\nvalue = [34, 2]'),\n",
       " Text(0.0687349659370477, 0.22727272727272727, 'gini = 0.0\\nsamples = 29\\nvalue = [29, 0]'),\n",
       " Text(0.06917294262163262, 0.22727272727272727, 'x[5] <= 23.0\\ngini = 0.408\\nsamples = 7\\nvalue = [5, 2]'),\n",
       " Text(0.06895395427934016, 0.19696969696969696, 'gini = 0.0\\nsamples = 4\\nvalue = [4, 0]'),\n",
       " Text(0.0693919309639251, 0.19696969696969696, 'x[4] <= 15.0\\ngini = 0.444\\nsamples = 3\\nvalue = [1, 2]'),\n",
       " Text(0.06917294262163262, 0.16666666666666666, 'gini = 0.0\\nsamples = 2\\nvalue = [0, 2]'),\n",
       " Text(0.06961091930621756, 0.16666666666666666, 'gini = 0.0\\nsamples = 1\\nvalue = [1, 0]'),\n",
       " Text(0.07026788433309496, 0.25757575757575757, 'x[6] <= 44.5\\ngini = 0.444\\nsamples = 9\\nvalue = [6, 3]'),\n",
       " Text(0.0700488959908025, 0.22727272727272727, 'x[6] <= 40.0\\ngini = 0.375\\nsamples = 4\\nvalue = [1, 3]'),\n",
       " Text(0.06982990764851002, 0.19696969696969696, 'gini = 0.0\\nsamples = 1\\nvalue = [1, 0]'),\n",
       " Text(0.07026788433309496, 0.19696969696969696, 'gini = 0.0\\nsamples = 3\\nvalue = [0, 3]'),\n",
       " Text(0.07048687267538742, 0.22727272727272727, 'gini = 0.0\\nsamples = 5\\nvalue = [5, 0]'),\n",
       " Text(0.07092484935997236, 0.2878787878787879, 'x[6] <= 70.5\\ngini = 0.469\\nsamples = 8\\nvalue = [5, 3]'),\n",
       " Text(0.07070586101767988, 0.25757575757575757, 'gini = 0.0\\nsamples = 2\\nvalue = [0, 2]'),\n",
       " Text(0.07114383770226482, 0.25757575757575757, 'x[7] <= 33.5\\ngini = 0.278\\nsamples = 6\\nvalue = [5, 1]'),\n",
       " Text(0.07092484935997236, 0.22727272727272727, 'x[7] <= 31.0\\ngini = 0.5\\nsamples = 2\\nvalue = [1, 1]'),\n",
       " Text(0.07070586101767988, 0.19696969696969696, 'gini = 0.0\\nsamples = 1\\nvalue = [1, 0]'),\n",
       " Text(0.07114383770226482, 0.19696969696969696, 'gini = 0.0\\nsamples = 1\\nvalue = [0, 1]'),\n",
       " Text(0.07136282604455728, 0.22727272727272727, 'gini = 0.0\\nsamples = 4\\nvalue = [4, 0]'),\n",
       " Text(0.07562625533356372, 0.4090909090909091, 'x[6] <= 59.5\\ngini = 0.044\\nsamples = 750\\nvalue = [733, 17]'),\n",
       " Text(0.07403174646624672, 0.3787878787878788, 'x[5] <= 25.0\\ngini = 0.063\\nsamples = 459\\nvalue = [444, 15]'),\n",
       " Text(0.07381275812395424, 0.3484848484848485, 'x[3] <= 38.0\\ngini = 0.083\\nsamples = 344\\nvalue = [329, 15]'),\n",
       " Text(0.07223877941372715, 0.3181818181818182, 'x[9] <= 1007.95\\ngini = 0.025\\nsamples = 155\\nvalue = [153, 2]'),\n",
       " Text(0.07180080272914222, 0.2878787878787879, 'x[5] <= 15.0\\ngini = 0.444\\nsamples = 3\\nvalue = [2, 1]'),\n",
       " Text(0.07158181438684975, 0.25757575757575757, 'gini = 0.0\\nsamples = 1\\nvalue = [0, 1]'),\n",
       " Text(0.07201979107143468, 0.25757575757575757, 'gini = 0.0\\nsamples = 2\\nvalue = [2, 0]'),\n",
       " Text(0.07267675609831208, 0.2878787878787879, 'x[8] <= 1017.55\\ngini = 0.013\\nsamples = 152\\nvalue = [151, 1]'),\n",
       " Text(0.07245776775601961, 0.25757575757575757, 'gini = 0.0\\nsamples = 149\\nvalue = [149, 0]'),\n",
       " Text(0.07289574444060455, 0.25757575757575757, 'x[11] <= 25.05\\ngini = 0.444\\nsamples = 3\\nvalue = [2, 1]'),\n",
       " Text(0.07267675609831208, 0.22727272727272727, 'gini = 0.0\\nsamples = 1\\nvalue = [0, 1]'),\n",
       " Text(0.07311473278289701, 0.22727272727272727, 'gini = 0.0\\nsamples = 2\\nvalue = [2, 0]'),\n",
       " Text(0.07538673683418134, 0.3181818181818182, 'x[7] <= 40.5\\ngini = 0.128\\nsamples = 189\\nvalue = [176, 13]'),\n",
       " Text(0.07420967449435933, 0.2878787878787879, 'x[4] <= 5.0\\ngini = 0.099\\nsamples = 173\\nvalue = [164, 9]'),\n",
       " Text(0.07377169780977441, 0.25757575757575757, 'x[11] <= 32.05\\ngini = 0.5\\nsamples = 2\\nvalue = [1, 1]'),\n",
       " Text(0.07355270946748194, 0.22727272727272727, 'gini = 0.0\\nsamples = 1\\nvalue = [1, 0]'),\n",
       " Text(0.07399068615206687, 0.22727272727272727, 'gini = 0.0\\nsamples = 1\\nvalue = [0, 1]'),\n",
       " Text(0.07464765117894427, 0.25757575757575757, 'x[9] <= 1010.25\\ngini = 0.089\\nsamples = 171\\nvalue = [163, 8]'),\n",
       " Text(0.07442866283665181, 0.22727272727272727, 'gini = 0.0\\nsamples = 54\\nvalue = [54, 0]'),\n",
       " Text(0.07486663952123673, 0.22727272727272727, 'x[9] <= 1010.65\\ngini = 0.127\\nsamples = 117\\nvalue = [109, 8]'),\n",
       " Text(0.07393593906649376, 0.19696969696969696, 'x[1] <= 34.0\\ngini = 0.375\\nsamples = 16\\nvalue = [12, 4]'),\n",
       " Text(0.07349796238190882, 0.16666666666666666, 'x[3] <= 40.0\\ngini = 0.26\\nsamples = 13\\nvalue = [11, 2]'),\n",
       " Text(0.07327897403961636, 0.13636363636363635, 'x[0] <= 19.75\\ngini = 0.444\\nsamples = 3\\nvalue = [1, 2]'),\n",
       " Text(0.0730599856973239, 0.10606060606060606, 'gini = 0.0\\nsamples = 2\\nvalue = [0, 2]'),\n",
       " Text(0.07349796238190882, 0.10606060606060606, 'gini = 0.0\\nsamples = 1\\nvalue = [1, 0]'),\n",
       " Text(0.07371695072420129, 0.13636363636363635, 'gini = 0.0\\nsamples = 10\\nvalue = [10, 0]'),\n",
       " Text(0.07437391575107868, 0.16666666666666666, 'x[10] <= 24.6\\ngini = 0.444\\nsamples = 3\\nvalue = [1, 2]'),\n",
       " Text(0.07415492740878622, 0.13636363636363635, 'gini = 0.0\\nsamples = 1\\nvalue = [1, 0]'),\n",
       " Text(0.07459290409337116, 0.13636363636363635, 'gini = 0.0\\nsamples = 2\\nvalue = [0, 2]'),\n",
       " Text(0.07579733997597972, 0.19696969696969696, 'x[3] <= 45.0\\ngini = 0.076\\nsamples = 101\\nvalue = [97, 4]'),\n",
       " Text(0.07524986912024856, 0.16666666666666666, 'x[9] <= 1010.85\\ngini = 0.027\\nsamples = 73\\nvalue = [72, 1]'),\n",
       " Text(0.07503088077795608, 0.13636363636363635, 'x[11] <= 30.65\\ngini = 0.278\\nsamples = 6\\nvalue = [5, 1]'),\n",
       " Text(0.07481189243566362, 0.10606060606060606, 'gini = 0.0\\nsamples = 5\\nvalue = [5, 0]'),\n",
       " Text(0.07524986912024856, 0.10606060606060606, 'gini = 0.0\\nsamples = 1\\nvalue = [0, 1]'),\n",
       " Text(0.07546885746254102, 0.13636363636363635, 'gini = 0.0\\nsamples = 67\\nvalue = [67, 0]'),\n",
       " Text(0.07634481083171088, 0.16666666666666666, 'x[8] <= 1016.1\\ngini = 0.191\\nsamples = 28\\nvalue = [25, 3]'),\n",
       " Text(0.07590683414712594, 0.13636363636363635, 'x[11] <= 24.45\\ngini = 0.083\\nsamples = 23\\nvalue = [22, 1]'),\n",
       " Text(0.07568784580483348, 0.10606060606060606, 'x[0] <= 16.6\\ngini = 0.444\\nsamples = 3\\nvalue = [2, 1]'),\n",
       " Text(0.07546885746254102, 0.07575757575757576, 'gini = 0.0\\nsamples = 2\\nvalue = [2, 0]'),\n",
       " Text(0.07590683414712594, 0.07575757575757576, 'gini = 0.0\\nsamples = 1\\nvalue = [0, 1]'),\n",
       " Text(0.07612582248941842, 0.10606060606060606, 'gini = 0.0\\nsamples = 20\\nvalue = [20, 0]'),\n",
       " Text(0.07678278751629582, 0.13636363636363635, 'x[8] <= 1016.65\\ngini = 0.48\\nsamples = 5\\nvalue = [3, 2]'),\n",
       " Text(0.07656379917400334, 0.10606060606060606, 'gini = 0.0\\nsamples = 2\\nvalue = [0, 2]'),\n",
       " Text(0.07700177585858828, 0.10606060606060606, 'gini = 0.0\\nsamples = 3\\nvalue = [3, 0]'),\n",
       " Text(0.07656379917400334, 0.2878787878787879, 'x[5] <= 16.0\\ngini = 0.375\\nsamples = 16\\nvalue = [12, 4]'),\n",
       " Text(0.07612582248941842, 0.25757575757575757, 'x[3] <= 44.5\\ngini = 0.444\\nsamples = 3\\nvalue = [1, 2]'),\n",
       " Text(0.07590683414712594, 0.22727272727272727, 'gini = 0.0\\nsamples = 2\\nvalue = [0, 2]'),\n",
       " Text(0.07634481083171088, 0.22727272727272727, 'gini = 0.0\\nsamples = 1\\nvalue = [1, 0]'),\n",
       " Text(0.07700177585858828, 0.25757575757575757, 'x[4] <= 25.0\\ngini = 0.26\\nsamples = 13\\nvalue = [11, 2]'),\n",
       " Text(0.07678278751629582, 0.22727272727272727, 'x[5] <= 23.0\\ngini = 0.153\\nsamples = 12\\nvalue = [11, 1]'),\n",
       " Text(0.07656379917400334, 0.19696969696969696, 'gini = 0.0\\nsamples = 10\\nvalue = [10, 0]'),\n",
       " Text(0.07700177585858828, 0.19696969696969696, 'x[7] <= 41.5\\ngini = 0.5\\nsamples = 2\\nvalue = [1, 1]'),\n",
       " Text(0.07678278751629582, 0.16666666666666666, 'gini = 0.0\\nsamples = 1\\nvalue = [1, 0]'),\n",
       " Text(0.07722076420088074, 0.16666666666666666, 'gini = 0.0\\nsamples = 1\\nvalue = [0, 1]'),\n",
       " Text(0.07722076420088074, 0.22727272727272727, 'gini = 0.0\\nsamples = 1\\nvalue = [0, 1]'),\n",
       " Text(0.07425073480853918, 0.3484848484848485, 'gini = 0.0\\nsamples = 115\\nvalue = [115, 0]'),\n",
       " Text(0.07722076420088074, 0.3787878787878788, 'x[0] <= 10.0\\ngini = 0.014\\nsamples = 291\\nvalue = [289, 2]'),\n",
       " Text(0.07678278751629582, 0.3484848484848485, 'x[10] <= 18.15\\ngini = 0.444\\nsamples = 3\\nvalue = [2, 1]'),\n",
       " Text(0.07656379917400334, 0.3181818181818182, 'gini = 0.0\\nsamples = 1\\nvalue = [0, 1]'),\n",
       " Text(0.07700177585858828, 0.3181818181818182, 'gini = 0.0\\nsamples = 2\\nvalue = [2, 0]'),\n",
       " Text(0.07765874088546568, 0.3484848484848485, 'x[10] <= 28.85\\ngini = 0.007\\nsamples = 288\\nvalue = [287, 1]'),\n",
       " Text(0.07743975254317322, 0.3181818181818182, 'gini = 0.0\\nsamples = 259\\nvalue = [259, 0]'),\n",
       " Text(0.07787772922775814, 0.3181818181818182, 'x[3] <= 34.0\\ngini = 0.067\\nsamples = 29\\nvalue = [28, 1]'),\n",
       " Text(0.07765874088546568, 0.2878787878787879, 'x[1] <= 34.1\\ngini = 0.375\\nsamples = 4\\nvalue = [3, 1]'),\n",
       " Text(0.07743975254317322, 0.25757575757575757, 'gini = 0.0\\nsamples = 1\\nvalue = [0, 1]'),\n",
       " Text(0.07787772922775814, 0.25757575757575757, 'gini = 0.0\\nsamples = 3\\nvalue = [3, 0]'),\n",
       " Text(0.0780967175700506, 0.2878787878787879, 'gini = 0.0\\nsamples = 25\\nvalue = [25, 0]'),\n",
       " Text(0.07831570591234308, 0.4393939393939394, 'x[12] <= 0.5\\ngini = 0.346\\nsamples = 9\\nvalue = [7, 2]'),\n",
       " Text(0.0780967175700506, 0.4090909090909091, 'x[4] <= 23.0\\ngini = 0.219\\nsamples = 8\\nvalue = [7, 1]'),\n",
       " Text(0.07787772922775814, 0.3787878787878788, 'gini = 0.0\\nsamples = 6\\nvalue = [6, 0]'),\n",
       " Text(0.07831570591234308, 0.3787878787878788, 'x[10] <= 27.6\\ngini = 0.5\\nsamples = 2\\nvalue = [1, 1]'),\n",
       " Text(0.0780967175700506, 0.3484848484848485, 'gini = 0.0\\nsamples = 1\\nvalue = [0, 1]'),\n",
       " Text(0.07853469425463554, 0.3484848484848485, 'gini = 0.0\\nsamples = 1\\nvalue = [1, 0]'),\n",
       " Text(0.07853469425463554, 0.4090909090909091, 'gini = 0.0\\nsamples = 1\\nvalue = [0, 1]'),\n",
       " Text(0.08056033642084084, 0.4696969696969697, 'x[0] <= 26.0\\ngini = 0.198\\nsamples = 54\\nvalue = [48, 6]'),\n",
       " Text(0.08034134807854838, 0.4393939393939394, 'x[9] <= 1013.05\\ngini = 0.171\\nsamples = 53\\nvalue = [48, 5]'),\n",
       " Text(0.0797391301372441, 0.4090909090909091, 'x[10] <= 18.85\\ngini = 0.145\\nsamples = 51\\nvalue = [47, 4]'),\n",
       " Text(0.07919165928151294, 0.3787878787878788, 'x[2] <= 0.1\\ngini = 0.408\\nsamples = 7\\nvalue = [5, 2]'),\n",
       " Text(0.07897267093922047, 0.3484848484848485, 'gini = 0.0\\nsamples = 2\\nvalue = [0, 2]'),\n",
       " Text(0.0794106476238054, 0.3484848484848485, 'gini = 0.0\\nsamples = 5\\nvalue = [5, 0]'),\n",
       " Text(0.08028660099297527, 0.3787878787878788, 'x[9] <= 1012.55\\ngini = 0.087\\nsamples = 44\\nvalue = [42, 2]'),\n",
       " Text(0.07984862430839033, 0.3484848484848485, 'x[4] <= 18.0\\ngini = 0.048\\nsamples = 41\\nvalue = [40, 1]'),\n",
       " Text(0.07962963596609787, 0.3181818181818182, 'gini = 0.0\\nsamples = 36\\nvalue = [36, 0]'),\n",
       " Text(0.0800676126506828, 0.3181818181818182, 'x[7] <= 41.5\\ngini = 0.32\\nsamples = 5\\nvalue = [4, 1]'),\n",
       " Text(0.07984862430839033, 0.2878787878787879, 'gini = 0.0\\nsamples = 4\\nvalue = [4, 0]'),\n",
       " Text(0.08028660099297527, 0.2878787878787879, 'gini = 0.0\\nsamples = 1\\nvalue = [0, 1]'),\n",
       " Text(0.0807245776775602, 0.3484848484848485, 'x[4] <= 9.0\\ngini = 0.444\\nsamples = 3\\nvalue = [2, 1]'),\n",
       " Text(0.08050558933526773, 0.3181818181818182, 'gini = 0.0\\nsamples = 1\\nvalue = [0, 1]'),\n",
       " Text(0.08094356601985266, 0.3181818181818182, 'gini = 0.0\\nsamples = 2\\nvalue = [2, 0]'),\n",
       " Text(0.08094356601985266, 0.4090909090909091, 'x[6] <= 81.0\\ngini = 0.5\\nsamples = 2\\nvalue = [1, 1]'),\n",
       " Text(0.0807245776775602, 0.3787878787878788, 'gini = 0.0\\nsamples = 1\\nvalue = [1, 0]'),\n",
       " Text(0.08116255436214513, 0.3787878787878788, 'gini = 0.0\\nsamples = 1\\nvalue = [0, 1]'),\n",
       " Text(0.0807793247631333, 0.4393939393939394, 'gini = 0.0\\nsamples = 1\\nvalue = [0, 1]'),\n",
       " Text(0.08099831310542578, 0.5303030303030303, 'x[9] <= 1008.35\\ngini = 0.305\\nsamples = 16\\nvalue = [13, 3]'),\n",
       " Text(0.0807793247631333, 0.5, 'gini = 0.0\\nsamples = 1\\nvalue = [0, 1]'),\n",
       " Text(0.08121730144771824, 0.5, 'x[7] <= 31.5\\ngini = 0.231\\nsamples = 15\\nvalue = [13, 2]'),\n",
       " Text(0.08099831310542578, 0.4696969696969697, 'gini = 0.0\\nsamples = 1\\nvalue = [0, 1]'),\n",
       " Text(0.0814362897900107, 0.4696969696969697, 'x[7] <= 41.0\\ngini = 0.133\\nsamples = 14\\nvalue = [13, 1]'),\n",
       " Text(0.08121730144771824, 0.4393939393939394, 'gini = 0.0\\nsamples = 13\\nvalue = [13, 0]'),\n",
       " Text(0.08165527813230318, 0.4393939393939394, 'gini = 0.0\\nsamples = 1\\nvalue = [0, 1]'),\n",
       " Text(0.08165527813230318, 0.5606060606060606, 'x[4] <= 16.0\\ngini = 0.408\\nsamples = 7\\nvalue = [5, 2]'),\n",
       " Text(0.0814362897900107, 0.5303030303030303, 'gini = 0.0\\nsamples = 5\\nvalue = [5, 0]'),\n",
       " Text(0.08187426647459564, 0.5303030303030303, 'gini = 0.0\\nsamples = 2\\nvalue = [0, 2]'),\n",
       " Text(0.072535477608442, 0.6515151515151515, 'gini = 0.0\\nsamples = 1\\nvalue = [0, 1]'),\n",
       " Text(0.07275446595073447, 0.6818181818181818, 'gini = 0.0\\nsamples = 1\\nvalue = [0, 1]'),\n",
       " Text(0.08264072567261928, 0.7121212121212122, 'x[5] <= 18.0\\ngini = 0.346\\nsamples = 54\\nvalue = [42, 12]'),\n",
       " Text(0.0820932548168881, 0.6818181818181818, 'x[8] <= 1014.25\\ngini = 0.497\\nsamples = 13\\nvalue = [6, 7]'),\n",
       " Text(0.08187426647459564, 0.6515151515151515, 'x[8] <= 1011.95\\ngini = 0.375\\nsamples = 8\\nvalue = [6, 2]'),\n",
       " Text(0.08165527813230318, 0.6212121212121212, 'x[1] <= 25.95\\ngini = 0.444\\nsamples = 3\\nvalue = [1, 2]'),\n",
       " Text(0.0814362897900107, 0.5909090909090909, 'gini = 0.0\\nsamples = 1\\nvalue = [1, 0]'),\n",
       " Text(0.08187426647459564, 0.5909090909090909, 'gini = 0.0\\nsamples = 2\\nvalue = [0, 2]'),\n",
       " Text(0.0820932548168881, 0.6212121212121212, 'gini = 0.0\\nsamples = 5\\nvalue = [5, 0]'),\n",
       " Text(0.08231224315918058, 0.6515151515151515, 'gini = 0.0\\nsamples = 5\\nvalue = [0, 5]'),\n",
       " Text(0.08318819652835044, 0.6818181818181818, 'x[2] <= 0.1\\ngini = 0.214\\nsamples = 41\\nvalue = [36, 5]'),\n",
       " Text(0.0827502198437655, 0.6515151515151515, 'x[9] <= 1009.45\\ngini = 0.111\\nsamples = 34\\nvalue = [32, 2]'),\n",
       " Text(0.08253123150147304, 0.6212121212121212, 'x[7] <= 33.0\\ngini = 0.375\\nsamples = 8\\nvalue = [6, 2]'),\n",
       " Text(0.08231224315918058, 0.5909090909090909, 'x[5] <= 21.0\\ngini = 0.444\\nsamples = 3\\nvalue = [1, 2]'),\n",
       " Text(0.0820932548168881, 0.5606060606060606, 'gini = 0.0\\nsamples = 1\\nvalue = [1, 0]'),\n",
       " Text(0.08253123150147304, 0.5606060606060606, 'gini = 0.0\\nsamples = 2\\nvalue = [0, 2]'),\n",
       " Text(0.0827502198437655, 0.5909090909090909, 'gini = 0.0\\nsamples = 5\\nvalue = [5, 0]'),\n",
       " Text(0.08296920818605798, 0.6212121212121212, 'gini = 0.0\\nsamples = 26\\nvalue = [26, 0]'),\n",
       " Text(0.08362617321293536, 0.6515151515151515, 'x[6] <= 59.5\\ngini = 0.49\\nsamples = 7\\nvalue = [4, 3]'),\n",
       " Text(0.0834071848706429, 0.6212121212121212, 'gini = 0.0\\nsamples = 4\\nvalue = [4, 0]'),\n",
       " Text(0.08384516155522784, 0.6212121212121212, 'gini = 0.0\\nsamples = 3\\nvalue = [0, 3]'),\n",
       " Text(0.1192233069998426, 0.7727272727272727, 'x[0] <= 23.2\\ngini = 0.068\\nsamples = 4456\\nvalue = [4300, 156]'),\n",
       " Text(0.10898389783423951, 0.7424242424242424, 'x[2] <= 37.0\\ngini = 0.066\\nsamples = 4450\\nvalue = [4297, 153]'),\n",
       " Text(0.10876490949194705, 0.7121212121212122, 'x[9] <= 1017.45\\ngini = 0.066\\nsamples = 4449\\nvalue = [4297, 152]'),\n",
       " Text(0.08894305618761826, 0.6818181818181818, 'x[0] <= 0.4\\ngini = 0.097\\nsamples = 1678\\nvalue = [1592, 86]'),\n",
       " Text(0.08450212658210524, 0.6515151515151515, 'x[10] <= 6.8\\ngini = 0.444\\nsamples = 15\\nvalue = [10, 5]'),\n",
       " Text(0.08428313823981276, 0.6212121212121212, 'gini = 0.0\\nsamples = 5\\nvalue = [5, 0]'),\n",
       " Text(0.0847211149243977, 0.6212121212121212, 'x[11] <= 15.45\\ngini = 0.5\\nsamples = 10\\nvalue = [5, 5]'),\n",
       " Text(0.08450212658210524, 0.5909090909090909, 'gini = 0.0\\nsamples = 4\\nvalue = [0, 4]'),\n",
       " Text(0.08494010326669016, 0.5909090909090909, 'x[4] <= 8.0\\ngini = 0.278\\nsamples = 6\\nvalue = [5, 1]'),\n",
       " Text(0.0847211149243977, 0.5606060606060606, 'gini = 0.0\\nsamples = 5\\nvalue = [5, 0]'),\n",
       " Text(0.08515909160898263, 0.5606060606060606, 'gini = 0.0\\nsamples = 1\\nvalue = [0, 1]'),\n",
       " Text(0.0933839857931313, 0.6515151515151515, 'x[8] <= 1018.85\\ngini = 0.093\\nsamples = 1663\\nvalue = [1582, 81]'),\n",
       " Text(0.08787078319127606, 0.6212121212121212, 'x[6] <= 31.0\\ngini = 0.054\\nsamples = 964\\nvalue = [937, 27]'),\n",
       " Text(0.08581605663586002, 0.5909090909090909, 'x[9] <= 1015.65\\ngini = 0.32\\nsamples = 10\\nvalue = [8, 2]'),\n",
       " Text(0.08559706829356756, 0.5606060606060606, 'gini = 0.0\\nsamples = 7\\nvalue = [7, 0]'),\n",
       " Text(0.0860350449781525, 0.5606060606060606, 'x[8] <= 1017.9\\ngini = 0.444\\nsamples = 3\\nvalue = [1, 2]'),\n",
       " Text(0.08581605663586002, 0.5303030303030303, 'gini = 0.0\\nsamples = 2\\nvalue = [0, 2]'),\n",
       " Text(0.08625403332044496, 0.5303030303030303, 'gini = 0.0\\nsamples = 1\\nvalue = [1, 0]'),\n",
       " Text(0.08992550974669208, 0.5909090909090909, 'x[4] <= 32.0\\ngini = 0.051\\nsamples = 954\\nvalue = [929, 25]'),\n",
       " Text(0.08862868815717888, 0.5606060606060606, 'x[11] <= 20.85\\ngini = 0.048\\nsamples = 941\\nvalue = [918, 23]'),\n",
       " Text(0.0866920100050299, 0.5303030303030303, 'x[10] <= 16.95\\ngini = 0.093\\nsamples = 265\\nvalue = [252, 13]'),\n",
       " Text(0.08515909160898263, 0.5, 'x[9] <= 1014.75\\ngini = 0.07\\nsamples = 246\\nvalue = [237, 9]'),\n",
       " Text(0.08384516155522784, 0.4696969696969697, 'x[4] <= 29.0\\ngini = 0.145\\nsamples = 89\\nvalue = [82, 7]'),\n",
       " Text(0.08362617321293536, 0.4393939393939394, 'x[8] <= 1017.75\\ngini = 0.127\\nsamples = 88\\nvalue = [82, 6]'),\n",
       " Text(0.08253123150147304, 0.4090909090909091, 'x[4] <= 5.0\\ngini = 0.055\\nsamples = 71\\nvalue = [69, 2]'),\n",
       " Text(0.0820932548168881, 0.3787878787878788, 'x[7] <= 40.0\\ngini = 0.5\\nsamples = 2\\nvalue = [1, 1]'),\n",
       " Text(0.08187426647459564, 0.3484848484848485, 'gini = 0.0\\nsamples = 1\\nvalue = [0, 1]'),\n",
       " Text(0.08231224315918058, 0.3484848484848485, 'gini = 0.0\\nsamples = 1\\nvalue = [1, 0]'),\n",
       " Text(0.08296920818605798, 0.3787878787878788, 'x[9] <= 1014.65\\ngini = 0.029\\nsamples = 69\\nvalue = [68, 1]'),\n",
       " Text(0.0827502198437655, 0.3484848484848485, 'gini = 0.0\\nsamples = 66\\nvalue = [66, 0]'),\n",
       " Text(0.08318819652835044, 0.3484848484848485, 'x[8] <= 1016.65\\ngini = 0.444\\nsamples = 3\\nvalue = [2, 1]'),\n",
       " Text(0.08296920818605798, 0.3181818181818182, 'gini = 0.0\\nsamples = 1\\nvalue = [0, 1]'),\n",
       " Text(0.0834071848706429, 0.3181818181818182, 'gini = 0.0\\nsamples = 2\\nvalue = [2, 0]'),\n",
       " Text(0.0847211149243977, 0.4090909090909091, 'x[10] <= 13.0\\ngini = 0.36\\nsamples = 17\\nvalue = [13, 4]'),\n",
       " Text(0.08428313823981276, 0.3787878787878788, 'x[6] <= 52.5\\ngini = 0.153\\nsamples = 12\\nvalue = [11, 1]'),\n",
       " Text(0.0840641498975203, 0.3484848484848485, 'x[1] <= 20.1\\ngini = 0.5\\nsamples = 2\\nvalue = [1, 1]'),\n",
       " Text(0.08384516155522784, 0.3181818181818182, 'gini = 0.0\\nsamples = 1\\nvalue = [1, 0]'),\n",
       " Text(0.08428313823981276, 0.3181818181818182, 'gini = 0.0\\nsamples = 1\\nvalue = [0, 1]'),\n",
       " Text(0.08450212658210524, 0.3484848484848485, 'gini = 0.0\\nsamples = 10\\nvalue = [10, 0]'),\n",
       " Text(0.08515909160898263, 0.3787878787878788, 'x[1] <= 20.05\\ngini = 0.48\\nsamples = 5\\nvalue = [2, 3]'),\n",
       " Text(0.08494010326669016, 0.3484848484848485, 'gini = 0.0\\nsamples = 2\\nvalue = [2, 0]'),\n",
       " Text(0.0853780799512751, 0.3484848484848485, 'gini = 0.0\\nsamples = 3\\nvalue = [0, 3]'),\n",
       " Text(0.0840641498975203, 0.4393939393939394, 'gini = 0.0\\nsamples = 1\\nvalue = [0, 1]'),\n",
       " Text(0.08647302166273742, 0.4696969696969697, 'x[9] <= 1017.25\\ngini = 0.025\\nsamples = 157\\nvalue = [155, 2]'),\n",
       " Text(0.0860350449781525, 0.4393939393939394, 'x[7] <= 29.5\\ngini = 0.013\\nsamples = 148\\nvalue = [147, 1]'),\n",
       " Text(0.08581605663586002, 0.4090909090909091, 'x[8] <= 1017.85\\ngini = 0.198\\nsamples = 9\\nvalue = [8, 1]'),\n",
       " Text(0.08559706829356756, 0.3787878787878788, 'gini = 0.0\\nsamples = 7\\nvalue = [7, 0]'),\n",
       " Text(0.0860350449781525, 0.3787878787878788, 'x[11] <= 18.6\\ngini = 0.5\\nsamples = 2\\nvalue = [1, 1]'),\n",
       " Text(0.08581605663586002, 0.3484848484848485, 'gini = 0.0\\nsamples = 1\\nvalue = [0, 1]'),\n",
       " Text(0.08625403332044496, 0.3484848484848485, 'gini = 0.0\\nsamples = 1\\nvalue = [1, 0]'),\n",
       " Text(0.08625403332044496, 0.4090909090909091, 'gini = 0.0\\nsamples = 139\\nvalue = [139, 0]'),\n",
       " Text(0.08691099834732235, 0.4393939393939394, 'x[0] <= 12.15\\ngini = 0.198\\nsamples = 9\\nvalue = [8, 1]'),\n",
       " Text(0.0866920100050299, 0.4090909090909091, 'gini = 0.0\\nsamples = 7\\nvalue = [7, 0]'),\n",
       " Text(0.08712998668961482, 0.4090909090909091, 'x[0] <= 13.05\\ngini = 0.5\\nsamples = 2\\nvalue = [1, 1]'),\n",
       " Text(0.08691099834732235, 0.3787878787878788, 'gini = 0.0\\nsamples = 1\\nvalue = [0, 1]'),\n",
       " Text(0.08734897503190729, 0.3787878787878788, 'gini = 0.0\\nsamples = 1\\nvalue = [1, 0]'),\n",
       " Text(0.08822492840107715, 0.5, 'x[10] <= 17.85\\ngini = 0.332\\nsamples = 19\\nvalue = [15, 4]'),\n",
       " Text(0.08800594005878468, 0.4696969696969697, 'x[8] <= 1016.25\\ngini = 0.48\\nsamples = 10\\nvalue = [6, 4]'),\n",
       " Text(0.08778695171649221, 0.4393939393939394, 'x[4] <= 23.0\\ngini = 0.32\\nsamples = 5\\nvalue = [1, 4]'),\n",
       " Text(0.08756796337419975, 0.4090909090909091, 'gini = 0.0\\nsamples = 4\\nvalue = [0, 4]'),\n",
       " Text(0.08800594005878468, 0.4090909090909091, 'gini = 0.0\\nsamples = 1\\nvalue = [1, 0]'),\n",
       " Text(0.08822492840107715, 0.4393939393939394, 'gini = 0.0\\nsamples = 5\\nvalue = [5, 0]'),\n",
       " Text(0.08844391674336961, 0.4696969696969697, 'gini = 0.0\\nsamples = 9\\nvalue = [9, 0]'),\n",
       " Text(0.09056536630932788, 0.5303030303030303, 'x[0] <= 22.25\\ngini = 0.029\\nsamples = 676\\nvalue = [666, 10]'),\n",
       " Text(0.08978522033991097, 0.5, 'x[0] <= 6.75\\ngini = 0.027\\nsamples = 670\\nvalue = [661, 9]'),\n",
       " Text(0.08888189342795455, 0.4696969696969697, 'x[3] <= 23.0\\ngini = 0.137\\nsamples = 27\\nvalue = [25, 2]'),\n",
       " Text(0.08866290508566207, 0.4393939393939394, 'gini = 0.0\\nsamples = 1\\nvalue = [0, 1]'),\n",
       " Text(0.08910088177024701, 0.4393939393939394, 'x[3] <= 51.0\\ngini = 0.074\\nsamples = 26\\nvalue = [25, 1]'),\n",
       " Text(0.08888189342795455, 0.4090909090909091, 'gini = 0.0\\nsamples = 25\\nvalue = [25, 0]'),\n",
       " Text(0.08931987011253947, 0.4090909090909091, 'gini = 0.0\\nsamples = 1\\nvalue = [0, 1]'),\n",
       " Text(0.09068854725186738, 0.4696969696969697, 'x[9] <= 1016.95\\ngini = 0.022\\nsamples = 643\\nvalue = [636, 7]'),\n",
       " Text(0.08997683513941687, 0.4393939393939394, 'x[0] <= 15.05\\ngini = 0.019\\nsamples = 630\\nvalue = [624, 6]'),\n",
       " Text(0.08975784679712441, 0.4090909090909091, 'x[0] <= 14.55\\ngini = 0.03\\nsamples = 390\\nvalue = [384, 6]'),\n",
       " Text(0.08899138759910077, 0.3787878787878788, 'x[4] <= 27.0\\ngini = 0.016\\nsamples = 365\\nvalue = [362, 3]'),\n",
       " Text(0.08855341091451585, 0.3484848484848485, 'x[7] <= 30.5\\ngini = 0.011\\nsamples = 350\\nvalue = [348, 2]'),\n",
       " Text(0.08833442257222338, 0.3181818181818182, 'x[8] <= 1016.05\\ngini = 0.052\\nsamples = 75\\nvalue = [73, 2]'),\n",
       " Text(0.08789644588763845, 0.2878787878787879, 'x[5] <= 25.0\\ngini = 0.444\\nsamples = 3\\nvalue = [2, 1]'),\n",
       " Text(0.08767745754534599, 0.25757575757575757, 'gini = 0.0\\nsamples = 2\\nvalue = [2, 0]'),\n",
       " Text(0.08811543422993091, 0.25757575757575757, 'gini = 0.0\\nsamples = 1\\nvalue = [0, 1]'),\n",
       " Text(0.08877239925680831, 0.2878787878787879, 'x[0] <= 14.15\\ngini = 0.027\\nsamples = 72\\nvalue = [71, 1]'),\n",
       " Text(0.08855341091451585, 0.25757575757575757, 'gini = 0.0\\nsamples = 61\\nvalue = [61, 0]'),\n",
       " Text(0.08899138759910077, 0.25757575757575757, 'x[10] <= 16.3\\ngini = 0.165\\nsamples = 11\\nvalue = [10, 1]'),\n",
       " Text(0.08877239925680831, 0.22727272727272727, 'gini = 0.0\\nsamples = 1\\nvalue = [0, 1]'),\n",
       " Text(0.08921037594139325, 0.22727272727272727, 'gini = 0.0\\nsamples = 10\\nvalue = [10, 0]'),\n",
       " Text(0.08877239925680831, 0.3181818181818182, 'gini = 0.0\\nsamples = 275\\nvalue = [275, 0]'),\n",
       " Text(0.08942936428368571, 0.3484848484848485, 'x[11] <= 28.35\\ngini = 0.124\\nsamples = 15\\nvalue = [14, 1]'),\n",
       " ...]"
      ]
     },
     "execution_count": 71,
     "metadata": {},
     "output_type": "execute_result"
    },
    {
     "data": {
      "image/png": "[encoded data removed]",
      "text/plain": [
       "<Figure size 640x480 with 1 Axes>"
      ]
     },
     "metadata": {},
     "output_type": "display_data"
    }
   ],
   "source": [
    "clf = tree.DecisionTreeClassifier()\n",
    "clf = clf.fit(X_train, y_train)\n",
    "\n",
    "tree.plot_tree(clf)"
   ]
  },
  {
   "attachments": {},
   "cell_type": "markdown",
   "metadata": {},
   "source": [
    "Accuracy of the tree classifier:"
   ]
  },
  {
   "cell_type": "code",
   "execution_count": 72,
   "metadata": {},
   "outputs": [
    {
     "data": {
      "text/plain": [
       "0.7869549805033677"
      ]
     },
     "execution_count": 72,
     "metadata": {},
     "output_type": "execute_result"
    }
   ],
   "source": [
    "clf.score(X_test, y_test)"
   ]
  },
  {
   "attachments": {},
   "cell_type": "markdown",
   "metadata": {},
   "source": [
    "Confusion matrix: "
   ]
  },
  {
   "cell_type": "code",
   "execution_count": 73,
   "metadata": {},
   "outputs": [
    {
     "data": {
      "text/plain": [
       "<sklearn.metrics._plot.confusion_matrix.ConfusionMatrixDisplay at 0x2708cd18ad0>"
      ]
     },
     "execution_count": 73,
     "metadata": {},
     "output_type": "execute_result"
    },
    {
     "data": {
      "image/png": "[encoded data removed]",
      "text/plain": [
       "<Figure size 640x480 with 2 Axes>"
      ]
     },
     "metadata": {},
     "output_type": "display_data"
    }
   ],
   "source": [
    "predictions = clf.predict(X_test)\n",
    "cm = confusion_matrix(y_test, predictions)\n",
    "disp = ConfusionMatrixDisplay(confusion_matrix=cm, display_labels=clf.classes_)\n",
    "disp.plot()"
   ]
  },
  {
   "attachments": {},
   "cell_type": "markdown",
   "metadata": {},
   "source": [
    "Bayes classifier:"
   ]
  },
  {
   "cell_type": "code",
   "execution_count": 74,
   "metadata": {},
   "outputs": [
    {
     "data": {
      "text/plain": [
       "0.8111780692425854"
      ]
     },
     "execution_count": 74,
     "metadata": {},
     "output_type": "execute_result"
    }
   ],
   "source": [
    "model = GaussianNB()\n",
    "model.fit(X_train, y_train)\n",
    "model.score(X_test, y_test)\n"
   ]
  },
  {
   "attachments": {},
   "cell_type": "markdown",
   "metadata": {},
   "source": [
    "Confusion matrix: "
   ]
  },
  {
   "cell_type": "code",
   "execution_count": 75,
   "metadata": {},
   "outputs": [
    {
     "data": {
      "text/plain": [
       "<sklearn.metrics._plot.confusion_matrix.ConfusionMatrixDisplay at 0x2708e366ed0>"
      ]
     },
     "execution_count": 75,
     "metadata": {},
     "output_type": "execute_result"
    },
    {
     "data": {
      "image/png": "[encoded data removed]",
      "text/plain": [
       "<Figure size 640x480 with 2 Axes>"
      ]
     },
     "metadata": {},
     "output_type": "display_data"
    }
   ],
   "source": [
    "predictions = clf.predict(X_test)\n",
    "cm = confusion_matrix(y_test, predictions)\n",
    "disp = ConfusionMatrixDisplay(confusion_matrix=cm, display_labels=clf.classes_)\n",
    "disp.plot()"
   ]
  },
  {
   "attachments": {},
   "cell_type": "markdown",
   "metadata": {},
   "source": [
    "k nearest neighbors classifier with 3 neighbors:"
   ]
  },
  {
   "cell_type": "code",
   "execution_count": 76,
   "metadata": {},
   "outputs": [
    {
     "data": {
      "text/plain": [
       "0.8296112489660876"
      ]
     },
     "execution_count": 76,
     "metadata": {},
     "output_type": "execute_result"
    }
   ],
   "source": [
    "knn = KNeighborsClassifier(n_neighbors=3, metric='euclidean')\n",
    "knn.fit(X_train, y_train)\n",
    "knn.score(X_test, y_test)"
   ]
  },
  {
   "attachments": {},
   "cell_type": "markdown",
   "metadata": {},
   "source": [
    "Confusion matrix:"
   ]
  },
  {
   "cell_type": "code",
   "execution_count": 77,
   "metadata": {},
   "outputs": [
    {
     "data": {
      "text/plain": [
       "<sklearn.metrics._plot.confusion_matrix.ConfusionMatrixDisplay at 0x2708ad06f10>"
      ]
     },
     "execution_count": 77,
     "metadata": {},
     "output_type": "execute_result"
    },
    {
     "data": {
      "image/png": "[encoded data removed]",
      "text/plain": [
       "<Figure size 640x480 with 2 Axes>"
      ]
     },
     "metadata": {},
     "output_type": "display_data"
    }
   ],
   "source": [
    "predictions = clf.predict(X_test)\n",
    "cm = confusion_matrix(y_test, predictions)\n",
    "disp = ConfusionMatrixDisplay(confusion_matrix=cm, display_labels=clf.classes_)\n",
    "disp.plot()"
   ]
  },
  {
   "attachments": {},
   "cell_type": "markdown",
   "metadata": {},
   "source": [
    "splitting the data into training and testing sets"
   ]
  },
  {
   "cell_type": "code",
   "execution_count": 78,
   "metadata": {},
   "outputs": [],
   "source": [
    "X = res_data.drop(['RainTomorrow', 'Date'], axis=1) \n",
    "y = res_data['RainTomorrow'].astype('int')\n",
    "\n",
    "X_train, X_test, y_train, y_test = train_test_split(X, y, train_size=0.7, random_state=278823)\n",
    "\n",
    "X_train = tf.convert_to_tensor(X_train, dtype=tf.float32)\n",
    "X_test = tf.convert_to_tensor(X_test, dtype=tf.float32)\n",
    "y_train = tf.convert_to_tensor(y_train, dtype=tf.float32)\n",
    "y_test = tf.convert_to_tensor(y_test, dtype=tf.float32)"
   ]
  },
  {
   "attachments": {},
   "cell_type": "markdown",
   "metadata": {},
   "source": [
    "creating the neural network"
   ]
  },
  {
   "cell_type": "code",
   "execution_count": 79,
   "metadata": {},
   "outputs": [],
   "source": [
    "model = Sequential()\n",
    "model.add(Dense(8, input_dim=X_train.shape[1], activation='relu'))\n",
    "model.add(Dense(6, activation='relu'))\n",
    "model.add(Dense(4, activation='relu'))\n",
    "model.add(Dense(1, activation='sigmoid'))"
   ]
  },
  {
   "cell_type": "code",
   "execution_count": 80,
   "metadata": {},
   "outputs": [],
   "source": [
    "model.compile(loss='binary_crossentropy', optimizer='adam', metrics=['accuracy'])"
   ]
  },
  {
   "cell_type": "code",
   "execution_count": 81,
   "metadata": {},
   "outputs": [],
   "source": [
    "history = model.fit(X_train, y_train, epochs=250, verbose=0, validation_data=(X_test, y_test))"
   ]
  },
  {
   "attachments": {},
   "cell_type": "markdown",
   "metadata": {},
   "source": [
    "accuracy of the neural network"
   ]
  },
  {
   "cell_type": "code",
   "execution_count": 82,
   "metadata": {},
   "outputs": [
    {
     "name": "stdout",
     "output_type": "stream",
     "text": [
      "1235/1235 [==============================] - 2s 1ms/step\n",
      "0.847521142452018\n",
      "529/529 [==============================] - 1s 1ms/step\n",
      "0.8521209972822876\n"
     ]
    }
   ],
   "source": [
    "predictions_train = model.predict(X_train).round()\n",
    "print(accuracy_score(predictions_train, y_train))\n",
    "\n",
    "predictions_test = model.predict(X_test).round()\n",
    "print(accuracy_score(predictions_test, y_test))"
   ]
  },
  {
   "attachments": {},
   "cell_type": "markdown",
   "metadata": {},
   "source": [
    "confusion matrix"
   ]
  },
  {
   "cell_type": "code",
   "execution_count": 83,
   "metadata": {},
   "outputs": [
    {
     "data": {
      "text/plain": [
       "<sklearn.metrics._plot.confusion_matrix.ConfusionMatrixDisplay at 0x270fe6ec710>"
      ]
     },
     "execution_count": 83,
     "metadata": {},
     "output_type": "execute_result"
    },
    {
     "data": {
      "image/png": "[encoded data removed]",
      "text/plain": [
       "<Figure size 640x480 with 2 Axes>"
      ]
     },
     "metadata": {},
     "output_type": "display_data"
    }
   ],
   "source": [
    "cm = confusion_matrix(y_test, predictions_test)\n",
    "disp = ConfusionMatrixDisplay(confusion_matrix=cm, display_labels=['Rain', 'No Rain'])\n",
    "disp.plot()"
   ]
  },
  {
   "attachments": {},
   "cell_type": "markdown",
   "metadata": {},
   "source": [
    "plotting the model loss"
   ]
  },
  {
   "cell_type": "code",
   "execution_count": 84,
   "metadata": {},
   "outputs": [
    {
     "data": {
      "image/png": "[encoded data removed]",
      "text/plain": [
       "<Figure size 640x480 with 1 Axes>"
      ]
     },
     "metadata": {},
     "output_type": "display_data"
    }
   ],
   "source": [
    "plt.plot(history.history['loss'])\n",
    "plt.plot(history.history['val_loss'])\n",
    "plt.title('model loss')\n",
    "plt.ylabel('loss')\n",
    "plt.xlabel('epoch')\n",
    "plt.legend(['train', 'test'], loc='upper left')\n",
    "plt.show()"
   ]
  },
  {
   "attachments": {},
   "cell_type": "markdown",
   "metadata": {},
   "source": [
    "Preprocessing"
   ]
  },
  {
   "attachments": {},
   "cell_type": "markdown",
   "metadata": {},
   "source": [
    "removing columns with all 0 values"
   ]
  },
  {
   "cell_type": "code",
   "execution_count": 85,
   "metadata": {},
   "outputs": [
    {
     "name": "stdout",
     "output_type": "stream",
     "text": [
      "[]\n",
      "(56420, 15)\n"
     ]
    }
   ],
   "source": [
    "zero_cols = [col for col in res_data.columns if (res_data[col] == 0).all()]\n",
    "\n",
    "print(zero_cols)\n",
    "print(res_data.shape)"
   ]
  },
  {
   "cell_type": "code",
   "execution_count": 86,
   "metadata": {},
   "outputs": [
    {
     "name": "stdout",
     "output_type": "stream",
     "text": [
      "(56420, 14)\n"
     ]
    }
   ],
   "source": [
    "res_data = res_data.drop(zero_cols, axis=1)\n",
    "res_data = res_data.drop(['Date'], axis=1)\n",
    "print(res_data.shape)"
   ]
  },
  {
   "attachments": {},
   "cell_type": "markdown",
   "metadata": {},
   "source": [
    "normalizing the data into a range of 0 to 1"
   ]
  },
  {
   "cell_type": "code",
   "execution_count": 88,
   "metadata": {},
   "outputs": [
    {
     "data": {
      "text/html": [
       "<div>\n",
       "<style scoped>\n",
       "    .dataframe tbody tr th:only-of-type {\n",
       "        vertical-align: middle;\n",
       "    }\n",
       "\n",
       "    .dataframe tbody tr th {\n",
       "        vertical-align: top;\n",
       "    }\n",
       "\n",
       "    .dataframe thead th {\n",
       "        text-align: right;\n",
       "    }\n",
       "</style>\n",
       "<table border=\"1\" class=\"dataframe\">\n",
       "  <thead>\n",
       "    <tr style=\"text-align: right;\">\n",
       "      <th></th>\n",
       "      <th>MinTemp</th>\n",
       "      <th>MaxTemp</th>\n",
       "      <th>Rainfall</th>\n",
       "      <th>WindGustSpeed</th>\n",
       "      <th>WindSpeed9am</th>\n",
       "      <th>WindSpeed3pm</th>\n",
       "      <th>Humidity9am</th>\n",
       "      <th>Humidity3pm</th>\n",
       "      <th>Pressure9am</th>\n",
       "      <th>Pressure3pm</th>\n",
       "      <th>Temp9am</th>\n",
       "      <th>Temp3pm</th>\n",
       "      <th>RainToday</th>\n",
       "      <th>RainTomorrow</th>\n",
       "    </tr>\n",
       "  </thead>\n",
       "  <tbody>\n",
       "    <tr>\n",
       "      <th>0</th>\n",
       "      <td>0.645669</td>\n",
       "      <td>0.706818</td>\n",
       "      <td>0.0</td>\n",
       "      <td>0.339130</td>\n",
       "      <td>0.061538</td>\n",
       "      <td>0.243243</td>\n",
       "      <td>0.20</td>\n",
       "      <td>0.13</td>\n",
       "      <td>0.430718</td>\n",
       "      <td>0.441748</td>\n",
       "      <td>0.680798</td>\n",
       "      <td>0.700472</td>\n",
       "      <td>0.0</td>\n",
       "      <td>0.0</td>\n",
       "    </tr>\n",
       "    <tr>\n",
       "      <th>1</th>\n",
       "      <td>0.658793</td>\n",
       "      <td>0.563636</td>\n",
       "      <td>0.0</td>\n",
       "      <td>0.243478</td>\n",
       "      <td>0.261538</td>\n",
       "      <td>0.229730</td>\n",
       "      <td>0.30</td>\n",
       "      <td>0.08</td>\n",
       "      <td>0.540902</td>\n",
       "      <td>0.566343</td>\n",
       "      <td>0.523691</td>\n",
       "      <td>0.549528</td>\n",
       "      <td>0.0</td>\n",
       "      <td>0.0</td>\n",
       "    </tr>\n",
       "    <tr>\n",
       "      <th>2</th>\n",
       "      <td>0.685039</td>\n",
       "      <td>0.761364</td>\n",
       "      <td>0.0</td>\n",
       "      <td>0.321739</td>\n",
       "      <td>0.430769</td>\n",
       "      <td>0.175676</td>\n",
       "      <td>0.42</td>\n",
       "      <td>0.22</td>\n",
       "      <td>0.530885</td>\n",
       "      <td>0.519417</td>\n",
       "      <td>0.733167</td>\n",
       "      <td>0.735849</td>\n",
       "      <td>0.0</td>\n",
       "      <td>0.0</td>\n",
       "    </tr>\n",
       "    <tr>\n",
       "      <th>3</th>\n",
       "      <td>0.750656</td>\n",
       "      <td>0.779545</td>\n",
       "      <td>0.0</td>\n",
       "      <td>0.191304</td>\n",
       "      <td>0.061538</td>\n",
       "      <td>0.054054</td>\n",
       "      <td>0.37</td>\n",
       "      <td>0.22</td>\n",
       "      <td>0.537563</td>\n",
       "      <td>0.517799</td>\n",
       "      <td>0.743142</td>\n",
       "      <td>0.752358</td>\n",
       "      <td>0.0</td>\n",
       "      <td>0.0</td>\n",
       "    </tr>\n",
       "    <tr>\n",
       "      <th>4</th>\n",
       "      <td>0.811024</td>\n",
       "      <td>0.838636</td>\n",
       "      <td>0.0</td>\n",
       "      <td>0.226087</td>\n",
       "      <td>0.230769</td>\n",
       "      <td>0.148649</td>\n",
       "      <td>0.19</td>\n",
       "      <td>0.15</td>\n",
       "      <td>0.504174</td>\n",
       "      <td>0.490291</td>\n",
       "      <td>0.855362</td>\n",
       "      <td>0.799528</td>\n",
       "      <td>0.0</td>\n",
       "      <td>0.0</td>\n",
       "    </tr>\n",
       "  </tbody>\n",
       "</table>\n",
       "</div>"
      ],
      "text/plain": [
       "    MinTemp   MaxTemp  Rainfall  WindGustSpeed  WindSpeed9am  WindSpeed3pm  \\\n",
       "0  0.645669  0.706818       0.0       0.339130      0.061538      0.243243   \n",
       "1  0.658793  0.563636       0.0       0.243478      0.261538      0.229730   \n",
       "2  0.685039  0.761364       0.0       0.321739      0.430769      0.175676   \n",
       "3  0.750656  0.779545       0.0       0.191304      0.061538      0.054054   \n",
       "4  0.811024  0.838636       0.0       0.226087      0.230769      0.148649   \n",
       "\n",
       "   Humidity9am  Humidity3pm  Pressure9am  Pressure3pm   Temp9am   Temp3pm  \\\n",
       "0         0.20         0.13     0.430718     0.441748  0.680798  0.700472   \n",
       "1         0.30         0.08     0.540902     0.566343  0.523691  0.549528   \n",
       "2         0.42         0.22     0.530885     0.519417  0.733167  0.735849   \n",
       "3         0.37         0.22     0.537563     0.517799  0.743142  0.752358   \n",
       "4         0.19         0.15     0.504174     0.490291  0.855362  0.799528   \n",
       "\n",
       "   RainToday  RainTomorrow  \n",
       "0        0.0           0.0  \n",
       "1        0.0           0.0  \n",
       "2        0.0           0.0  \n",
       "3        0.0           0.0  \n",
       "4        0.0           0.0  "
      ]
     },
     "execution_count": 88,
     "metadata": {},
     "output_type": "execute_result"
    }
   ],
   "source": [
    "scaler = MinMaxScaler()\n",
    "\n",
    "scaler.fit(res_data)\n",
    "\n",
    "res_data_scaled = scaler.transform(res_data)\n",
    "\n",
    "res_data = pd.DataFrame(res_data_scaled, columns=res_data.columns)\n",
    "\n",
    "res_data.head()"
   ]
  },
  {
   "attachments": {},
   "cell_type": "markdown",
   "metadata": {},
   "source": [
    "using PCA to reduce the number of features"
   ]
  },
  {
   "cell_type": "code",
   "execution_count": 89,
   "metadata": {},
   "outputs": [
    {
     "ename": "ValueError",
     "evalue": "could not convert string to float: '2009-01-01'",
     "output_type": "error",
     "traceback": [
      "\u001b[1;31m---------------------------------------------------------------------------\u001b[0m",
      "\u001b[1;31mValueError\u001b[0m                                Traceback (most recent call last)",
      "Cell \u001b[1;32mIn[89], line 4\u001b[0m\n\u001b[0;32m      2\u001b[0m y \u001b[39m=\u001b[39m data\u001b[39m.\u001b[39mvalues[:, \u001b[39m-\u001b[39m\u001b[39m1\u001b[39m]\n\u001b[0;32m      3\u001b[0m pca \u001b[39m=\u001b[39m PCA(n_components\u001b[39m=\u001b[39m\u001b[39m15\u001b[39m)\n\u001b[1;32m----> 4\u001b[0m pca\u001b[39m.\u001b[39;49mfit(X)\n\u001b[0;32m      6\u001b[0m \u001b[39mprint\u001b[39m(pca\u001b[39m.\u001b[39mexplained_variance_ratio_)\n\u001b[0;32m      8\u001b[0m X \u001b[39m=\u001b[39m pca\u001b[39m.\u001b[39mtransform(X)\n",
      "File \u001b[1;32m~\\AppData\\Roaming\\Python\\Python311\\site-packages\\sklearn\\decomposition\\_pca.py:435\u001b[0m, in \u001b[0;36mPCA.fit\u001b[1;34m(self, X, y)\u001b[0m\n\u001b[0;32m    417\u001b[0m \u001b[39m\u001b[39m\u001b[39m\"\"\"Fit the model with X.\u001b[39;00m\n\u001b[0;32m    418\u001b[0m \n\u001b[0;32m    419\u001b[0m \u001b[39mParameters\u001b[39;00m\n\u001b[1;32m   (...)\u001b[0m\n\u001b[0;32m    431\u001b[0m \u001b[39m    Returns the instance itself.\u001b[39;00m\n\u001b[0;32m    432\u001b[0m \u001b[39m\"\"\"\u001b[39;00m\n\u001b[0;32m    433\u001b[0m \u001b[39mself\u001b[39m\u001b[39m.\u001b[39m_validate_params()\n\u001b[1;32m--> 435\u001b[0m \u001b[39mself\u001b[39;49m\u001b[39m.\u001b[39;49m_fit(X)\n\u001b[0;32m    436\u001b[0m \u001b[39mreturn\u001b[39;00m \u001b[39mself\u001b[39m\n",
      "File \u001b[1;32m~\\AppData\\Roaming\\Python\\Python311\\site-packages\\sklearn\\decomposition\\_pca.py:485\u001b[0m, in \u001b[0;36mPCA._fit\u001b[1;34m(self, X)\u001b[0m\n\u001b[0;32m    479\u001b[0m \u001b[39mif\u001b[39;00m issparse(X):\n\u001b[0;32m    480\u001b[0m     \u001b[39mraise\u001b[39;00m \u001b[39mTypeError\u001b[39;00m(\n\u001b[0;32m    481\u001b[0m         \u001b[39m\"\u001b[39m\u001b[39mPCA does not support sparse input. See \u001b[39m\u001b[39m\"\u001b[39m\n\u001b[0;32m    482\u001b[0m         \u001b[39m\"\u001b[39m\u001b[39mTruncatedSVD for a possible alternative.\u001b[39m\u001b[39m\"\u001b[39m\n\u001b[0;32m    483\u001b[0m     )\n\u001b[1;32m--> 485\u001b[0m X \u001b[39m=\u001b[39m \u001b[39mself\u001b[39;49m\u001b[39m.\u001b[39;49m_validate_data(\n\u001b[0;32m    486\u001b[0m     X, dtype\u001b[39m=\u001b[39;49m[np\u001b[39m.\u001b[39;49mfloat64, np\u001b[39m.\u001b[39;49mfloat32], ensure_2d\u001b[39m=\u001b[39;49m\u001b[39mTrue\u001b[39;49;00m, copy\u001b[39m=\u001b[39;49m\u001b[39mself\u001b[39;49m\u001b[39m.\u001b[39;49mcopy\n\u001b[0;32m    487\u001b[0m )\n\u001b[0;32m    489\u001b[0m \u001b[39m# Handle n_components==None\u001b[39;00m\n\u001b[0;32m    490\u001b[0m \u001b[39mif\u001b[39;00m \u001b[39mself\u001b[39m\u001b[39m.\u001b[39mn_components \u001b[39mis\u001b[39;00m \u001b[39mNone\u001b[39;00m:\n",
      "File \u001b[1;32m~\\AppData\\Roaming\\Python\\Python311\\site-packages\\sklearn\\base.py:565\u001b[0m, in \u001b[0;36mBaseEstimator._validate_data\u001b[1;34m(self, X, y, reset, validate_separately, **check_params)\u001b[0m\n\u001b[0;32m    563\u001b[0m     \u001b[39mraise\u001b[39;00m \u001b[39mValueError\u001b[39;00m(\u001b[39m\"\u001b[39m\u001b[39mValidation should be done on X, y or both.\u001b[39m\u001b[39m\"\u001b[39m)\n\u001b[0;32m    564\u001b[0m \u001b[39melif\u001b[39;00m \u001b[39mnot\u001b[39;00m no_val_X \u001b[39mand\u001b[39;00m no_val_y:\n\u001b[1;32m--> 565\u001b[0m     X \u001b[39m=\u001b[39m check_array(X, input_name\u001b[39m=\u001b[39;49m\u001b[39m\"\u001b[39;49m\u001b[39mX\u001b[39;49m\u001b[39m\"\u001b[39;49m, \u001b[39m*\u001b[39;49m\u001b[39m*\u001b[39;49mcheck_params)\n\u001b[0;32m    566\u001b[0m     out \u001b[39m=\u001b[39m X\n\u001b[0;32m    567\u001b[0m \u001b[39melif\u001b[39;00m no_val_X \u001b[39mand\u001b[39;00m \u001b[39mnot\u001b[39;00m no_val_y:\n",
      "File \u001b[1;32m~\\AppData\\Roaming\\Python\\Python311\\site-packages\\sklearn\\utils\\validation.py:879\u001b[0m, in \u001b[0;36mcheck_array\u001b[1;34m(array, accept_sparse, accept_large_sparse, dtype, order, copy, force_all_finite, ensure_2d, allow_nd, ensure_min_samples, ensure_min_features, estimator, input_name)\u001b[0m\n\u001b[0;32m    877\u001b[0m         array \u001b[39m=\u001b[39m xp\u001b[39m.\u001b[39mastype(array, dtype, copy\u001b[39m=\u001b[39m\u001b[39mFalse\u001b[39;00m)\n\u001b[0;32m    878\u001b[0m     \u001b[39melse\u001b[39;00m:\n\u001b[1;32m--> 879\u001b[0m         array \u001b[39m=\u001b[39m _asarray_with_order(array, order\u001b[39m=\u001b[39;49morder, dtype\u001b[39m=\u001b[39;49mdtype, xp\u001b[39m=\u001b[39;49mxp)\n\u001b[0;32m    880\u001b[0m \u001b[39mexcept\u001b[39;00m ComplexWarning \u001b[39mas\u001b[39;00m complex_warning:\n\u001b[0;32m    881\u001b[0m     \u001b[39mraise\u001b[39;00m \u001b[39mValueError\u001b[39;00m(\n\u001b[0;32m    882\u001b[0m         \u001b[39m\"\u001b[39m\u001b[39mComplex data not supported\u001b[39m\u001b[39m\\n\u001b[39;00m\u001b[39m{}\u001b[39;00m\u001b[39m\\n\u001b[39;00m\u001b[39m\"\u001b[39m\u001b[39m.\u001b[39mformat(array)\n\u001b[0;32m    883\u001b[0m     ) \u001b[39mfrom\u001b[39;00m \u001b[39mcomplex_warning\u001b[39;00m\n",
      "File \u001b[1;32m~\\AppData\\Roaming\\Python\\Python311\\site-packages\\sklearn\\utils\\_array_api.py:185\u001b[0m, in \u001b[0;36m_asarray_with_order\u001b[1;34m(array, dtype, order, copy, xp)\u001b[0m\n\u001b[0;32m    182\u001b[0m     xp, _ \u001b[39m=\u001b[39m get_namespace(array)\n\u001b[0;32m    183\u001b[0m \u001b[39mif\u001b[39;00m xp\u001b[39m.\u001b[39m\u001b[39m__name__\u001b[39m \u001b[39min\u001b[39;00m {\u001b[39m\"\u001b[39m\u001b[39mnumpy\u001b[39m\u001b[39m\"\u001b[39m, \u001b[39m\"\u001b[39m\u001b[39mnumpy.array_api\u001b[39m\u001b[39m\"\u001b[39m}:\n\u001b[0;32m    184\u001b[0m     \u001b[39m# Use NumPy API to support order\u001b[39;00m\n\u001b[1;32m--> 185\u001b[0m     array \u001b[39m=\u001b[39m numpy\u001b[39m.\u001b[39masarray(array, order\u001b[39m=\u001b[39morder, dtype\u001b[39m=\u001b[39mdtype)\n\u001b[0;32m    186\u001b[0m     \u001b[39mreturn\u001b[39;00m xp\u001b[39m.\u001b[39masarray(array, copy\u001b[39m=\u001b[39mcopy)\n\u001b[0;32m    187\u001b[0m \u001b[39melse\u001b[39;00m:\n",
      "\u001b[1;31mValueError\u001b[0m: could not convert string to float: '2009-01-01'"
     ]
    }
   ],
   "source": [
    "X = data.values[:, :-1]\n",
    "y = data.values[:, -1]\n",
    "pca = PCA(n_components=15)\n",
    "pca.fit(X)\n",
    "\n",
    "print(pca.explained_variance_ratio_)\n",
    "\n",
    "X = pca.transform(X)\n",
    "\n",
    "X_train, X_test, y_train, y_test = train_test_split(X, y, train_size=0.7, random_state=278823)"
   ]
  },
  {
   "attachments": {},
   "cell_type": "markdown",
   "metadata": {},
   "source": [
    "creating the neural network"
   ]
  },
  {
   "cell_type": "code",
   "execution_count": null,
   "metadata": {},
   "outputs": [],
   "source": [
    "model = Sequential()\n",
    "model.add(Dense(20, input_dim=X_train.shape[1], activation='relu'))\n",
    "model.add(Dense(1, activation='sigmoid'))"
   ]
  },
  {
   "cell_type": "code",
   "execution_count": null,
   "metadata": {},
   "outputs": [],
   "source": [
    "model.compile(loss='binary_crossentropy', optimizer='adam', metrics=['accuracy'])"
   ]
  },
  {
   "cell_type": "code",
   "execution_count": null,
   "metadata": {},
   "outputs": [],
   "source": [
    "history = model.fit(X_train, y_train, epochs=250, verbose=0, validation_data=(X_test, y_test))"
   ]
  },
  {
   "attachments": {},
   "cell_type": "markdown",
   "metadata": {},
   "source": [
    "accuracy of the neural network"
   ]
  },
  {
   "cell_type": "code",
   "execution_count": null,
   "metadata": {},
   "outputs": [],
   "source": [
    "predictions_train = model.predict(X_train).round()\n",
    "print(accuracy_score(predictions_train, y_train))\n",
    "\n",
    "predictions_test = model.predict(X_test).round()\n",
    "print(accuracy_score(predictions_test, y_test))"
   ]
  },
  {
   "attachments": {},
   "cell_type": "markdown",
   "metadata": {},
   "source": [
    "confusion matrix"
   ]
  },
  {
   "cell_type": "code",
   "execution_count": null,
   "metadata": {},
   "outputs": [],
   "source": [
    "cm = confusion_matrix(y_test, predictions_test)\n",
    "disp = ConfusionMatrixDisplay(confusion_matrix=cm, display_labels=['Rain', 'No Rain'])\n",
    "disp.plot()"
   ]
  },
  {
   "attachments": {},
   "cell_type": "markdown",
   "metadata": {},
   "source": [
    "plotting the model loss"
   ]
  },
  {
   "cell_type": "code",
   "execution_count": null,
   "metadata": {},
   "outputs": [],
   "source": [
    "plt.plot(history.history['loss'])\n",
    "plt.plot(history.history['val_loss'])\n",
    "plt.title('model loss')\n",
    "plt.ylabel('loss')\n",
    "plt.xlabel('epoch')\n",
    "plt.legend(['train', 'test'], loc='upper left')\n",
    "plt.show()"
   ]
  },
  {
   "attachments": {},
   "cell_type": "markdown",
   "metadata": {},
   "source": [
    "tree classifier"
   ]
  },
  {
   "cell_type": "code",
   "execution_count": null,
   "metadata": {},
   "outputs": [],
   "source": [
    "clf = tree.DecisionTreeClassifier()\n",
    "clf = clf.fit(X_train, y_train)\n",
    "\n",
    "tree.plot_tree(clf)"
   ]
  },
  {
   "attachments": {},
   "cell_type": "markdown",
   "metadata": {},
   "source": [
    "accuracy of the tree classifier"
   ]
  },
  {
   "cell_type": "code",
   "execution_count": null,
   "metadata": {},
   "outputs": [],
   "source": [
    "clf.score(X_test, y_test)"
   ]
  },
  {
   "attachments": {},
   "cell_type": "markdown",
   "metadata": {},
   "source": [
    "confusion matrix"
   ]
  },
  {
   "cell_type": "code",
   "execution_count": null,
   "metadata": {},
   "outputs": [],
   "source": [
    "predictions = clf.predict(X_test)\n",
    "cm = confusion_matrix(y_test, predictions)\n",
    "disp = ConfusionMatrixDisplay(confusion_matrix=cm, display_labels=clf.classes_)\n",
    "disp.plot()"
   ]
  },
  {
   "attachments": {},
   "cell_type": "markdown",
   "metadata": {},
   "source": [
    "bayes classifier"
   ]
  },
  {
   "cell_type": "code",
   "execution_count": null,
   "metadata": {},
   "outputs": [],
   "source": [
    "model = GaussianNB()\n",
    "model.fit(X_train, y_train)\n",
    "model.score(X_test, y_test)"
   ]
  },
  {
   "attachments": {},
   "cell_type": "markdown",
   "metadata": {},
   "source": [
    "confusion matrix"
   ]
  },
  {
   "cell_type": "code",
   "execution_count": null,
   "metadata": {},
   "outputs": [],
   "source": [
    "predictions = clf.predict(X_test)\n",
    "cm = confusion_matrix(y_test, predictions)\n",
    "disp = ConfusionMatrixDisplay(confusion_matrix=cm, display_labels=clf.classes_)\n",
    "disp.plot()"
   ]
  },
  {
   "attachments": {},
   "cell_type": "markdown",
   "metadata": {},
   "source": [
    "k nearest neighbors classifier with 3 neighbors"
   ]
  },
  {
   "cell_type": "code",
   "execution_count": null,
   "metadata": {},
   "outputs": [],
   "source": [
    "knn = KNeighborsClassifier(n_neighbors=3, metric='euclidean')\n",
    "knn.fit(X_train, y_train)\n",
    "knn.score(X_test, y_test)"
   ]
  },
  {
   "attachments": {},
   "cell_type": "markdown",
   "metadata": {},
   "source": [
    "confusion matrix"
   ]
  },
  {
   "cell_type": "code",
   "execution_count": null,
   "metadata": {},
   "outputs": [],
   "source": [
    "predictions = clf.predict(X_test)\n",
    "cm = confusion_matrix(y_test, predictions)\n",
    "disp = ConfusionMatrixDisplay(confusion_matrix=cm, display_labels=clf.classes_)\n",
    "disp.plot()"
   ]
  },
  {
   "attachments": {},
   "cell_type": "markdown",
   "metadata": {},
   "source": [
    "The best classifier in our case is: k nearest neighbors classifier with 3 neighbors with a score of 0.8296112489660876"
   ]
  }
 ],
 "metadata": {
  "kernelspec": {
   "display_name": "Python 3.10.2 64-bit",
   "language": "python",
   "name": "python3"
  },
  "language_info": {
   "codemirror_mode": {
    "name": "ipython",
    "version": 3
   },
   "file_extension": ".py",
   "mimetype": "text/x-python",
   "name": "python",
   "nbconvert_exporter": "python",
   "pygments_lexer": "ipython3",
   "version": "3.11.2"
  },
  "orig_nbformat": 4,
  "vscode": {
   "interpreter": {
    "hash": "369f2c481f4da34e4445cda3fffd2e751bd1c4d706f27375911949ba6bb62e1c"
   }
  }
 },
 "nbformat": 4,
 "nbformat_minor": 2
}
