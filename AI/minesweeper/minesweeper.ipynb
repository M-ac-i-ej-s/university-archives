{
 "cells": [
  {
   "cell_type": "code",
   "execution_count": 98,
   "metadata": {},
   "outputs": [],
   "source": [
    "import numpy as np\n",
    "import pygad\n",
    "import copy\n",
    "import random\n",
    "import time\n",
    "from tabulate import tabulate\n",
    "import matplotlib.pyplot as plt\n"
   ]
  },
  {
   "cell_type": "markdown",
   "metadata": {},
   "source": [
    "Minesweeper is a logic puzzle video game genre generally played on personal computers. The game features a grid of clickable squares, with hidden \"mines\" scattered throughout the board. The objective is to clear the board without detonating any mines, with help from clues about the number of neighboring mines in each field."
   ]
  },
  {
   "cell_type": "code",
   "execution_count": 99,
   "metadata": {},
   "outputs": [],
   "source": [
    "\n",
    "# Constants\n",
    "# SMALL 10X10\n",
    "# MEDIUM 20X20\n",
    "# LARGE 30X30\n",
    "\n",
    "BOARD_SIZE = (5, 5) \n",
    "NUM_MINES = 5\n"
   ]
  },
  {
   "cell_type": "code",
   "execution_count": 100,
   "metadata": {},
   "outputs": [],
   "source": [
    "\n",
    "# Function to create a random Minesweeper board\n",
    "def create_board():\n",
    "    board = np.zeros(BOARD_SIZE)\n",
    "    for i in range(NUM_MINES):\n",
    "        x, y = random.randint(0, BOARD_SIZE[0]-1), random.randint(0, BOARD_SIZE[1]-1)\n",
    "        board[x][y] = 1\n",
    "    return board\n",
    "\n",
    "# Function to get the number of mines adjacent to a cell\n",
    "def get_adjacent_mines(board, x, y):\n",
    "    count = 0\n",
    "    for i in range(max(0, x-1), min(x+2, BOARD_SIZE[0])):\n",
    "        for j in range(max(0, y-1), min(y+2, BOARD_SIZE[1])):\n",
    "            if board[i][j] == 1:\n",
    "                count += 1\n",
    "    return count\n",
    "\n",
    "# Function to get the state of the game\n",
    "def get_state(board, revealed):\n",
    "    state = np.zeros(BOARD_SIZE)\n",
    "    for i in range(BOARD_SIZE[0]):\n",
    "        for j in range(BOARD_SIZE[1]):\n",
    "            if revealed[i][j]:\n",
    "                state[i][j] = get_adjacent_mines(board, i, j)\n",
    "            else:\n",
    "                state[i][j] = -1\n",
    "    return state.flatten()\n",
    "\n",
    "# Function to play a move\n",
    "def play_move(board, revealed, x, y):\n",
    "    if board[x][y] == 1:\n",
    "        return -1\n",
    "    else:\n",
    "        revealed[x][y] = True\n",
    "        return 1\n"
   ]
  },
  {
   "cell_type": "markdown",
   "metadata": {},
   "source": [
    "Chromoseome representation is a 2D array of floats with diffrent values, higher the vlaue, higher the chance of being selected\n",
    "as a move to play\n",
    "\n",
    "fitness function generates a gome of minesweeper and an array the same size with True values. Then checks how many mines is around the cell and sets a value of a cell, then \n",
    "it plays a move and checks if the move was correct, if it was correct it adds 1 to the fitness score, if it was incorrect it sets a score to -1 and breaks the loop\n",
    "the best fitness equals to the number of cells on the board"
   ]
  },
  {
   "cell_type": "code",
   "execution_count": 102,
   "metadata": {},
   "outputs": [],
   "source": [
    "\n",
    "# Fitness function for the genetic algorithm\n",
    "def fitness_func(solution, solution_idx):\n",
    "    board = create_board()\n",
    "    revealed = np.zeros(BOARD_SIZE, dtype=bool)\n",
    "    score = 0\n",
    "    for i in range(BOARD_SIZE[0]*BOARD_SIZE[1]):\n",
    "        inputs = get_state(board, revealed)\n",
    "        idx = np.argmax(solution*inputs)\n",
    "        x, y = idx // BOARD_SIZE[1], idx % BOARD_SIZE[1]\n",
    "        result = play_move(board, revealed, x, y)\n",
    "        if result == -1:\n",
    "            score = -1\n",
    "            break\n",
    "        else:\n",
    "            score += result\n",
    "\n",
    "    return score\n"
   ]
  },
  {
   "cell_type": "code",
   "execution_count": 103,
   "metadata": {},
   "outputs": [],
   "source": [
    "\n",
    "# Initialize the genetic algorithm\n",
    "ga_small = pygad.GA(num_generations=50, \n",
    "              num_parents_mating=2, \n",
    "              fitness_func=fitness_func, \n",
    "              sol_per_pop=10, \n",
    "              num_genes=25)\n",
    "\n",
    "ga_mid = pygad.GA(num_generations=150, \n",
    "              num_parents_mating=6, \n",
    "              fitness_func=fitness_func, \n",
    "              sol_per_pop=40, \n",
    "              num_genes=100)\n",
    "\n",
    "ga_big = pygad.GA(num_generations=300, \n",
    "              num_parents_mating=12, \n",
    "              fitness_func=fitness_func, \n",
    "              sol_per_pop=80, \n",
    "              num_genes=225,\n",
    "              stop_criteria=[\"reach_900\"])              \n",
    "\n",
    "ga_small.run()\n",
    "print(ga_small.best_solution())\n"
   ]
  },
  {
   "cell_type": "code",
   "execution_count": 104,
   "metadata": {},
   "outputs": [
    {
     "name": "stdout",
     "output_type": "stream",
     "text": [
      "avg time small:  0.12183620929718017\n",
      "ideal solutions small:  100.0  / 100\n",
      "avg time mid:  4.655235621929169\n",
      "ideal solutions mid:  100.0  / 100\n",
      "avg time big:  47.032124242782594\n",
      "ideal solutions big:  100.0  / 100\n",
      "╒══════════════╤════════════╤═══════════════════╕\n",
      "│ Board size   │   Avg time │ Ideal solutions   │\n",
      "╞══════════════╪════════════╪═══════════════════╡\n",
      "│ 5x5          │   0.121836 │ 100.0 / 100       │\n",
      "├──────────────┼────────────┼───────────────────┤\n",
      "│ 10x10        │   4.65524  │ 100.0 / 100       │\n",
      "├──────────────┼────────────┼───────────────────┤\n",
      "│ 15x15        │  47.0321   │ 100.0 / 100       │\n",
      "╘══════════════╧════════════╧═══════════════════╛\n"
     ]
    },
    {
     "data": {
      "image/png": "[encoded data removed]",
      "text/plain": [
       "<Figure size 640x480 with 1 Axes>"
      ]
     },
     "metadata": {},
     "output_type": "display_data"
    }
   ],
   "source": [
    "times_small = []\n",
    "right_solutios_small = np.zeros(100)\n",
    "\n",
    "for i in range(100):\n",
    "    start = time.time()\n",
    "    ga_small.run()\n",
    "    end = time.time()\n",
    "    if(ga_small.best_solution()[1] == 25):\n",
    "        right_solutios_small[i] = 1\n",
    "        times_small.append(end - start)\n",
    "    else:   \n",
    "        right_solutios_small[i] = 0\n",
    "\n",
    "BOARD_SIZE = (10, 10)\n",
    "NUM_MINES = 10\n",
    "times_mid = []\n",
    "right_solutios_mid = np.zeros(100)\n",
    "\n",
    "for i in range(100):\n",
    "    start = time.time()\n",
    "    ga_mid.run()\n",
    "    end = time.time()\n",
    "    if(ga_mid.best_solution()[1] == 100):\n",
    "        right_solutios_mid[i] = 1\n",
    "        times_mid.append(end - start)\n",
    "    else:   \n",
    "        right_solutios_mid[i] = 0\n",
    "\n",
    "BOARD_SIZE = (15, 15)\n",
    "NUM_MINES = 15\n",
    "times_big = []\n",
    "right_solutios_big = np.zeros(100)\n",
    "\n",
    "for i in range(100):\n",
    "    start = time.time()\n",
    "    ga_big.run()\n",
    "    end = time.time()\n",
    "    if(ga_big.best_solution()[1] == 225):\n",
    "        right_solutios_big[i] = 1\n",
    "        times_big.append(end - start)\n",
    "    else:   \n",
    "        right_solutios_big[i] = 0\n",
    "\n",
    "print(\"avg time small: \", sum(times_small)/len(times_small))\n",
    "print(\"ideal solutions small: \", sum(right_solutios_small), \" / 100\")\n",
    "\n",
    "print(\"avg time mid: \", sum(times_mid)/len(times_mid))\n",
    "print(\"ideal solutions mid: \", sum(right_solutios_mid), \" / 100\")\n",
    "\n",
    "print(\"avg time big: \", sum(times_big)/len(times_big))\n",
    "print(\"ideal solutions big: \", sum(right_solutios_big), \" / 100\")                \n",
    "\n",
    "table = [[\"Board size\", \"Avg time\", \"Ideal solutions\"],\n",
    "        [\"5x5\", sum(times_small)/len(times_small), str(sum(right_solutios_small)) + \" / 100\"],\n",
    "        [\"10x10\", sum(times_mid)/len(times_mid), str(sum(right_solutios_mid)) + \" / 100\"],\n",
    "        [\"15x15\", sum(times_big)/len(times_big), str(sum(right_solutios_big)) + \" / 100\"]]\n",
    "\n",
    "print(tabulate(table, headers=\"firstrow\", tablefmt=\"fancy_grid\"))\n",
    "\n",
    "plt.plot(times_small)\n",
    "plt.plot(times_mid)\n",
    "plt.plot(times_big)\n",
    "plt.legend([\"5x5\", \"10x10\", \"15x15\"])\n",
    "plt.show()\n",
    "\n",
    "\n"
   ]
  }
 ],
 "metadata": {
  "kernelspec": {
   "display_name": "Python 3.10.2 64-bit",
   "language": "python",
   "name": "python3"
  },
  "language_info": {
   "codemirror_mode": {
    "name": "ipython",
    "version": 3
   },
   "file_extension": ".py",
   "mimetype": "text/x-python",
   "name": "python",
   "nbconvert_exporter": "python",
   "pygments_lexer": "ipython3",
   "version": "3.10.2"
  },
  "orig_nbformat": 4,
  "vscode": {
   "interpreter": {
    "hash": "369f2c481f4da34e4445cda3fffd2e751bd1c4d706f27375911949ba6bb62e1c"
   }
  }
 },
 "nbformat": 4,
 "nbformat_minor": 2
}
